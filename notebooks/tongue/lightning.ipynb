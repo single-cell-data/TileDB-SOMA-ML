{
 "cells": [
  {
   "cell_type": "markdown",
   "id": "51b16cb0",
   "metadata": {
    "editable": true,
    "papermill": {
     "duration": 0.002552,
     "end_time": "2024-12-04T22:43:10.533229",
     "exception": false,
     "start_time": "2024-12-04T22:43:10.530677",
     "status": "completed"
    },
    "slideshow": {
     "slide_type": ""
    },
    "tags": []
   },
   "source": [
    "Papermill params:"
   ]
  },
  {
   "cell_type": "code",
   "execution_count": 1,
   "id": "2d420179",
   "metadata": {
    "editable": true,
    "execution": {
     "iopub.execute_input": "2024-12-04T22:43:10.539219Z",
     "iopub.status.busy": "2024-12-04T22:43:10.538804Z",
     "iopub.status.idle": "2024-12-04T22:43:10.542614Z",
     "shell.execute_reply": "2024-12-04T22:43:10.542145Z"
    },
    "papermill": {
     "duration": 0.007936,
     "end_time": "2024-12-04T22:43:10.543654",
     "exception": false,
     "start_time": "2024-12-04T22:43:10.535718",
     "status": "completed"
    },
    "slideshow": {
     "slide_type": ""
    },
    "tags": [
     "parameters"
    ]
   },
   "outputs": [],
   "source": [
    "workers = None\n",
    "lightning = False       # Use PyTorch Lightning\n",
    "tissue = \"tongue\"       # \"tissue_general\" obs filter\n",
    "is_primary_data = True  # Additional obs filter\n",
    "cpu = False             # Force CPU mode\n",
    "census_version = \"2024-07-01\"\n",
    "batch_size = 128\n",
    "shuffle = True\n",
    "learning_rate = 1e-5\n",
    "n_epochs = 20"
   ]
  },
  {
   "cell_type": "code",
   "execution_count": 2,
   "id": "821d5f1c",
   "metadata": {
    "execution": {
     "iopub.execute_input": "2024-12-04T22:43:10.548824Z",
     "iopub.status.busy": "2024-12-04T22:43:10.548571Z",
     "iopub.status.idle": "2024-12-04T22:43:10.551226Z",
     "shell.execute_reply": "2024-12-04T22:43:10.550781Z"
    },
    "papermill": {
     "duration": 0.006375,
     "end_time": "2024-12-04T22:43:10.552210",
     "exception": false,
     "start_time": "2024-12-04T22:43:10.545835",
     "status": "completed"
    },
    "tags": [
     "injected-parameters"
    ]
   },
   "outputs": [],
   "source": [
    "# Parameters\n",
    "tissue = \"tongue\"\n",
    "lightning = True\n"
   ]
  },
  {
   "cell_type": "code",
   "execution_count": 3,
   "id": "872e6da1",
   "metadata": {
    "execution": {
     "iopub.execute_input": "2024-12-04T22:43:10.557348Z",
     "iopub.status.busy": "2024-12-04T22:43:10.557097Z",
     "iopub.status.idle": "2024-12-04T22:43:10.559843Z",
     "shell.execute_reply": "2024-12-04T22:43:10.559405Z"
    },
    "papermill": {
     "duration": 0.006441,
     "end_time": "2024-12-04T22:43:10.560849",
     "exception": false,
     "start_time": "2024-12-04T22:43:10.554408",
     "status": "completed"
    },
    "tags": []
   },
   "outputs": [],
   "source": [
    "from os import environ as env\n",
    "is_papermill = bool(env.get(\"PAPERMILL\"))"
   ]
  },
  {
   "cell_type": "code",
   "execution_count": 4,
   "id": "84045828",
   "metadata": {
    "editable": true,
    "execution": {
     "iopub.execute_input": "2024-12-04T22:43:10.567301Z",
     "iopub.status.busy": "2024-12-04T22:43:10.567049Z",
     "iopub.status.idle": "2024-12-04T22:43:15.410981Z",
     "shell.execute_reply": "2024-12-04T22:43:15.410417Z"
    },
    "papermill": {
     "duration": 4.848978,
     "end_time": "2024-12-04T22:43:15.411977",
     "exception": false,
     "start_time": "2024-12-04T22:43:10.562999",
     "status": "completed"
    },
    "slideshow": {
     "slide_type": ""
    },
    "tags": []
   },
   "outputs": [
    {
     "name": "stderr",
     "output_type": "stream",
     "text": [
      "/home/ubuntu/.pyenv/versions/3.12.7/lib/python3.12/site-packages/torchdata/datapipes/__init__.py:18: UserWarning: \n",
      "################################################################################\n",
      "WARNING!\n",
      "The 'datapipes', 'dataloader2' modules are deprecated and will be removed in a\n",
      "future torchdata release! Please see https://github.com/pytorch/data/issues/1196\n",
      "to learn more and leave feedback.\n",
      "################################################################################\n",
      "\n",
      "  deprecation_warning()\n"
     ]
    },
    {
     "name": "stdout",
     "output_type": "stream",
     "text": [
      "15020 cells, 118 batches\n"
     ]
    }
   ],
   "source": [
    "import tiledbsoma as soma\n",
    "import torch\n",
    "from sklearn.preprocessing import LabelEncoder\n",
    "\n",
    "import tiledbsoma_ml as soma_ml\n",
    "\n",
    "CZI_Census_Homo_Sapiens_URL = f\"s3://cellxgene-census-public-us-west-2/cell-census/{census_version}/soma/census_data/homo_sapiens/\"\n",
    "\n",
    "experiment = soma.open(\n",
    "    CZI_Census_Homo_Sapiens_URL,\n",
    "    context=soma.SOMATileDBContext(tiledb_config={\"vfs.s3.region\": \"us-west-2\"}),\n",
    ")\n",
    "obs_value_filter = f\"tissue_general == '{tissue}'\"\n",
    "if is_primary_data:\n",
    "    obs_value_filter += \" and is_primary_data == True\"\n",
    "\n",
    "iter_cls = soma_ml.ExperimentAxisQueryIterDataPipe if workers is None and not lightning else soma_ml.ExperimentAxisQueryIterableDataset\n",
    "\n",
    "with experiment.axis_query(\n",
    "    measurement_name=\"RNA\", obs_query=soma.AxisQuery(value_filter=obs_value_filter)\n",
    ") as query:\n",
    "    obs_df = query.obs(column_names=[\"cell_type\"]).concat().to_pandas()\n",
    "    cell_type_encoder = LabelEncoder().fit(obs_df[\"cell_type\"].unique())\n",
    "\n",
    "    experiment_dataset = iter_cls(\n",
    "        query,\n",
    "        X_name=\"raw\",\n",
    "        obs_column_names=[\"cell_type\"],\n",
    "        batch_size=batch_size,\n",
    "        shuffle=shuffle,\n",
    "    )\n",
    "\n",
    "print(f'{len(obs_df)} cells, {len(experiment_dataset)} batches')"
   ]
  },
  {
   "cell_type": "code",
   "execution_count": 5,
   "id": "e1d5eac6",
   "metadata": {
    "editable": true,
    "execution": {
     "iopub.execute_input": "2024-12-04T22:43:15.418600Z",
     "iopub.status.busy": "2024-12-04T22:43:15.418057Z",
     "iopub.status.idle": "2024-12-04T22:43:15.449937Z",
     "shell.execute_reply": "2024-12-04T22:43:15.449415Z"
    },
    "papermill": {
     "duration": 0.036008,
     "end_time": "2024-12-04T22:43:15.450804",
     "exception": false,
     "start_time": "2024-12-04T22:43:15.414796",
     "status": "completed"
    },
    "slideshow": {
     "slide_type": ""
    },
    "tags": []
   },
   "outputs": [],
   "source": [
    "# PyTorch\n",
    "class LogisticRegression(torch.nn.Module):\n",
    "    def __init__(self, input_dim, output_dim):\n",
    "        super(LogisticRegression, self).__init__()  # noqa: UP008\n",
    "        self.linear = torch.nn.Linear(input_dim, output_dim)\n",
    "\n",
    "    def forward(self, x):\n",
    "        outputs = torch.sigmoid(self.linear(x))\n",
    "        return outputs\n",
    "    \n",
    "\n",
    "def train_epoch(model, train_dataloader, loss_fn, optimizer, device):\n",
    "    model.train()\n",
    "    train_loss = 0\n",
    "    train_correct = 0\n",
    "    train_total = 0\n",
    "\n",
    "    for X_batch, y_batch in train_dataloader:\n",
    "        optimizer.zero_grad()\n",
    "\n",
    "        X_batch = torch.from_numpy(X_batch).float().to(device)\n",
    "\n",
    "        # Perform prediction\n",
    "        outputs = model(X_batch)\n",
    "\n",
    "        # Determine the predicted label\n",
    "        probabilities = torch.nn.functional.softmax(outputs, 1)\n",
    "        predictions = torch.argmax(probabilities, axis=1)\n",
    "\n",
    "        # Compute the loss and perform back propagation\n",
    "        y_batch = torch.from_numpy(cell_type_encoder.transform(y_batch['cell_type'])).to(device)\n",
    "        train_correct += (predictions == y_batch).sum().item()\n",
    "        train_total += len(predictions)\n",
    "\n",
    "        loss = loss_fn(outputs, y_batch.long())\n",
    "        train_loss += loss.item()\n",
    "        loss.backward()\n",
    "        optimizer.step()\n",
    "\n",
    "    train_loss /= train_total\n",
    "    train_accuracy = train_correct / train_total\n",
    "    return train_loss, train_accuracy"
   ]
  },
  {
   "cell_type": "code",
   "execution_count": 6,
   "id": "7780d1f4",
   "metadata": {
    "editable": true,
    "execution": {
     "iopub.execute_input": "2024-12-04T22:43:15.456500Z",
     "iopub.status.busy": "2024-12-04T22:43:15.456236Z",
     "iopub.status.idle": "2024-12-04T22:43:17.282688Z",
     "shell.execute_reply": "2024-12-04T22:43:17.282084Z"
    },
    "papermill": {
     "duration": 1.830862,
     "end_time": "2024-12-04T22:43:17.284137",
     "exception": false,
     "start_time": "2024-12-04T22:43:15.453275",
     "status": "completed"
    },
    "slideshow": {
     "slide_type": ""
    },
    "tags": []
   },
   "outputs": [],
   "source": [
    "# Lightning\n",
    "import pytorch_lightning as pl\n",
    "\n",
    "class LogisticRegressionLightning(pl.LightningModule):\n",
    "    def __init__(self, input_dim, output_dim, cell_type_encoder, learning_rate=learning_rate):\n",
    "        super(LogisticRegressionLightning, self).__init__()\n",
    "        self.linear = torch.nn.Linear(input_dim, output_dim)\n",
    "        self.cell_type_encoder = cell_type_encoder\n",
    "        self.learning_rate = learning_rate\n",
    "        self.loss_fn = torch.nn.CrossEntropyLoss()\n",
    "\n",
    "    def forward(self, x):\n",
    "        outputs = torch.sigmoid(self.linear(x))\n",
    "        return outputs\n",
    "\n",
    "    def training_step(self, batch, batch_idx):\n",
    "        X_batch, y_batch = batch\n",
    "        # X_batch = X_batch.float()\n",
    "        X_batch = torch.from_numpy(X_batch).float().to(self.device)\n",
    "\n",
    "        # Perform prediction\n",
    "        outputs = self(X_batch)\n",
    "\n",
    "        # Determine the predicted label\n",
    "        probabilities = torch.nn.functional.softmax(outputs, 1)\n",
    "        predictions = torch.argmax(probabilities, axis=1)\n",
    "\n",
    "        # Compute loss\n",
    "        y_batch = torch.from_numpy(\n",
    "            self.cell_type_encoder.transform(y_batch[\"cell_type\"])\n",
    "        ).to(self.device)\n",
    "        loss = self.loss_fn(outputs, y_batch.long())\n",
    "\n",
    "        # Compute accuracy\n",
    "        train_correct = (predictions == y_batch).sum().item()\n",
    "        train_accuracy = train_correct / len(predictions)\n",
    "\n",
    "        # Log loss and accuracy\n",
    "        self.log(\"train_loss\", loss, prog_bar=True)\n",
    "        self.log(\"train_accuracy\", train_accuracy, prog_bar=True)\n",
    "\n",
    "        return loss\n",
    "\n",
    "    def configure_optimizers(self):\n",
    "        optimizer = torch.optim.Adam(self.parameters(), lr=self.learning_rate)\n",
    "        return optimizer"
   ]
  },
  {
   "cell_type": "code",
   "execution_count": 7,
   "id": "cd77f9ef",
   "metadata": {
    "editable": true,
    "execution": {
     "iopub.execute_input": "2024-12-04T22:43:17.291143Z",
     "iopub.status.busy": "2024-12-04T22:43:17.290515Z",
     "iopub.status.idle": "2024-12-04T22:43:17.368092Z",
     "shell.execute_reply": "2024-12-04T22:43:17.367586Z"
    },
    "papermill": {
     "duration": 0.082037,
     "end_time": "2024-12-04T22:43:17.369008",
     "exception": false,
     "start_time": "2024-12-04T22:43:17.286971",
     "status": "completed"
    },
    "slideshow": {
     "slide_type": ""
    },
    "tags": []
   },
   "outputs": [
    {
     "name": "stderr",
     "output_type": "stream",
     "text": [
      "GPU available: True (cuda), used: True\n"
     ]
    },
    {
     "name": "stderr",
     "output_type": "stream",
     "text": [
      "TPU available: False, using: 0 TPU cores\n"
     ]
    },
    {
     "name": "stderr",
     "output_type": "stream",
     "text": [
      "HPU available: False, using: 0 HPUs\n"
     ]
    },
    {
     "name": "stderr",
     "output_type": "stream",
     "text": [
      "/home/ubuntu/.pyenv/versions/3.12.7/lib/python3.12/site-packages/pytorch_lightning/trainer/connectors/logger_connector/logger_connector.py:75: Starting from v1.9.0, `tensorboardX` has been removed as a dependency of the `pytorch_lightning` package, due to potential conflicts with other packages in the ML ecosystem. For this reason, `logger=True` will use `CSVLogger` as the default logger, unless the `tensorboard` or `tensorboardX` packages are found. Please `pip install lightning[extra]` or one of them to enable TensorBoard support by default\n"
     ]
    }
   ],
   "source": [
    "if cpu or not torch.cuda.is_available():\n",
    "    device = \"cpu\"\n",
    "else:\n",
    "    device = \"cuda\"\n",
    "device = torch.device(device)\n",
    "input_dim = experiment_dataset.shape[1]\n",
    "output_dim = len(cell_type_encoder.classes_)\n",
    "\n",
    "dl_kwargs = {} if workers is None else dict(num_workers=workers, persistent_workers=True)\n",
    "train_dataloader = soma_ml.experiment_dataloader(experiment_dataset, **dl_kwargs)\n",
    "\n",
    "if lightning:\n",
    "    model = LogisticRegressionLightning(input_dim, output_dim, cell_type_encoder=cell_type_encoder)\n",
    "    trainer = pl.Trainer(\n",
    "        max_epochs=n_epochs,\n",
    "        strategy=\"auto\" if cpu else \"ddp_notebook\",\n",
    "        accelerator=\"cpu\" if cpu else \"gpu\",\n",
    "        devices=1 if cpu else workers or 1,\n",
    "        sync_batchnorm=True if not cpu and workers and workers > 1 else False,\n",
    "        deterministic=True,\n",
    "        max_time=None,\n",
    "        enable_progress_bar=not is_papermill,\n",
    "    )\n",
    "    torch.set_float32_matmul_precision(\"high\")\n",
    "else:\n",
    "    model = LogisticRegression(input_dim, output_dim).to(device)\n",
    "    loss_fn = torch.nn.CrossEntropyLoss()\n",
    "    optimizer = torch.optim.Adam(model.parameters(), lr=learning_rate)"
   ]
  },
  {
   "cell_type": "code",
   "execution_count": 8,
   "id": "e322c32d",
   "metadata": {
    "editable": true,
    "execution": {
     "iopub.execute_input": "2024-12-04T22:43:17.375621Z",
     "iopub.status.busy": "2024-12-04T22:43:17.375323Z",
     "iopub.status.idle": "2024-12-04T22:45:39.975723Z",
     "shell.execute_reply": "2024-12-04T22:45:39.974901Z"
    },
    "papermill": {
     "duration": 142.604984,
     "end_time": "2024-12-04T22:45:39.976745",
     "exception": false,
     "start_time": "2024-12-04T22:43:17.371761",
     "status": "completed"
    },
    "slideshow": {
     "slide_type": ""
    },
    "tags": []
   },
   "outputs": [
    {
     "name": "stderr",
     "output_type": "stream",
     "text": [
      "Initializing distributed: GLOBAL_RANK: 0, MEMBER: 1/1\n"
     ]
    },
    {
     "name": "stderr",
     "output_type": "stream",
     "text": [
      "----------------------------------------------------------------------------------------------------\n",
      "distributed_backend=nccl\n",
      "All distributed processes registered. Starting with 1 processes\n",
      "----------------------------------------------------------------------------------------------------\n",
      "\n"
     ]
    },
    {
     "name": "stderr",
     "output_type": "stream",
     "text": [
      "LOCAL_RANK: 0 - CUDA_VISIBLE_DEVICES: [0,1,2,3]\n"
     ]
    },
    {
     "name": "stderr",
     "output_type": "stream",
     "text": [
      "\n",
      "  | Name    | Type             | Params | Mode \n",
      "-----------------------------------------------------\n",
      "0 | linear  | Linear           | 726 K  | train\n",
      "1 | loss_fn | CrossEntropyLoss | 0      | train\n",
      "-----------------------------------------------------\n",
      "726 K     Trainable params\n",
      "0         Non-trainable params\n",
      "726 K     Total params\n",
      "2.905     Total estimated model params size (MB)\n",
      "2         Modules in train mode\n",
      "0         Modules in eval mode\n"
     ]
    },
    {
     "name": "stderr",
     "output_type": "stream",
     "text": [
      "/home/ubuntu/.pyenv/versions/3.12.7/lib/python3.12/site-packages/pytorch_lightning/trainer/connectors/data_connector.py:424: The 'train_dataloader' does not have many workers which may be a bottleneck. Consider increasing the value of the `num_workers` argument` to `num_workers=47` in the `DataLoader` to improve performance.\n"
     ]
    },
    {
     "name": "stderr",
     "output_type": "stream",
     "text": [
      "/home/ubuntu/.pyenv/versions/3.12.7/lib/python3.12/site-packages/pytorch_lightning/utilities/data.py:122: Your `IterableDataset` has `__len__` defined. In combination with multi-process data loading (when num_workers > 1), `__len__` could be inaccurate if each worker is not configured independently to avoid having duplicate data.\n"
     ]
    },
    {
     "data": {
      "application/vnd.jupyter.widget-view+json": {
       "model_id": "87cb0dbc92f34470b24543ba7a43e309",
       "version_major": 2,
       "version_minor": 0
      },
      "text/plain": [
       "Training: |                                                                                                   …"
      ]
     },
     "metadata": {},
     "output_type": "display_data"
    },
    {
     "name": "stderr",
     "output_type": "stream",
     "text": [
      "`Trainer.fit` stopped: `max_epochs=20` reached.\n"
     ]
    },
    {
     "name": "stdout",
     "output_type": "stream",
     "text": [
      "CPU times: user 3.17 s, sys: 1.21 s, total: 4.37 s\n",
      "Wall time: 2min 22s\n"
     ]
    }
   ],
   "source": [
    "%%time\n",
    "if lightning:\n",
    "    trainer.fit(model, train_dataloaders=train_dataloader)\n",
    "else:\n",
    "    for epoch in range(n_epochs):\n",
    "        if workers is not None:\n",
    "            experiment_dataset.set_epoch(epoch)\n",
    "        train_loss, train_accuracy = train_epoch(model, train_dataloader, loss_fn, optimizer, device)\n",
    "        print(f\"Epoch {epoch + 1}: Train Loss: {train_loss:.7f} Accuracy {train_accuracy:.4f}\")"
   ]
  },
  {
   "cell_type": "code",
   "execution_count": 9,
   "id": "734b31b2",
   "metadata": {
    "editable": true,
    "execution": {
     "iopub.execute_input": "2024-12-04T22:45:39.985221Z",
     "iopub.status.busy": "2024-12-04T22:45:39.984894Z",
     "iopub.status.idle": "2024-12-04T22:45:50.234006Z",
     "shell.execute_reply": "2024-12-04T22:45:50.233051Z"
    },
    "papermill": {
     "duration": 10.256627,
     "end_time": "2024-12-04T22:45:50.237160",
     "exception": false,
     "start_time": "2024-12-04T22:45:39.980533",
     "status": "completed"
    },
    "slideshow": {
     "slide_type": ""
    },
    "tags": []
   },
   "outputs": [],
   "source": [
    "# TODO: split train/test\n",
    "test_dataloader = soma_ml.experiment_dataloader(experiment_dataset, **dl_kwargs)\n",
    "X_batch, y_batch = next(iter(test_dataloader))\n",
    "X_batch = torch.from_numpy(X_batch)\n",
    "y_batch = torch.from_numpy(cell_type_encoder.transform(y_batch['cell_type']))"
   ]
  },
  {
   "cell_type": "code",
   "execution_count": 10,
   "id": "fb679ce3",
   "metadata": {
    "editable": true,
    "execution": {
     "iopub.execute_input": "2024-12-04T22:45:50.245520Z",
     "iopub.status.busy": "2024-12-04T22:45:50.245187Z",
     "iopub.status.idle": "2024-12-04T22:45:50.665625Z",
     "shell.execute_reply": "2024-12-04T22:45:50.665039Z"
    },
    "papermill": {
     "duration": 0.425607,
     "end_time": "2024-12-04T22:45:50.666673",
     "exception": false,
     "start_time": "2024-12-04T22:45:50.241066",
     "status": "completed"
    },
    "slideshow": {
     "slide_type": ""
    },
    "tags": []
   },
   "outputs": [
    {
     "name": "stdout",
     "output_type": "stream",
     "text": [
      "Accuracy: 98.4% (126 correct, 2 incorrect)\n"
     ]
    },
    {
     "data": {
      "text/html": [
       "<div>\n",
       "<style scoped>\n",
       "    .dataframe tbody tr th:only-of-type {\n",
       "        vertical-align: middle;\n",
       "    }\n",
       "\n",
       "    .dataframe tbody tr th {\n",
       "        vertical-align: top;\n",
       "    }\n",
       "\n",
       "    .dataframe thead th {\n",
       "        text-align: right;\n",
       "    }\n",
       "</style>\n",
       "<table border=\"1\" class=\"dataframe\">\n",
       "  <thead>\n",
       "    <tr style=\"text-align: right;\">\n",
       "      <th>predicted cell type</th>\n",
       "      <th>basal cell</th>\n",
       "      <th>capillary endothelial cell</th>\n",
       "      <th>epithelial cell</th>\n",
       "      <th>keratinocyte</th>\n",
       "      <th>leukocyte</th>\n",
       "      <th>vein endothelial cell</th>\n",
       "    </tr>\n",
       "    <tr>\n",
       "      <th>actual cell type</th>\n",
       "      <th></th>\n",
       "      <th></th>\n",
       "      <th></th>\n",
       "      <th></th>\n",
       "      <th></th>\n",
       "      <th></th>\n",
       "    </tr>\n",
       "  </thead>\n",
       "  <tbody>\n",
       "    <tr>\n",
       "      <th>basal cell</th>\n",
       "      <td>51</td>\n",
       "      <td></td>\n",
       "      <td>1</td>\n",
       "      <td></td>\n",
       "      <td></td>\n",
       "      <td></td>\n",
       "    </tr>\n",
       "    <tr>\n",
       "      <th>capillary endothelial cell</th>\n",
       "      <td></td>\n",
       "      <td>3</td>\n",
       "      <td></td>\n",
       "      <td></td>\n",
       "      <td></td>\n",
       "      <td></td>\n",
       "    </tr>\n",
       "    <tr>\n",
       "      <th>epithelial cell</th>\n",
       "      <td></td>\n",
       "      <td></td>\n",
       "      <td>23</td>\n",
       "      <td></td>\n",
       "      <td></td>\n",
       "      <td></td>\n",
       "    </tr>\n",
       "    <tr>\n",
       "      <th>keratinocyte</th>\n",
       "      <td>1</td>\n",
       "      <td></td>\n",
       "      <td></td>\n",
       "      <td>24</td>\n",
       "      <td></td>\n",
       "      <td></td>\n",
       "    </tr>\n",
       "    <tr>\n",
       "      <th>leukocyte</th>\n",
       "      <td></td>\n",
       "      <td></td>\n",
       "      <td></td>\n",
       "      <td></td>\n",
       "      <td>22</td>\n",
       "      <td></td>\n",
       "    </tr>\n",
       "    <tr>\n",
       "      <th>vein endothelial cell</th>\n",
       "      <td></td>\n",
       "      <td></td>\n",
       "      <td></td>\n",
       "      <td></td>\n",
       "      <td></td>\n",
       "      <td>3</td>\n",
       "    </tr>\n",
       "  </tbody>\n",
       "</table>\n",
       "</div>"
      ],
      "text/plain": [
       "predicted cell type        basal cell capillary endothelial cell  \\\n",
       "actual cell type                                                   \n",
       "basal cell                         51                              \n",
       "capillary endothelial cell                                     3   \n",
       "epithelial cell                                                    \n",
       "keratinocyte                        1                              \n",
       "leukocyte                                                          \n",
       "vein endothelial cell                                              \n",
       "\n",
       "predicted cell type        epithelial cell keratinocyte leukocyte  \\\n",
       "actual cell type                                                    \n",
       "basal cell                               1                          \n",
       "capillary endothelial cell                                          \n",
       "epithelial cell                         23                          \n",
       "keratinocyte                                         24             \n",
       "leukocyte                                                      22   \n",
       "vein endothelial cell                                               \n",
       "\n",
       "predicted cell type        vein endothelial cell  \n",
       "actual cell type                                  \n",
       "basal cell                                        \n",
       "capillary endothelial cell                        \n",
       "epithelial cell                                   \n",
       "keratinocyte                                      \n",
       "leukocyte                                         \n",
       "vein endothelial cell                          3  "
      ]
     },
     "execution_count": 10,
     "metadata": {},
     "output_type": "execute_result"
    }
   ],
   "source": [
    "import pandas as pd\n",
    "\n",
    "model.eval()\n",
    "model.to(device)\n",
    "outputs = model(X_batch.to(device))\n",
    "probabilities = torch.nn.functional.softmax(outputs, 1)\n",
    "predictions = torch.argmax(probabilities, axis=1)\n",
    "predicted_cell_types = cell_type_encoder.inverse_transform(predictions.cpu())\n",
    "\n",
    "cmp_df = pd.DataFrame({\n",
    "    \"actual cell type\": cell_type_encoder.inverse_transform(y_batch.ravel().numpy()),\n",
    "    \"predicted cell type\": predicted_cell_types,\n",
    "})\n",
    "right, wrong = (cmp_df['actual cell type'] == cmp_df['predicted cell type']).value_counts().values\n",
    "print('Accuracy: %.1f%% (%d correct, %d incorrect)' % (100 * right / len(cmp_df), right, wrong))\n",
    "pd.crosstab(cmp_df['actual cell type'], cmp_df['predicted cell type']).replace(0, '')"
   ]
  },
  {
   "cell_type": "markdown",
   "source": [
    "\tCommand being timed: \"papermill -p tissue tongue -p lightning True benchmark.ipynb tongue/lightning.ipynb\"\n",
    "\tUser time (seconds): 284.35\n",
    "\tSystem time (seconds): 127.24\n",
    "\tPercent of CPU this job got: 251%\n",
    "\tElapsed (wall clock) time (h:mm:ss or m:ss): 2:43.80\n",
    "\tAverage shared text size (kbytes): 0\n",
    "\tAverage unshared data size (kbytes): 0\n",
    "\tAverage stack size (kbytes): 0\n",
    "\tAverage total size (kbytes): 0\n",
    "\tMaximum resident set size (kbytes): 6627924\n",
    "\tAverage resident set size (kbytes): 0\n",
    "\tMajor (requiring I/O) page faults: 0\n",
    "\tMinor (reclaiming a frame) page faults: 18217657\n",
    "\tVoluntary context switches: 544861\n",
    "\tInvoluntary context switches: 10606\n",
    "\tSwaps: 0\n",
    "\tFile system inputs: 8\n",
    "\tFile system outputs: 348336\n",
    "\tSocket messages sent: 0\n",
    "\tSocket messages received: 0\n",
    "\tSignals delivered: 0\n",
    "\tPage size (bytes): 4096\n",
    "\tExit status: 0\n"
   ],
   "metadata": {}
  }
 ],
 "metadata": {
  "kernelspec": {
   "display_name": "Python 3 (ipykernel)",
   "language": "python",
   "name": "python3"
  },
  "language_info": {
   "codemirror_mode": {
    "name": "ipython",
    "version": 3
   },
   "file_extension": ".py",
   "mimetype": "text/x-python",
   "name": "python",
   "nbconvert_exporter": "python",
   "pygments_lexer": "ipython3",
   "version": "3.12.7"
  },
  "papermill": {
   "default_parameters": {},
   "duration": 162.970719,
   "end_time": "2024-12-04T22:45:52.391788",
   "environment_variables": {},
   "exception": null,
   "input_path": "benchmark.ipynb",
   "output_path": "tongue/lightning.ipynb",
   "parameters": {
    "lightning": true,
    "tissue": "tongue"
   },
   "start_time": "2024-12-04T22:43:09.421069",
   "version": "2.6.0"
  },
  "widgets": {
   "application/vnd.jupyter.widget-state+json": {
    "state": {
     "03b031b94b864e28be3c1f22e60e8a23": {
      "model_module": "@jupyter-widgets/controls",
      "model_module_version": "2.0.0",
      "model_name": "FloatProgressModel",
      "state": {
       "_dom_classes": [],
       "_model_module": "@jupyter-widgets/controls",
       "_model_module_version": "2.0.0",
       "_model_name": "FloatProgressModel",
       "_view_count": null,
       "_view_module": "@jupyter-widgets/controls",
       "_view_module_version": "2.0.0",
       "_view_name": "ProgressView",
       "bar_style": "success",
       "description": "",
       "description_allow_html": false,
       "layout": "IPY_MODEL_0f6719b911e3413cb16ef29c82f26fc8",
       "max": 118.0,
       "min": 0.0,
       "orientation": "horizontal",
       "style": "IPY_MODEL_1b0a6552dcde4e6088171f640c173d89",
       "tabbable": null,
       "tooltip": null,
       "value": 118.0
      }
     },
     "0f6719b911e3413cb16ef29c82f26fc8": {
      "model_module": "@jupyter-widgets/base",
      "model_module_version": "2.0.0",
      "model_name": "LayoutModel",
      "state": {
       "_model_module": "@jupyter-widgets/base",
       "_model_module_version": "2.0.0",
       "_model_name": "LayoutModel",
       "_view_count": null,
       "_view_module": "@jupyter-widgets/base",
       "_view_module_version": "2.0.0",
       "_view_name": "LayoutView",
       "align_content": null,
       "align_items": null,
       "align_self": null,
       "border_bottom": null,
       "border_left": null,
       "border_right": null,
       "border_top": null,
       "bottom": null,
       "display": null,
       "flex": "2",
       "flex_flow": null,
       "grid_area": null,
       "grid_auto_columns": null,
       "grid_auto_flow": null,
       "grid_auto_rows": null,
       "grid_column": null,
       "grid_gap": null,
       "grid_row": null,
       "grid_template_areas": null,
       "grid_template_columns": null,
       "grid_template_rows": null,
       "height": null,
       "justify_content": null,
       "justify_items": null,
       "left": null,
       "margin": null,
       "max_height": null,
       "max_width": null,
       "min_height": null,
       "min_width": null,
       "object_fit": null,
       "object_position": null,
       "order": null,
       "overflow": null,
       "padding": null,
       "right": null,
       "top": null,
       "visibility": null,
       "width": null
      }
     },
     "1b0a6552dcde4e6088171f640c173d89": {
      "model_module": "@jupyter-widgets/controls",
      "model_module_version": "2.0.0",
      "model_name": "ProgressStyleModel",
      "state": {
       "_model_module": "@jupyter-widgets/controls",
       "_model_module_version": "2.0.0",
       "_model_name": "ProgressStyleModel",
       "_view_count": null,
       "_view_module": "@jupyter-widgets/base",
       "_view_module_version": "2.0.0",
       "_view_name": "StyleView",
       "bar_color": null,
       "description_width": ""
      }
     },
     "2b8f186ba1fd42068bd0a19c8a384d8e": {
      "model_module": "@jupyter-widgets/base",
      "model_module_version": "2.0.0",
      "model_name": "LayoutModel",
      "state": {
       "_model_module": "@jupyter-widgets/base",
       "_model_module_version": "2.0.0",
       "_model_name": "LayoutModel",
       "_view_count": null,
       "_view_module": "@jupyter-widgets/base",
       "_view_module_version": "2.0.0",
       "_view_name": "LayoutView",
       "align_content": null,
       "align_items": null,
       "align_self": null,
       "border_bottom": null,
       "border_left": null,
       "border_right": null,
       "border_top": null,
       "bottom": null,
       "display": null,
       "flex": null,
       "flex_flow": null,
       "grid_area": null,
       "grid_auto_columns": null,
       "grid_auto_flow": null,
       "grid_auto_rows": null,
       "grid_column": null,
       "grid_gap": null,
       "grid_row": null,
       "grid_template_areas": null,
       "grid_template_columns": null,
       "grid_template_rows": null,
       "height": null,
       "justify_content": null,
       "justify_items": null,
       "left": null,
       "margin": null,
       "max_height": null,
       "max_width": null,
       "min_height": null,
       "min_width": null,
       "object_fit": null,
       "object_position": null,
       "order": null,
       "overflow": null,
       "padding": null,
       "right": null,
       "top": null,
       "visibility": null,
       "width": null
      }
     },
     "38660cc1a9c04e0bbb13d06e016f9f72": {
      "model_module": "@jupyter-widgets/controls",
      "model_module_version": "2.0.0",
      "model_name": "HTMLModel",
      "state": {
       "_dom_classes": [],
       "_model_module": "@jupyter-widgets/controls",
       "_model_module_version": "2.0.0",
       "_model_name": "HTMLModel",
       "_view_count": null,
       "_view_module": "@jupyter-widgets/controls",
       "_view_module_version": "2.0.0",
       "_view_name": "HTMLView",
       "description": "",
       "description_allow_html": false,
       "layout": "IPY_MODEL_ffb510040478462fbfd75d2a93aaafb5",
       "placeholder": "​",
       "style": "IPY_MODEL_f94f313410ef4f2dac9fb096b270ec2a",
       "tabbable": null,
       "tooltip": null,
       "value": " 118/118 [00:06&lt;00:00, 17.56it/s, v_num=23, train_loss=1.640, train_accuracy=1.000]"
      }
     },
     "60642d901347400c825970e4d8b10c57": {
      "model_module": "@jupyter-widgets/controls",
      "model_module_version": "2.0.0",
      "model_name": "HTMLStyleModel",
      "state": {
       "_model_module": "@jupyter-widgets/controls",
       "_model_module_version": "2.0.0",
       "_model_name": "HTMLStyleModel",
       "_view_count": null,
       "_view_module": "@jupyter-widgets/base",
       "_view_module_version": "2.0.0",
       "_view_name": "StyleView",
       "background": null,
       "description_width": "",
       "font_size": null,
       "text_color": null
      }
     },
     "87cb0dbc92f34470b24543ba7a43e309": {
      "model_module": "@jupyter-widgets/controls",
      "model_module_version": "2.0.0",
      "model_name": "HBoxModel",
      "state": {
       "_dom_classes": [],
       "_model_module": "@jupyter-widgets/controls",
       "_model_module_version": "2.0.0",
       "_model_name": "HBoxModel",
       "_view_count": null,
       "_view_module": "@jupyter-widgets/controls",
       "_view_module_version": "2.0.0",
       "_view_name": "HBoxView",
       "box_style": "",
       "children": [
        "IPY_MODEL_ed7d755d90c8496abbf1829209f9a084",
        "IPY_MODEL_03b031b94b864e28be3c1f22e60e8a23",
        "IPY_MODEL_38660cc1a9c04e0bbb13d06e016f9f72"
       ],
       "layout": "IPY_MODEL_935ad9080f80460d91cf6482a9ff0832",
       "tabbable": null,
       "tooltip": null
      }
     },
     "935ad9080f80460d91cf6482a9ff0832": {
      "model_module": "@jupyter-widgets/base",
      "model_module_version": "2.0.0",
      "model_name": "LayoutModel",
      "state": {
       "_model_module": "@jupyter-widgets/base",
       "_model_module_version": "2.0.0",
       "_model_name": "LayoutModel",
       "_view_count": null,
       "_view_module": "@jupyter-widgets/base",
       "_view_module_version": "2.0.0",
       "_view_name": "LayoutView",
       "align_content": null,
       "align_items": null,
       "align_self": null,
       "border_bottom": null,
       "border_left": null,
       "border_right": null,
       "border_top": null,
       "bottom": null,
       "display": "inline-flex",
       "flex": null,
       "flex_flow": "row wrap",
       "grid_area": null,
       "grid_auto_columns": null,
       "grid_auto_flow": null,
       "grid_auto_rows": null,
       "grid_column": null,
       "grid_gap": null,
       "grid_row": null,
       "grid_template_areas": null,
       "grid_template_columns": null,
       "grid_template_rows": null,
       "height": null,
       "justify_content": null,
       "justify_items": null,
       "left": null,
       "margin": null,
       "max_height": null,
       "max_width": null,
       "min_height": null,
       "min_width": null,
       "object_fit": null,
       "object_position": null,
       "order": null,
       "overflow": null,
       "padding": null,
       "right": null,
       "top": null,
       "visibility": null,
       "width": "100%"
      }
     },
     "ed7d755d90c8496abbf1829209f9a084": {
      "model_module": "@jupyter-widgets/controls",
      "model_module_version": "2.0.0",
      "model_name": "HTMLModel",
      "state": {
       "_dom_classes": [],
       "_model_module": "@jupyter-widgets/controls",
       "_model_module_version": "2.0.0",
       "_model_name": "HTMLModel",
       "_view_count": null,
       "_view_module": "@jupyter-widgets/controls",
       "_view_module_version": "2.0.0",
       "_view_name": "HTMLView",
       "description": "",
       "description_allow_html": false,
       "layout": "IPY_MODEL_2b8f186ba1fd42068bd0a19c8a384d8e",
       "placeholder": "​",
       "style": "IPY_MODEL_60642d901347400c825970e4d8b10c57",
       "tabbable": null,
       "tooltip": null,
       "value": "Epoch 19: 100%"
      }
     },
     "f94f313410ef4f2dac9fb096b270ec2a": {
      "model_module": "@jupyter-widgets/controls",
      "model_module_version": "2.0.0",
      "model_name": "HTMLStyleModel",
      "state": {
       "_model_module": "@jupyter-widgets/controls",
       "_model_module_version": "2.0.0",
       "_model_name": "HTMLStyleModel",
       "_view_count": null,
       "_view_module": "@jupyter-widgets/base",
       "_view_module_version": "2.0.0",
       "_view_name": "StyleView",
       "background": null,
       "description_width": "",
       "font_size": null,
       "text_color": null
      }
     },
     "ffb510040478462fbfd75d2a93aaafb5": {
      "model_module": "@jupyter-widgets/base",
      "model_module_version": "2.0.0",
      "model_name": "LayoutModel",
      "state": {
       "_model_module": "@jupyter-widgets/base",
       "_model_module_version": "2.0.0",
       "_model_name": "LayoutModel",
       "_view_count": null,
       "_view_module": "@jupyter-widgets/base",
       "_view_module_version": "2.0.0",
       "_view_name": "LayoutView",
       "align_content": null,
       "align_items": null,
       "align_self": null,
       "border_bottom": null,
       "border_left": null,
       "border_right": null,
       "border_top": null,
       "bottom": null,
       "display": null,
       "flex": null,
       "flex_flow": null,
       "grid_area": null,
       "grid_auto_columns": null,
       "grid_auto_flow": null,
       "grid_auto_rows": null,
       "grid_column": null,
       "grid_gap": null,
       "grid_row": null,
       "grid_template_areas": null,
       "grid_template_columns": null,
       "grid_template_rows": null,
       "height": null,
       "justify_content": null,
       "justify_items": null,
       "left": null,
       "margin": null,
       "max_height": null,
       "max_width": null,
       "min_height": null,
       "min_width": null,
       "object_fit": null,
       "object_position": null,
       "order": null,
       "overflow": null,
       "padding": null,
       "right": null,
       "top": null,
       "visibility": null,
       "width": null
      }
     }
    },
    "version_major": 2,
    "version_minor": 0
   }
  }
 },
 "nbformat": 4,
 "nbformat_minor": 5
}