{
 "cells": [
  {
   "cell_type": "markdown",
   "id": "1ff415f8",
   "metadata": {
    "editable": true,
    "papermill": {
     "duration": 0.002445,
     "end_time": "2024-12-04T04:02:18.377049",
     "exception": false,
     "start_time": "2024-12-04T04:02:18.374604",
     "status": "completed"
    },
    "slideshow": {
     "slide_type": ""
    },
    "tags": []
   },
   "source": [
    "Papermill params:"
   ]
  },
  {
   "cell_type": "code",
   "execution_count": 1,
   "id": "e804935a",
   "metadata": {
    "editable": true,
    "execution": {
     "iopub.execute_input": "2024-12-04T04:02:18.382601Z",
     "iopub.status.busy": "2024-12-04T04:02:18.382308Z",
     "iopub.status.idle": "2024-12-04T04:02:18.386245Z",
     "shell.execute_reply": "2024-12-04T04:02:18.385781Z"
    },
    "papermill": {
     "duration": 0.008011,
     "end_time": "2024-12-04T04:02:18.387392",
     "exception": false,
     "start_time": "2024-12-04T04:02:18.379381",
     "status": "completed"
    },
    "slideshow": {
     "slide_type": ""
    },
    "tags": [
     "parameters"
    ]
   },
   "outputs": [],
   "source": [
    "workers = None\n",
    "lightning = False       # Use PyTorch Lightning\n",
    "tissue = \"tongue\"       # \"tissue_general\" obs filter\n",
    "is_primary_data = True  # Additional obs filter\n",
    "cpu = False             # Force CPU mode\n",
    "census_version = \"2024-07-01\"\n",
    "batch_size = 128\n",
    "shuffle = True\n",
    "learning_rate = 1e-5\n",
    "n_epochs = 20\n",
    "train_split = 0.8\n",
    "split_seed = 1"
   ]
  },
  {
   "cell_type": "code",
   "execution_count": 2,
   "id": "15d33b16",
   "metadata": {
    "execution": {
     "iopub.execute_input": "2024-12-04T04:02:18.392388Z",
     "iopub.status.busy": "2024-12-04T04:02:18.392108Z",
     "iopub.status.idle": "2024-12-04T04:02:18.394814Z",
     "shell.execute_reply": "2024-12-04T04:02:18.394355Z"
    },
    "papermill": {
     "duration": 0.006356,
     "end_time": "2024-12-04T04:02:18.395849",
     "exception": false,
     "start_time": "2024-12-04T04:02:18.389493",
     "status": "completed"
    },
    "tags": [
     "injected-parameters"
    ]
   },
   "outputs": [],
   "source": [
    "# Parameters\n",
    "tissue = \"tongue\"\n",
    "cpu = True\n"
   ]
  },
  {
   "cell_type": "code",
   "execution_count": 3,
   "id": "ef3bdb45",
   "metadata": {
    "editable": true,
    "execution": {
     "iopub.execute_input": "2024-12-04T04:02:18.400861Z",
     "iopub.status.busy": "2024-12-04T04:02:18.400609Z",
     "iopub.status.idle": "2024-12-04T04:02:22.210681Z",
     "shell.execute_reply": "2024-12-04T04:02:22.209671Z"
    },
    "papermill": {
     "duration": 3.814156,
     "end_time": "2024-12-04T04:02:22.212086",
     "exception": false,
     "start_time": "2024-12-04T04:02:18.397930",
     "status": "completed"
    },
    "slideshow": {
     "slide_type": ""
    },
    "tags": []
   },
   "outputs": [
    {
     "name": "stderr",
     "output_type": "stream",
     "text": [
      "/home/ubuntu/.pyenv/versions/3.12.7/lib/python3.12/site-packages/torchdata/datapipes/__init__.py:18: UserWarning: \n",
      "################################################################################\n",
      "WARNING!\n",
      "The 'datapipes', 'dataloader2' modules are deprecated and will be removed in a\n",
      "future torchdata release! Please see https://github.com/pytorch/data/issues/1196\n",
      "to learn more and leave feedback.\n",
      "################################################################################\n",
      "\n",
      "  deprecation_warning()\n"
     ]
    }
   ],
   "source": [
    "import tiledbsoma as soma\n",
    "import torch\n",
    "from sklearn.preprocessing import LabelEncoder\n",
    "\n",
    "import tiledbsoma_ml as soma_ml\n",
    "\n",
    "CZI_Census_Homo_Sapiens_URL = f\"s3://cellxgene-census-public-us-west-2/cell-census/{census_version}/soma/census_data/homo_sapiens/\"\n",
    "\n",
    "experiment = soma.open(\n",
    "    CZI_Census_Homo_Sapiens_URL,\n",
    "    context=soma.SOMATileDBContext(tiledb_config={\"vfs.s3.region\": \"us-west-2\"}),\n",
    ")\n",
    "obs_value_filter = f\"tissue_general == '{tissue}'\"\n",
    "if is_primary_data:\n",
    "    obs_value_filter += \" and is_primary_data == True\"\n",
    "\n",
    "iter_cls = soma_ml.ExperimentAxisQueryIterDataPipe if workers is None and not lightning else soma_ml.ExperimentAxisQueryIterableDataset\n",
    "\n",
    "with experiment.axis_query(\n",
    "    measurement_name=\"RNA\", obs_query=soma.AxisQuery(value_filter=obs_value_filter)\n",
    ") as query:\n",
    "    obs_df = query.obs(column_names=[\"cell_type\"]).concat().to_pandas()\n",
    "    cell_type_encoder = LabelEncoder().fit(obs_df[\"cell_type\"].unique())\n",
    "\n",
    "    experiment_dataset = iter_cls(\n",
    "        query,\n",
    "        X_name=\"raw\",\n",
    "        obs_column_names=[\"cell_type\"],\n",
    "        batch_size=batch_size,\n",
    "        shuffle=shuffle,\n",
    "    )"
   ]
  },
  {
   "cell_type": "code",
   "execution_count": 4,
   "id": "db355713",
   "metadata": {
    "editable": true,
    "execution": {
     "iopub.execute_input": "2024-12-04T04:02:22.218188Z",
     "iopub.status.busy": "2024-12-04T04:02:22.217687Z",
     "iopub.status.idle": "2024-12-04T04:02:22.224199Z",
     "shell.execute_reply": "2024-12-04T04:02:22.223699Z"
    },
    "papermill": {
     "duration": 0.010401,
     "end_time": "2024-12-04T04:02:22.225109",
     "exception": false,
     "start_time": "2024-12-04T04:02:22.214708",
     "status": "completed"
    },
    "slideshow": {
     "slide_type": ""
    },
    "tags": []
   },
   "outputs": [],
   "source": [
    "# PyTorch\n",
    "class LogisticRegression(torch.nn.Module):\n",
    "    def __init__(self, input_dim, output_dim):\n",
    "        super(LogisticRegression, self).__init__()  # noqa: UP008\n",
    "        self.linear = torch.nn.Linear(input_dim, output_dim)\n",
    "\n",
    "    def forward(self, x):\n",
    "        outputs = torch.sigmoid(self.linear(x))\n",
    "        return outputs\n",
    "    \n",
    "\n",
    "def train_epoch(model, train_dataloader, loss_fn, optimizer, device):\n",
    "    model.train()\n",
    "    train_loss = 0\n",
    "    train_correct = 0\n",
    "    train_total = 0\n",
    "\n",
    "    for X_batch, y_batch in train_dataloader:\n",
    "        optimizer.zero_grad()\n",
    "\n",
    "        X_batch = torch.from_numpy(X_batch).float().to(device)\n",
    "\n",
    "        # Perform prediction\n",
    "        outputs = model(X_batch)\n",
    "\n",
    "        # Determine the predicted label\n",
    "        probabilities = torch.nn.functional.softmax(outputs, 1)\n",
    "        predictions = torch.argmax(probabilities, axis=1)\n",
    "\n",
    "        # Compute the loss and perform back propagation\n",
    "        y_batch = torch.from_numpy(cell_type_encoder.transform(y_batch['cell_type'])).to(device)\n",
    "        train_correct += (predictions == y_batch).sum().item()\n",
    "        train_total += len(predictions)\n",
    "\n",
    "        loss = loss_fn(outputs, y_batch.long())\n",
    "        train_loss += loss.item()\n",
    "        loss.backward()\n",
    "        optimizer.step()\n",
    "\n",
    "    train_loss /= train_total\n",
    "    train_accuracy = train_correct / train_total\n",
    "    return train_loss, train_accuracy"
   ]
  },
  {
   "cell_type": "code",
   "execution_count": 5,
   "id": "f97bb0ea",
   "metadata": {
    "editable": true,
    "execution": {
     "iopub.execute_input": "2024-12-04T04:02:22.230419Z",
     "iopub.status.busy": "2024-12-04T04:02:22.230145Z",
     "iopub.status.idle": "2024-12-04T04:02:24.011561Z",
     "shell.execute_reply": "2024-12-04T04:02:24.010964Z"
    },
    "papermill": {
     "duration": 1.785712,
     "end_time": "2024-12-04T04:02:24.012995",
     "exception": false,
     "start_time": "2024-12-04T04:02:22.227283",
     "status": "completed"
    },
    "slideshow": {
     "slide_type": ""
    },
    "tags": []
   },
   "outputs": [],
   "source": [
    "# Lightning\n",
    "import pytorch_lightning as pl\n",
    "\n",
    "class LogisticRegressionLightning(pl.LightningModule):\n",
    "    def __init__(self, input_dim, output_dim, cell_type_encoder, learning_rate=learning_rate):\n",
    "        super(LogisticRegressionLightning, self).__init__()\n",
    "        self.linear = torch.nn.Linear(input_dim, output_dim)\n",
    "        self.cell_type_encoder = cell_type_encoder\n",
    "        self.learning_rate = learning_rate\n",
    "        self.loss_fn = torch.nn.CrossEntropyLoss()\n",
    "\n",
    "    def forward(self, x):\n",
    "        outputs = torch.sigmoid(self.linear(x))\n",
    "        return outputs\n",
    "\n",
    "    def training_step(self, batch, batch_idx):\n",
    "        X_batch, y_batch = batch\n",
    "        # X_batch = X_batch.float()\n",
    "        X_batch = torch.from_numpy(X_batch).float().to(self.device)\n",
    "\n",
    "        # Perform prediction\n",
    "        outputs = self(X_batch)\n",
    "\n",
    "        # Determine the predicted label\n",
    "        probabilities = torch.nn.functional.softmax(outputs, 1)\n",
    "        predictions = torch.argmax(probabilities, axis=1)\n",
    "\n",
    "        # Compute loss\n",
    "        y_batch = torch.from_numpy(\n",
    "            self.cell_type_encoder.transform(y_batch[\"cell_type\"])\n",
    "        ).to(self.device)\n",
    "        loss = self.loss_fn(outputs, y_batch.long())\n",
    "\n",
    "        # Compute accuracy\n",
    "        train_correct = (predictions == y_batch).sum().item()\n",
    "        train_accuracy = train_correct / len(predictions)\n",
    "\n",
    "        # Log loss and accuracy\n",
    "        self.log(\"train_loss\", loss, prog_bar=True)\n",
    "        self.log(\"train_accuracy\", train_accuracy, prog_bar=True)\n",
    "\n",
    "        return loss\n",
    "\n",
    "    def configure_optimizers(self):\n",
    "        optimizer = torch.optim.Adam(self.parameters(), lr=self.learning_rate)\n",
    "        return optimizer"
   ]
  },
  {
   "cell_type": "code",
   "execution_count": 6,
   "id": "39fc59c6",
   "metadata": {
    "editable": true,
    "execution": {
     "iopub.execute_input": "2024-12-04T04:02:24.019131Z",
     "iopub.status.busy": "2024-12-04T04:02:24.018655Z",
     "iopub.status.idle": "2024-12-04T04:02:25.019891Z",
     "shell.execute_reply": "2024-12-04T04:02:25.019281Z"
    },
    "papermill": {
     "duration": 1.005615,
     "end_time": "2024-12-04T04:02:25.021203",
     "exception": false,
     "start_time": "2024-12-04T04:02:24.015588",
     "status": "completed"
    },
    "slideshow": {
     "slide_type": ""
    },
    "tags": []
   },
   "outputs": [],
   "source": [
    "if cpu or not torch.cuda.is_available():\n",
    "    device = \"cpu\"\n",
    "else:\n",
    "    device = \"cuda\"\n",
    "device = torch.device(device)\n",
    "input_dim = experiment_dataset.shape[1]\n",
    "output_dim = len(cell_type_encoder.classes_)\n",
    "\n",
    "dl_kwargs = {} if lightning or workers is None else dict(num_workers=workers, persistent_workers=True)\n",
    "train_dataloader = soma_ml.experiment_dataloader(experiment_dataset, **dl_kwargs)\n",
    "\n",
    "if lightning:\n",
    "    model = LogisticRegressionLightning(input_dim, output_dim, cell_type_encoder=cell_type_encoder)\n",
    "    trainer = pl.Trainer(\n",
    "        max_epochs=n_epochs,\n",
    "        **(\n",
    "            dict(accelerator=\"cpu\") if cpu else\n",
    "            dict(devices=list(range(workers or 1)))\n",
    "        ),\n",
    "    )\n",
    "    torch.set_float32_matmul_precision(\"high\")\n",
    "else:\n",
    "    model = LogisticRegression(input_dim, output_dim).to(device)\n",
    "    loss_fn = torch.nn.CrossEntropyLoss()\n",
    "    optimizer = torch.optim.Adam(model.parameters(), lr=learning_rate)"
   ]
  },
  {
   "cell_type": "code",
   "execution_count": 7,
   "id": "54b842f0",
   "metadata": {
    "editable": true,
    "execution": {
     "iopub.execute_input": "2024-12-04T04:02:25.027431Z",
     "iopub.status.busy": "2024-12-04T04:02:25.027123Z",
     "iopub.status.idle": "2024-12-04T04:04:23.537464Z",
     "shell.execute_reply": "2024-12-04T04:04:23.536749Z"
    },
    "papermill": {
     "duration": 118.514678,
     "end_time": "2024-12-04T04:04:23.538571",
     "exception": false,
     "start_time": "2024-12-04T04:02:25.023893",
     "status": "completed"
    },
    "slideshow": {
     "slide_type": ""
    },
    "tags": []
   },
   "outputs": [
    {
     "name": "stdout",
     "output_type": "stream",
     "text": [
      "Epoch 1: Train Loss: 0.0157259 Accuracy 0.3676\n"
     ]
    },
    {
     "name": "stdout",
     "output_type": "stream",
     "text": [
      "Epoch 2: Train Loss: 0.0145170 Accuracy 0.4880\n"
     ]
    },
    {
     "name": "stdout",
     "output_type": "stream",
     "text": [
      "Epoch 3: Train Loss: 0.0141264 Accuracy 0.5626\n"
     ]
    },
    {
     "name": "stdout",
     "output_type": "stream",
     "text": [
      "Epoch 4: Train Loss: 0.0139017 Accuracy 0.5770\n"
     ]
    },
    {
     "name": "stdout",
     "output_type": "stream",
     "text": [
      "Epoch 5: Train Loss: 0.0137787 Accuracy 0.5820\n"
     ]
    },
    {
     "name": "stdout",
     "output_type": "stream",
     "text": [
      "Epoch 6: Train Loss: 0.0136944 Accuracy 0.5911\n"
     ]
    },
    {
     "name": "stdout",
     "output_type": "stream",
     "text": [
      "Epoch 7: Train Loss: 0.0136363 Accuracy 0.6012\n"
     ]
    },
    {
     "name": "stdout",
     "output_type": "stream",
     "text": [
      "Epoch 8: Train Loss: 0.0135735 Accuracy 0.6122\n"
     ]
    },
    {
     "name": "stdout",
     "output_type": "stream",
     "text": [
      "Epoch 9: Train Loss: 0.0135158 Accuracy 0.6204\n"
     ]
    },
    {
     "name": "stdout",
     "output_type": "stream",
     "text": [
      "Epoch 10: Train Loss: 0.0134865 Accuracy 0.6254\n"
     ]
    },
    {
     "name": "stdout",
     "output_type": "stream",
     "text": [
      "Epoch 11: Train Loss: 0.0134584 Accuracy 0.6362\n"
     ]
    },
    {
     "name": "stdout",
     "output_type": "stream",
     "text": [
      "Epoch 12: Train Loss: 0.0134349 Accuracy 0.6579\n"
     ]
    },
    {
     "name": "stdout",
     "output_type": "stream",
     "text": [
      "Epoch 13: Train Loss: 0.0134133 Accuracy 0.6943\n"
     ]
    },
    {
     "name": "stdout",
     "output_type": "stream",
     "text": [
      "Epoch 14: Train Loss: 0.0133440 Accuracy 0.8429\n"
     ]
    },
    {
     "name": "stdout",
     "output_type": "stream",
     "text": [
      "Epoch 15: Train Loss: 0.0132196 Accuracy 0.9326\n"
     ]
    },
    {
     "name": "stdout",
     "output_type": "stream",
     "text": [
      "Epoch 16: Train Loss: 0.0131775 Accuracy 0.9372\n"
     ]
    },
    {
     "name": "stdout",
     "output_type": "stream",
     "text": [
      "Epoch 17: Train Loss: 0.0131447 Accuracy 0.9431\n"
     ]
    },
    {
     "name": "stdout",
     "output_type": "stream",
     "text": [
      "Epoch 18: Train Loss: 0.0131230 Accuracy 0.9483\n"
     ]
    },
    {
     "name": "stdout",
     "output_type": "stream",
     "text": [
      "Epoch 19: Train Loss: 0.0131055 Accuracy 0.9505\n"
     ]
    },
    {
     "name": "stdout",
     "output_type": "stream",
     "text": [
      "Epoch 20: Train Loss: 0.0130932 Accuracy 0.9529\n",
      "CPU times: user 8min 34s, sys: 2min 4s, total: 10min 39s\n",
      "Wall time: 1min 58s\n"
     ]
    }
   ],
   "source": [
    "%%time\n",
    "if lightning:\n",
    "    trainer.fit(model, train_dataloaders=train_dataloader)\n",
    "else:\n",
    "    for epoch in range(n_epochs):\n",
    "        if workers is not None:\n",
    "            experiment_dataset.set_epoch(epoch)\n",
    "        train_loss, train_accuracy = train_epoch(model, train_dataloader, loss_fn, optimizer, device)\n",
    "        print(f\"Epoch {epoch + 1}: Train Loss: {train_loss:.7f} Accuracy {train_accuracy:.4f}\")"
   ]
  },
  {
   "cell_type": "code",
   "execution_count": 8,
   "id": "e09860fd",
   "metadata": {
    "editable": true,
    "execution": {
     "iopub.execute_input": "2024-12-04T04:04:23.546960Z",
     "iopub.status.busy": "2024-12-04T04:04:23.546675Z",
     "iopub.status.idle": "2024-12-04T04:04:28.498882Z",
     "shell.execute_reply": "2024-12-04T04:04:28.498191Z"
    },
    "papermill": {
     "duration": 4.957738,
     "end_time": "2024-12-04T04:04:28.500140",
     "exception": false,
     "start_time": "2024-12-04T04:04:23.542402",
     "status": "completed"
    },
    "slideshow": {
     "slide_type": ""
    },
    "tags": []
   },
   "outputs": [],
   "source": [
    "# TODO: split train/test\n",
    "test_dataloader = soma_ml.experiment_dataloader(experiment_dataset, **dl_kwargs)\n",
    "X_batch, y_batch = next(iter(test_dataloader))\n",
    "X_batch = torch.from_numpy(X_batch)\n",
    "y_batch = torch.from_numpy(cell_type_encoder.transform(y_batch['cell_type']))"
   ]
  },
  {
   "cell_type": "code",
   "execution_count": 9,
   "id": "bdbf05aa",
   "metadata": {
    "editable": true,
    "execution": {
     "iopub.execute_input": "2024-12-04T04:04:28.509323Z",
     "iopub.status.busy": "2024-12-04T04:04:28.509000Z",
     "iopub.status.idle": "2024-12-04T04:04:28.537735Z",
     "shell.execute_reply": "2024-12-04T04:04:28.537133Z"
    },
    "papermill": {
     "duration": 0.034016,
     "end_time": "2024-12-04T04:04:28.538736",
     "exception": false,
     "start_time": "2024-12-04T04:04:28.504720",
     "status": "completed"
    },
    "slideshow": {
     "slide_type": ""
    },
    "tags": []
   },
   "outputs": [
    {
     "name": "stdout",
     "output_type": "stream",
     "text": [
      "Accuracy: 88.3% (113 correct, 15 incorrect)\n"
     ]
    },
    {
     "data": {
      "text/html": [
       "<div>\n",
       "<style scoped>\n",
       "    .dataframe tbody tr th:only-of-type {\n",
       "        vertical-align: middle;\n",
       "    }\n",
       "\n",
       "    .dataframe tbody tr th {\n",
       "        vertical-align: top;\n",
       "    }\n",
       "\n",
       "    .dataframe thead th {\n",
       "        text-align: right;\n",
       "    }\n",
       "</style>\n",
       "<table border=\"1\" class=\"dataframe\">\n",
       "  <thead>\n",
       "    <tr style=\"text-align: right;\">\n",
       "      <th>predicted cell type</th>\n",
       "      <th>basal cell</th>\n",
       "      <th>capillary endothelial cell</th>\n",
       "      <th>epithelial cell</th>\n",
       "      <th>fibroblast</th>\n",
       "      <th>keratinocyte</th>\n",
       "      <th>leukocyte</th>\n",
       "      <th>pericyte</th>\n",
       "      <th>vein endothelial cell</th>\n",
       "    </tr>\n",
       "    <tr>\n",
       "      <th>actual cell type</th>\n",
       "      <th></th>\n",
       "      <th></th>\n",
       "      <th></th>\n",
       "      <th></th>\n",
       "      <th></th>\n",
       "      <th></th>\n",
       "      <th></th>\n",
       "      <th></th>\n",
       "    </tr>\n",
       "  </thead>\n",
       "  <tbody>\n",
       "    <tr>\n",
       "      <th>basal cell</th>\n",
       "      <td>46</td>\n",
       "      <td></td>\n",
       "      <td></td>\n",
       "      <td></td>\n",
       "      <td></td>\n",
       "      <td></td>\n",
       "      <td></td>\n",
       "      <td></td>\n",
       "    </tr>\n",
       "    <tr>\n",
       "      <th>capillary endothelial cell</th>\n",
       "      <td></td>\n",
       "      <td>1</td>\n",
       "      <td></td>\n",
       "      <td></td>\n",
       "      <td></td>\n",
       "      <td></td>\n",
       "      <td></td>\n",
       "      <td></td>\n",
       "    </tr>\n",
       "    <tr>\n",
       "      <th>endothelial cell of artery</th>\n",
       "      <td></td>\n",
       "      <td>1</td>\n",
       "      <td></td>\n",
       "      <td></td>\n",
       "      <td></td>\n",
       "      <td></td>\n",
       "      <td></td>\n",
       "      <td>1</td>\n",
       "    </tr>\n",
       "    <tr>\n",
       "      <th>endothelial cell of lymphatic vessel</th>\n",
       "      <td></td>\n",
       "      <td></td>\n",
       "      <td></td>\n",
       "      <td></td>\n",
       "      <td></td>\n",
       "      <td></td>\n",
       "      <td></td>\n",
       "      <td>1</td>\n",
       "    </tr>\n",
       "    <tr>\n",
       "      <th>epithelial cell</th>\n",
       "      <td></td>\n",
       "      <td></td>\n",
       "      <td>17</td>\n",
       "      <td></td>\n",
       "      <td></td>\n",
       "      <td></td>\n",
       "      <td></td>\n",
       "      <td></td>\n",
       "    </tr>\n",
       "    <tr>\n",
       "      <th>fibroblast</th>\n",
       "      <td></td>\n",
       "      <td></td>\n",
       "      <td></td>\n",
       "      <td>1</td>\n",
       "      <td></td>\n",
       "      <td></td>\n",
       "      <td></td>\n",
       "      <td></td>\n",
       "    </tr>\n",
       "    <tr>\n",
       "      <th>keratinocyte</th>\n",
       "      <td>8</td>\n",
       "      <td></td>\n",
       "      <td></td>\n",
       "      <td></td>\n",
       "      <td>32</td>\n",
       "      <td></td>\n",
       "      <td></td>\n",
       "      <td></td>\n",
       "    </tr>\n",
       "    <tr>\n",
       "      <th>leukocyte</th>\n",
       "      <td>1</td>\n",
       "      <td></td>\n",
       "      <td></td>\n",
       "      <td></td>\n",
       "      <td></td>\n",
       "      <td>12</td>\n",
       "      <td></td>\n",
       "      <td></td>\n",
       "    </tr>\n",
       "    <tr>\n",
       "      <th>pericyte</th>\n",
       "      <td></td>\n",
       "      <td></td>\n",
       "      <td></td>\n",
       "      <td></td>\n",
       "      <td></td>\n",
       "      <td></td>\n",
       "      <td>3</td>\n",
       "      <td></td>\n",
       "    </tr>\n",
       "    <tr>\n",
       "      <th>tongue muscle cell</th>\n",
       "      <td></td>\n",
       "      <td></td>\n",
       "      <td></td>\n",
       "      <td>1</td>\n",
       "      <td></td>\n",
       "      <td>1</td>\n",
       "      <td></td>\n",
       "      <td></td>\n",
       "    </tr>\n",
       "    <tr>\n",
       "      <th>vein endothelial cell</th>\n",
       "      <td></td>\n",
       "      <td></td>\n",
       "      <td></td>\n",
       "      <td></td>\n",
       "      <td>1</td>\n",
       "      <td></td>\n",
       "      <td></td>\n",
       "      <td>1</td>\n",
       "    </tr>\n",
       "  </tbody>\n",
       "</table>\n",
       "</div>"
      ],
      "text/plain": [
       "predicted cell type                  basal cell capillary endothelial cell  \\\n",
       "actual cell type                                                             \n",
       "basal cell                                   46                              \n",
       "capillary endothelial cell                                               1   \n",
       "endothelial cell of artery                                               1   \n",
       "endothelial cell of lymphatic vessel                                         \n",
       "epithelial cell                                                              \n",
       "fibroblast                                                                   \n",
       "keratinocyte                                  8                              \n",
       "leukocyte                                     1                              \n",
       "pericyte                                                                     \n",
       "tongue muscle cell                                                           \n",
       "vein endothelial cell                                                        \n",
       "\n",
       "predicted cell type                  epithelial cell fibroblast keratinocyte  \\\n",
       "actual cell type                                                               \n",
       "basal cell                                                                     \n",
       "capillary endothelial cell                                                     \n",
       "endothelial cell of artery                                                     \n",
       "endothelial cell of lymphatic vessel                                           \n",
       "epithelial cell                                   17                           \n",
       "fibroblast                                                    1                \n",
       "keratinocyte                                                              32   \n",
       "leukocyte                                                                      \n",
       "pericyte                                                                       \n",
       "tongue muscle cell                                            1                \n",
       "vein endothelial cell                                                      1   \n",
       "\n",
       "predicted cell type                  leukocyte pericyte vein endothelial cell  \n",
       "actual cell type                                                               \n",
       "basal cell                                                                     \n",
       "capillary endothelial cell                                                     \n",
       "endothelial cell of artery                                                  1  \n",
       "endothelial cell of lymphatic vessel                                        1  \n",
       "epithelial cell                                                                \n",
       "fibroblast                                                                     \n",
       "keratinocyte                                                                   \n",
       "leukocyte                                   12                                 \n",
       "pericyte                                              3                        \n",
       "tongue muscle cell                           1                                 \n",
       "vein endothelial cell                                                       1  "
      ]
     },
     "execution_count": 9,
     "metadata": {},
     "output_type": "execute_result"
    }
   ],
   "source": [
    "import pandas as pd\n",
    "\n",
    "model.eval()\n",
    "model.to(device)\n",
    "outputs = model(X_batch.to(device))\n",
    "probabilities = torch.nn.functional.softmax(outputs, 1)\n",
    "predictions = torch.argmax(probabilities, axis=1)\n",
    "predicted_cell_types = cell_type_encoder.inverse_transform(predictions.cpu())\n",
    "\n",
    "cmp_df = pd.DataFrame({\n",
    "    \"actual cell type\": cell_type_encoder.inverse_transform(y_batch.ravel().numpy()),\n",
    "    \"predicted cell type\": predicted_cell_types,\n",
    "})\n",
    "right, wrong = (cmp_df['actual cell type'] == cmp_df['predicted cell type']).value_counts().values\n",
    "print('Accuracy: %.1f%% (%d correct, %d incorrect)' % (100 * right / len(cmp_df), right, wrong))\n",
    "pd.crosstab(cmp_df['actual cell type'], cmp_df['predicted cell type']).replace(0, '')"
   ]
  },
  {
   "cell_type": "markdown",
   "source": [
    "\tCommand being timed: \"papermill -p tissue tongue -p cpu True benchmark.ipynb tongue/torch-cpu.ipynb\"\n",
    "\tUser time (seconds): 541.44\n",
    "\tSystem time (seconds): 138.86\n",
    "\tPercent of CPU this job got: 509%\n",
    "\tElapsed (wall clock) time (h:mm:ss or m:ss): 2:13.55\n",
    "\tAverage shared text size (kbytes): 0\n",
    "\tAverage unshared data size (kbytes): 0\n",
    "\tAverage stack size (kbytes): 0\n",
    "\tAverage total size (kbytes): 0\n",
    "\tMaximum resident set size (kbytes): 7169900\n",
    "\tAverage resident set size (kbytes): 0\n",
    "\tMajor (requiring I/O) page faults: 0\n",
    "\tMinor (reclaiming a frame) page faults: 18170474\n",
    "\tVoluntary context switches: 394994\n",
    "\tInvoluntary context switches: 120694\n",
    "\tSwaps: 0\n",
    "\tFile system inputs: 0\n",
    "\tFile system outputs: 1000\n",
    "\tSocket messages sent: 0\n",
    "\tSocket messages received: 0\n",
    "\tSignals delivered: 0\n",
    "\tPage size (bytes): 4096\n",
    "\tExit status: 0\n"
   ],
   "metadata": {}
  }
 ],
 "metadata": {
  "kernelspec": {
   "display_name": "Python 3 (ipykernel)",
   "language": "python",
   "name": "python3"
  },
  "language_info": {
   "codemirror_mode": {
    "name": "ipython",
    "version": 3
   },
   "file_extension": ".py",
   "mimetype": "text/x-python",
   "name": "python",
   "nbconvert_exporter": "python",
   "pygments_lexer": "ipython3",
   "version": "3.12.7"
  },
  "papermill": {
   "default_parameters": {},
   "duration": 132.744223,
   "end_time": "2024-12-04T04:04:30.162698",
   "environment_variables": {},
   "exception": null,
   "input_path": "benchmark.ipynb",
   "output_path": "tongue/torch-cpu.ipynb",
   "parameters": {
    "cpu": true,
    "tissue": "tongue"
   },
   "start_time": "2024-12-04T04:02:17.418475",
   "version": "2.6.0"
  }
 },
 "nbformat": 4,
 "nbformat_minor": 5
}