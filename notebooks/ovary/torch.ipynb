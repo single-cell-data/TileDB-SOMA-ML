{
 "cells": [
  {
   "cell_type": "markdown",
   "id": "17618182",
   "metadata": {
    "editable": true,
    "papermill": {
     "duration": 0.002566,
     "end_time": "2024-12-04T18:38:13.519920",
     "exception": false,
     "start_time": "2024-12-04T18:38:13.517354",
     "status": "completed"
    },
    "slideshow": {
     "slide_type": ""
    },
    "tags": []
   },
   "source": [
    "Papermill params:"
   ]
  },
  {
   "cell_type": "code",
   "execution_count": 1,
   "id": "5a55921b",
   "metadata": {
    "editable": true,
    "execution": {
     "iopub.execute_input": "2024-12-04T18:38:13.525902Z",
     "iopub.status.busy": "2024-12-04T18:38:13.525424Z",
     "iopub.status.idle": "2024-12-04T18:38:13.529422Z",
     "shell.execute_reply": "2024-12-04T18:38:13.528893Z"
    },
    "papermill": {
     "duration": 0.007891,
     "end_time": "2024-12-04T18:38:13.530440",
     "exception": false,
     "start_time": "2024-12-04T18:38:13.522549",
     "status": "completed"
    },
    "slideshow": {
     "slide_type": ""
    },
    "tags": [
     "parameters"
    ]
   },
   "outputs": [],
   "source": [
    "workers = None\n",
    "lightning = False       # Use PyTorch Lightning\n",
    "tissue = \"tongue\"       # \"tissue_general\" obs filter\n",
    "is_primary_data = True  # Additional obs filter\n",
    "cpu = False             # Force CPU mode\n",
    "census_version = \"2024-07-01\"\n",
    "batch_size = 128\n",
    "shuffle = True\n",
    "learning_rate = 1e-5\n",
    "n_epochs = 20"
   ]
  },
  {
   "cell_type": "code",
   "execution_count": 2,
   "id": "d4842417",
   "metadata": {
    "execution": {
     "iopub.execute_input": "2024-12-04T18:38:13.535653Z",
     "iopub.status.busy": "2024-12-04T18:38:13.535368Z",
     "iopub.status.idle": "2024-12-04T18:38:13.538098Z",
     "shell.execute_reply": "2024-12-04T18:38:13.537637Z"
    },
    "papermill": {
     "duration": 0.006466,
     "end_time": "2024-12-04T18:38:13.539075",
     "exception": false,
     "start_time": "2024-12-04T18:38:13.532609",
     "status": "completed"
    },
    "tags": [
     "injected-parameters"
    ]
   },
   "outputs": [],
   "source": [
    "# Parameters\n",
    "tissue = \"ovary\"\n"
   ]
  },
  {
   "cell_type": "code",
   "execution_count": 3,
   "id": "0e219d6b",
   "metadata": {
    "execution": {
     "iopub.execute_input": "2024-12-04T18:38:13.544273Z",
     "iopub.status.busy": "2024-12-04T18:38:13.543991Z",
     "iopub.status.idle": "2024-12-04T18:38:13.547207Z",
     "shell.execute_reply": "2024-12-04T18:38:13.546748Z"
    },
    "papermill": {
     "duration": 0.006868,
     "end_time": "2024-12-04T18:38:13.548139",
     "exception": false,
     "start_time": "2024-12-04T18:38:13.541271",
     "status": "completed"
    },
    "tags": []
   },
   "outputs": [],
   "source": [
    "def is_running_in_papermill():\n",
    "    import sys\n",
    "    return 'pm_config' in sys.modules or 'pm_config' in globals()\n",
    "\n",
    "is_papermill = is_running_in_papermill()\n",
    "if is_papermill:\n",
    "    print(\"Detected papermill run\")"
   ]
  },
  {
   "cell_type": "code",
   "execution_count": 4,
   "id": "a8f3c192",
   "metadata": {
    "editable": true,
    "execution": {
     "iopub.execute_input": "2024-12-04T18:38:13.553521Z",
     "iopub.status.busy": "2024-12-04T18:38:13.553232Z",
     "iopub.status.idle": "2024-12-04T18:38:18.759999Z",
     "shell.execute_reply": "2024-12-04T18:38:18.759369Z"
    },
    "papermill": {
     "duration": 5.210704,
     "end_time": "2024-12-04T18:38:18.761071",
     "exception": false,
     "start_time": "2024-12-04T18:38:13.550367",
     "status": "completed"
    },
    "slideshow": {
     "slide_type": ""
    },
    "tags": []
   },
   "outputs": [
    {
     "name": "stderr",
     "output_type": "stream",
     "text": [
      "/home/ubuntu/.pyenv/versions/3.12.7/lib/python3.12/site-packages/torchdata/datapipes/__init__.py:18: UserWarning: \n",
      "################################################################################\n",
      "WARNING!\n",
      "The 'datapipes', 'dataloader2' modules are deprecated and will be removed in a\n",
      "future torchdata release! Please see https://github.com/pytorch/data/issues/1196\n",
      "to learn more and leave feedback.\n",
      "################################################################################\n",
      "\n",
      "  deprecation_warning()\n"
     ]
    },
    {
     "name": "stdout",
     "output_type": "stream",
     "text": [
      "53751 cells, 420 batches\n"
     ]
    }
   ],
   "source": [
    "import tiledbsoma as soma\n",
    "import torch\n",
    "from sklearn.preprocessing import LabelEncoder\n",
    "\n",
    "import tiledbsoma_ml as soma_ml\n",
    "\n",
    "CZI_Census_Homo_Sapiens_URL = f\"s3://cellxgene-census-public-us-west-2/cell-census/{census_version}/soma/census_data/homo_sapiens/\"\n",
    "\n",
    "experiment = soma.open(\n",
    "    CZI_Census_Homo_Sapiens_URL,\n",
    "    context=soma.SOMATileDBContext(tiledb_config={\"vfs.s3.region\": \"us-west-2\"}),\n",
    ")\n",
    "obs_value_filter = f\"tissue_general == '{tissue}'\"\n",
    "if is_primary_data:\n",
    "    obs_value_filter += \" and is_primary_data == True\"\n",
    "\n",
    "iter_cls = soma_ml.ExperimentAxisQueryIterDataPipe if workers is None and not lightning else soma_ml.ExperimentAxisQueryIterableDataset\n",
    "\n",
    "with experiment.axis_query(\n",
    "    measurement_name=\"RNA\", obs_query=soma.AxisQuery(value_filter=obs_value_filter)\n",
    ") as query:\n",
    "    obs_df = query.obs(column_names=[\"cell_type\"]).concat().to_pandas()\n",
    "    cell_type_encoder = LabelEncoder().fit(obs_df[\"cell_type\"].unique())\n",
    "\n",
    "    experiment_dataset = iter_cls(\n",
    "        query,\n",
    "        X_name=\"raw\",\n",
    "        obs_column_names=[\"cell_type\"],\n",
    "        batch_size=batch_size,\n",
    "        shuffle=shuffle,\n",
    "    )\n",
    "\n",
    "print(f'{len(obs_df)} cells, {len(experiment_dataset)} batches')"
   ]
  },
  {
   "cell_type": "code",
   "execution_count": 5,
   "id": "256fc2de",
   "metadata": {
    "editable": true,
    "execution": {
     "iopub.execute_input": "2024-12-04T18:38:18.767652Z",
     "iopub.status.busy": "2024-12-04T18:38:18.767115Z",
     "iopub.status.idle": "2024-12-04T18:38:18.799056Z",
     "shell.execute_reply": "2024-12-04T18:38:18.798536Z"
    },
    "papermill": {
     "duration": 0.036083,
     "end_time": "2024-12-04T18:38:18.799923",
     "exception": false,
     "start_time": "2024-12-04T18:38:18.763840",
     "status": "completed"
    },
    "slideshow": {
     "slide_type": ""
    },
    "tags": []
   },
   "outputs": [],
   "source": [
    "# PyTorch\n",
    "class LogisticRegression(torch.nn.Module):\n",
    "    def __init__(self, input_dim, output_dim):\n",
    "        super(LogisticRegression, self).__init__()  # noqa: UP008\n",
    "        self.linear = torch.nn.Linear(input_dim, output_dim)\n",
    "\n",
    "    def forward(self, x):\n",
    "        outputs = torch.sigmoid(self.linear(x))\n",
    "        return outputs\n",
    "    \n",
    "\n",
    "def train_epoch(model, train_dataloader, loss_fn, optimizer, device):\n",
    "    model.train()\n",
    "    train_loss = 0\n",
    "    train_correct = 0\n",
    "    train_total = 0\n",
    "\n",
    "    for X_batch, y_batch in train_dataloader:\n",
    "        optimizer.zero_grad()\n",
    "\n",
    "        X_batch = torch.from_numpy(X_batch).float().to(device)\n",
    "\n",
    "        # Perform prediction\n",
    "        outputs = model(X_batch)\n",
    "\n",
    "        # Determine the predicted label\n",
    "        probabilities = torch.nn.functional.softmax(outputs, 1)\n",
    "        predictions = torch.argmax(probabilities, axis=1)\n",
    "\n",
    "        # Compute the loss and perform back propagation\n",
    "        y_batch = torch.from_numpy(cell_type_encoder.transform(y_batch['cell_type'])).to(device)\n",
    "        train_correct += (predictions == y_batch).sum().item()\n",
    "        train_total += len(predictions)\n",
    "\n",
    "        loss = loss_fn(outputs, y_batch.long())\n",
    "        train_loss += loss.item()\n",
    "        loss.backward()\n",
    "        optimizer.step()\n",
    "\n",
    "    train_loss /= train_total\n",
    "    train_accuracy = train_correct / train_total\n",
    "    return train_loss, train_accuracy"
   ]
  },
  {
   "cell_type": "code",
   "execution_count": 6,
   "id": "f567ee4a",
   "metadata": {
    "editable": true,
    "execution": {
     "iopub.execute_input": "2024-12-04T18:38:18.805680Z",
     "iopub.status.busy": "2024-12-04T18:38:18.805332Z",
     "iopub.status.idle": "2024-12-04T18:38:20.719771Z",
     "shell.execute_reply": "2024-12-04T18:38:20.719187Z"
    },
    "papermill": {
     "duration": 1.918789,
     "end_time": "2024-12-04T18:38:20.721172",
     "exception": false,
     "start_time": "2024-12-04T18:38:18.802383",
     "status": "completed"
    },
    "slideshow": {
     "slide_type": ""
    },
    "tags": []
   },
   "outputs": [],
   "source": [
    "# Lightning\n",
    "import pytorch_lightning as pl\n",
    "\n",
    "class LogisticRegressionLightning(pl.LightningModule):\n",
    "    def __init__(self, input_dim, output_dim, cell_type_encoder, learning_rate=learning_rate):\n",
    "        super(LogisticRegressionLightning, self).__init__()\n",
    "        self.linear = torch.nn.Linear(input_dim, output_dim)\n",
    "        self.cell_type_encoder = cell_type_encoder\n",
    "        self.learning_rate = learning_rate\n",
    "        self.loss_fn = torch.nn.CrossEntropyLoss()\n",
    "\n",
    "    def forward(self, x):\n",
    "        outputs = torch.sigmoid(self.linear(x))\n",
    "        return outputs\n",
    "\n",
    "    def training_step(self, batch, batch_idx):\n",
    "        X_batch, y_batch = batch\n",
    "        # X_batch = X_batch.float()\n",
    "        X_batch = torch.from_numpy(X_batch).float().to(self.device)\n",
    "\n",
    "        # Perform prediction\n",
    "        outputs = self(X_batch)\n",
    "\n",
    "        # Determine the predicted label\n",
    "        probabilities = torch.nn.functional.softmax(outputs, 1)\n",
    "        predictions = torch.argmax(probabilities, axis=1)\n",
    "\n",
    "        # Compute loss\n",
    "        y_batch = torch.from_numpy(\n",
    "            self.cell_type_encoder.transform(y_batch[\"cell_type\"])\n",
    "        ).to(self.device)\n",
    "        loss = self.loss_fn(outputs, y_batch.long())\n",
    "\n",
    "        # Compute accuracy\n",
    "        train_correct = (predictions == y_batch).sum().item()\n",
    "        train_accuracy = train_correct / len(predictions)\n",
    "\n",
    "        # Log loss and accuracy\n",
    "        self.log(\"train_loss\", loss, prog_bar=True)\n",
    "        self.log(\"train_accuracy\", train_accuracy, prog_bar=True)\n",
    "\n",
    "        return loss\n",
    "\n",
    "    def configure_optimizers(self):\n",
    "        optimizer = torch.optim.Adam(self.parameters(), lr=self.learning_rate)\n",
    "        return optimizer"
   ]
  },
  {
   "cell_type": "code",
   "execution_count": 7,
   "id": "f896f5dd",
   "metadata": {
    "editable": true,
    "execution": {
     "iopub.execute_input": "2024-12-04T18:38:20.728951Z",
     "iopub.status.busy": "2024-12-04T18:38:20.728461Z",
     "iopub.status.idle": "2024-12-04T18:38:21.124470Z",
     "shell.execute_reply": "2024-12-04T18:38:21.123370Z"
    },
    "papermill": {
     "duration": 0.400667,
     "end_time": "2024-12-04T18:38:21.125754",
     "exception": false,
     "start_time": "2024-12-04T18:38:20.725087",
     "status": "completed"
    },
    "slideshow": {
     "slide_type": ""
    },
    "tags": []
   },
   "outputs": [],
   "source": [
    "if cpu or not torch.cuda.is_available():\n",
    "    device = \"cpu\"\n",
    "else:\n",
    "    device = \"cuda\"\n",
    "device = torch.device(device)\n",
    "input_dim = experiment_dataset.shape[1]\n",
    "output_dim = len(cell_type_encoder.classes_)\n",
    "\n",
    "dl_kwargs = {} if workers is None else dict(num_workers=workers, persistent_workers=True)\n",
    "train_dataloader = soma_ml.experiment_dataloader(experiment_dataset, **dl_kwargs)\n",
    "\n",
    "if lightning:\n",
    "    model = LogisticRegressionLightning(input_dim, output_dim, cell_type_encoder=cell_type_encoder)\n",
    "    trainer = pl.Trainer(\n",
    "        max_epochs=n_epochs,\n",
    "        strategy=\"auto\" if cpu else \"ddp_notebook\",\n",
    "        accelerator=\"cpu\" if cpu else \"gpu\",\n",
    "        devices=1 if cpu else workers or 1,\n",
    "        sync_batchnorm=True if not cpu and workers and workers > 1 else False,\n",
    "        deterministic=True,\n",
    "        max_time=None,\n",
    "        enable_progress_bar=not is_papermill,\n",
    "    )\n",
    "    torch.set_float32_matmul_precision(\"high\")\n",
    "else:\n",
    "    model = LogisticRegression(input_dim, output_dim).to(device)\n",
    "    loss_fn = torch.nn.CrossEntropyLoss()\n",
    "    optimizer = torch.optim.Adam(model.parameters(), lr=learning_rate)"
   ]
  },
  {
   "cell_type": "code",
   "execution_count": 8,
   "id": "864309d7",
   "metadata": {
    "editable": true,
    "execution": {
     "iopub.execute_input": "2024-12-04T18:38:21.132490Z",
     "iopub.status.busy": "2024-12-04T18:38:21.132048Z",
     "iopub.status.idle": "2024-12-04T18:41:22.208872Z",
     "shell.execute_reply": "2024-12-04T18:41:22.208235Z"
    },
    "papermill": {
     "duration": 181.081202,
     "end_time": "2024-12-04T18:41:22.209844",
     "exception": false,
     "start_time": "2024-12-04T18:38:21.128642",
     "status": "completed"
    },
    "slideshow": {
     "slide_type": ""
    },
    "tags": []
   },
   "outputs": [
    {
     "name": "stdout",
     "output_type": "stream",
     "text": [
      "Epoch 1: Train Loss: 0.0227130 Accuracy 0.3972\n"
     ]
    },
    {
     "name": "stdout",
     "output_type": "stream",
     "text": [
      "Epoch 2: Train Loss: 0.0213122 Accuracy 0.5306\n"
     ]
    },
    {
     "name": "stdout",
     "output_type": "stream",
     "text": [
      "Epoch 3: Train Loss: 0.0208221 Accuracy 0.6824\n"
     ]
    },
    {
     "name": "stdout",
     "output_type": "stream",
     "text": [
      "Epoch 4: Train Loss: 0.0205248 Accuracy 0.7877\n"
     ]
    },
    {
     "name": "stdout",
     "output_type": "stream",
     "text": [
      "Epoch 5: Train Loss: 0.0203139 Accuracy 0.8706\n"
     ]
    },
    {
     "name": "stdout",
     "output_type": "stream",
     "text": [
      "Epoch 6: Train Loss: 0.0201389 Accuracy 0.9205\n"
     ]
    },
    {
     "name": "stdout",
     "output_type": "stream",
     "text": [
      "Epoch 7: Train Loss: 0.0199886 Accuracy 0.9323\n"
     ]
    },
    {
     "name": "stdout",
     "output_type": "stream",
     "text": [
      "Epoch 8: Train Loss: 0.0198780 Accuracy 0.9342\n"
     ]
    },
    {
     "name": "stdout",
     "output_type": "stream",
     "text": [
      "Epoch 9: Train Loss: 0.0197927 Accuracy 0.9363\n"
     ]
    },
    {
     "name": "stdout",
     "output_type": "stream",
     "text": [
      "Epoch 10: Train Loss: 0.0197237 Accuracy 0.9376\n"
     ]
    },
    {
     "name": "stdout",
     "output_type": "stream",
     "text": [
      "Epoch 11: Train Loss: 0.0196662 Accuracy 0.9386\n"
     ]
    },
    {
     "name": "stdout",
     "output_type": "stream",
     "text": [
      "Epoch 12: Train Loss: 0.0196170 Accuracy 0.9396\n"
     ]
    },
    {
     "name": "stdout",
     "output_type": "stream",
     "text": [
      "Epoch 13: Train Loss: 0.0195745 Accuracy 0.9410\n"
     ]
    },
    {
     "name": "stdout",
     "output_type": "stream",
     "text": [
      "Epoch 14: Train Loss: 0.0195368 Accuracy 0.9418\n"
     ]
    },
    {
     "name": "stdout",
     "output_type": "stream",
     "text": [
      "Epoch 15: Train Loss: 0.0195033 Accuracy 0.9428\n"
     ]
    },
    {
     "name": "stdout",
     "output_type": "stream",
     "text": [
      "Epoch 16: Train Loss: 0.0194729 Accuracy 0.9443\n"
     ]
    },
    {
     "name": "stdout",
     "output_type": "stream",
     "text": [
      "Epoch 17: Train Loss: 0.0194453 Accuracy 0.9455\n"
     ]
    },
    {
     "name": "stdout",
     "output_type": "stream",
     "text": [
      "Epoch 18: Train Loss: 0.0194205 Accuracy 0.9468\n"
     ]
    },
    {
     "name": "stdout",
     "output_type": "stream",
     "text": [
      "Epoch 19: Train Loss: 0.0193982 Accuracy 0.9477\n"
     ]
    },
    {
     "name": "stdout",
     "output_type": "stream",
     "text": [
      "Epoch 20: Train Loss: 0.0193780 Accuracy 0.9486\n",
      "CPU times: user 5min 35s, sys: 2min 7s, total: 7min 42s\n",
      "Wall time: 3min 1s\n"
     ]
    }
   ],
   "source": [
    "%%time\n",
    "if lightning:\n",
    "    trainer.fit(model, train_dataloaders=train_dataloader)\n",
    "else:\n",
    "    for epoch in range(n_epochs):\n",
    "        if workers is not None:\n",
    "            experiment_dataset.set_epoch(epoch)\n",
    "        train_loss, train_accuracy = train_epoch(model, train_dataloader, loss_fn, optimizer, device)\n",
    "        print(f\"Epoch {epoch + 1}: Train Loss: {train_loss:.7f} Accuracy {train_accuracy:.4f}\")"
   ]
  },
  {
   "cell_type": "code",
   "execution_count": 9,
   "id": "36d45e1b",
   "metadata": {
    "editable": true,
    "execution": {
     "iopub.execute_input": "2024-12-04T18:41:22.218631Z",
     "iopub.status.busy": "2024-12-04T18:41:22.218320Z",
     "iopub.status.idle": "2024-12-04T18:41:27.168086Z",
     "shell.execute_reply": "2024-12-04T18:41:27.167429Z"
    },
    "papermill": {
     "duration": 4.955515,
     "end_time": "2024-12-04T18:41:27.169304",
     "exception": false,
     "start_time": "2024-12-04T18:41:22.213789",
     "status": "completed"
    },
    "slideshow": {
     "slide_type": ""
    },
    "tags": []
   },
   "outputs": [],
   "source": [
    "# TODO: split train/test\n",
    "test_dataloader = soma_ml.experiment_dataloader(experiment_dataset, **dl_kwargs)\n",
    "X_batch, y_batch = next(iter(test_dataloader))\n",
    "X_batch = torch.from_numpy(X_batch)\n",
    "y_batch = torch.from_numpy(cell_type_encoder.transform(y_batch['cell_type']))"
   ]
  },
  {
   "cell_type": "code",
   "execution_count": 10,
   "id": "8194e56f",
   "metadata": {
    "editable": true,
    "execution": {
     "iopub.execute_input": "2024-12-04T18:41:27.178955Z",
     "iopub.status.busy": "2024-12-04T18:41:27.178640Z",
     "iopub.status.idle": "2024-12-04T18:41:27.219171Z",
     "shell.execute_reply": "2024-12-04T18:41:27.218642Z"
    },
    "papermill": {
     "duration": 0.046167,
     "end_time": "2024-12-04T18:41:27.220192",
     "exception": false,
     "start_time": "2024-12-04T18:41:27.174025",
     "status": "completed"
    },
    "slideshow": {
     "slide_type": ""
    },
    "tags": []
   },
   "outputs": [
    {
     "name": "stdout",
     "output_type": "stream",
     "text": [
      "Accuracy: 89.8% (115 correct, 13 incorrect)\n"
     ]
    },
    {
     "data": {
      "text/html": [
       "<div>\n",
       "<style scoped>\n",
       "    .dataframe tbody tr th:only-of-type {\n",
       "        vertical-align: middle;\n",
       "    }\n",
       "\n",
       "    .dataframe tbody tr th {\n",
       "        vertical-align: top;\n",
       "    }\n",
       "\n",
       "    .dataframe thead th {\n",
       "        text-align: right;\n",
       "    }\n",
       "</style>\n",
       "<table border=\"1\" class=\"dataframe\">\n",
       "  <thead>\n",
       "    <tr style=\"text-align: right;\">\n",
       "      <th>predicted cell type</th>\n",
       "      <th>T cell</th>\n",
       "      <th>dendritic cell</th>\n",
       "      <th>endothelial cell</th>\n",
       "      <th>epithelial cell</th>\n",
       "      <th>fibroblast</th>\n",
       "      <th>granulosa cell</th>\n",
       "      <th>innate lymphoid cell</th>\n",
       "      <th>leukocyte</th>\n",
       "      <th>natural killer cell</th>\n",
       "      <th>pericyte</th>\n",
       "      <th>primordial germ cell</th>\n",
       "      <th>smooth muscle cell</th>\n",
       "      <th>stromal cell</th>\n",
       "      <th>stromal cell of ovary</th>\n",
       "      <th>theca cell</th>\n",
       "    </tr>\n",
       "    <tr>\n",
       "      <th>actual cell type</th>\n",
       "      <th></th>\n",
       "      <th></th>\n",
       "      <th></th>\n",
       "      <th></th>\n",
       "      <th></th>\n",
       "      <th></th>\n",
       "      <th></th>\n",
       "      <th></th>\n",
       "      <th></th>\n",
       "      <th></th>\n",
       "      <th></th>\n",
       "      <th></th>\n",
       "      <th></th>\n",
       "      <th></th>\n",
       "      <th></th>\n",
       "    </tr>\n",
       "  </thead>\n",
       "  <tbody>\n",
       "    <tr>\n",
       "      <th>B cell</th>\n",
       "      <td>1</td>\n",
       "      <td></td>\n",
       "      <td></td>\n",
       "      <td></td>\n",
       "      <td></td>\n",
       "      <td></td>\n",
       "      <td></td>\n",
       "      <td></td>\n",
       "      <td></td>\n",
       "      <td></td>\n",
       "      <td></td>\n",
       "      <td></td>\n",
       "      <td></td>\n",
       "      <td></td>\n",
       "      <td></td>\n",
       "    </tr>\n",
       "    <tr>\n",
       "      <th>T cell</th>\n",
       "      <td>5</td>\n",
       "      <td></td>\n",
       "      <td></td>\n",
       "      <td></td>\n",
       "      <td></td>\n",
       "      <td></td>\n",
       "      <td></td>\n",
       "      <td></td>\n",
       "      <td></td>\n",
       "      <td></td>\n",
       "      <td></td>\n",
       "      <td></td>\n",
       "      <td></td>\n",
       "      <td></td>\n",
       "      <td></td>\n",
       "    </tr>\n",
       "    <tr>\n",
       "      <th>endothelial cell</th>\n",
       "      <td></td>\n",
       "      <td></td>\n",
       "      <td>5</td>\n",
       "      <td></td>\n",
       "      <td></td>\n",
       "      <td></td>\n",
       "      <td></td>\n",
       "      <td></td>\n",
       "      <td></td>\n",
       "      <td></td>\n",
       "      <td></td>\n",
       "      <td></td>\n",
       "      <td>1</td>\n",
       "      <td>1</td>\n",
       "      <td></td>\n",
       "    </tr>\n",
       "    <tr>\n",
       "      <th>epithelial cell</th>\n",
       "      <td></td>\n",
       "      <td></td>\n",
       "      <td></td>\n",
       "      <td>6</td>\n",
       "      <td></td>\n",
       "      <td></td>\n",
       "      <td></td>\n",
       "      <td></td>\n",
       "      <td></td>\n",
       "      <td></td>\n",
       "      <td></td>\n",
       "      <td></td>\n",
       "      <td></td>\n",
       "      <td></td>\n",
       "      <td></td>\n",
       "    </tr>\n",
       "    <tr>\n",
       "      <th>fibroblast</th>\n",
       "      <td></td>\n",
       "      <td></td>\n",
       "      <td></td>\n",
       "      <td>3</td>\n",
       "      <td>6</td>\n",
       "      <td></td>\n",
       "      <td></td>\n",
       "      <td></td>\n",
       "      <td></td>\n",
       "      <td></td>\n",
       "      <td></td>\n",
       "      <td></td>\n",
       "      <td></td>\n",
       "      <td></td>\n",
       "      <td></td>\n",
       "    </tr>\n",
       "    <tr>\n",
       "      <th>granulosa cell</th>\n",
       "      <td></td>\n",
       "      <td></td>\n",
       "      <td></td>\n",
       "      <td></td>\n",
       "      <td></td>\n",
       "      <td>13</td>\n",
       "      <td></td>\n",
       "      <td></td>\n",
       "      <td></td>\n",
       "      <td></td>\n",
       "      <td></td>\n",
       "      <td></td>\n",
       "      <td></td>\n",
       "      <td></td>\n",
       "      <td></td>\n",
       "    </tr>\n",
       "    <tr>\n",
       "      <th>innate lymphoid cell</th>\n",
       "      <td></td>\n",
       "      <td></td>\n",
       "      <td></td>\n",
       "      <td></td>\n",
       "      <td></td>\n",
       "      <td></td>\n",
       "      <td>1</td>\n",
       "      <td></td>\n",
       "      <td></td>\n",
       "      <td></td>\n",
       "      <td></td>\n",
       "      <td></td>\n",
       "      <td></td>\n",
       "      <td></td>\n",
       "      <td></td>\n",
       "    </tr>\n",
       "    <tr>\n",
       "      <th>leukocyte</th>\n",
       "      <td></td>\n",
       "      <td></td>\n",
       "      <td></td>\n",
       "      <td></td>\n",
       "      <td></td>\n",
       "      <td></td>\n",
       "      <td></td>\n",
       "      <td>1</td>\n",
       "      <td></td>\n",
       "      <td></td>\n",
       "      <td></td>\n",
       "      <td></td>\n",
       "      <td>1</td>\n",
       "      <td></td>\n",
       "      <td></td>\n",
       "    </tr>\n",
       "    <tr>\n",
       "      <th>macrophage</th>\n",
       "      <td></td>\n",
       "      <td></td>\n",
       "      <td></td>\n",
       "      <td>1</td>\n",
       "      <td></td>\n",
       "      <td></td>\n",
       "      <td></td>\n",
       "      <td></td>\n",
       "      <td></td>\n",
       "      <td></td>\n",
       "      <td></td>\n",
       "      <td></td>\n",
       "      <td></td>\n",
       "      <td></td>\n",
       "      <td></td>\n",
       "    </tr>\n",
       "    <tr>\n",
       "      <th>monocyte</th>\n",
       "      <td></td>\n",
       "      <td>1</td>\n",
       "      <td></td>\n",
       "      <td></td>\n",
       "      <td></td>\n",
       "      <td></td>\n",
       "      <td></td>\n",
       "      <td></td>\n",
       "      <td></td>\n",
       "      <td></td>\n",
       "      <td></td>\n",
       "      <td></td>\n",
       "      <td></td>\n",
       "      <td></td>\n",
       "      <td></td>\n",
       "    </tr>\n",
       "    <tr>\n",
       "      <th>natural killer cell</th>\n",
       "      <td>1</td>\n",
       "      <td></td>\n",
       "      <td></td>\n",
       "      <td></td>\n",
       "      <td></td>\n",
       "      <td></td>\n",
       "      <td></td>\n",
       "      <td></td>\n",
       "      <td>3</td>\n",
       "      <td></td>\n",
       "      <td></td>\n",
       "      <td></td>\n",
       "      <td></td>\n",
       "      <td></td>\n",
       "      <td></td>\n",
       "    </tr>\n",
       "    <tr>\n",
       "      <th>pericyte</th>\n",
       "      <td></td>\n",
       "      <td></td>\n",
       "      <td></td>\n",
       "      <td></td>\n",
       "      <td></td>\n",
       "      <td></td>\n",
       "      <td></td>\n",
       "      <td></td>\n",
       "      <td></td>\n",
       "      <td>5</td>\n",
       "      <td></td>\n",
       "      <td></td>\n",
       "      <td>1</td>\n",
       "      <td></td>\n",
       "      <td></td>\n",
       "    </tr>\n",
       "    <tr>\n",
       "      <th>primordial germ cell</th>\n",
       "      <td></td>\n",
       "      <td></td>\n",
       "      <td></td>\n",
       "      <td></td>\n",
       "      <td>1</td>\n",
       "      <td></td>\n",
       "      <td></td>\n",
       "      <td></td>\n",
       "      <td></td>\n",
       "      <td></td>\n",
       "      <td>3</td>\n",
       "      <td></td>\n",
       "      <td></td>\n",
       "      <td></td>\n",
       "      <td></td>\n",
       "    </tr>\n",
       "    <tr>\n",
       "      <th>smooth muscle cell</th>\n",
       "      <td></td>\n",
       "      <td></td>\n",
       "      <td></td>\n",
       "      <td></td>\n",
       "      <td></td>\n",
       "      <td></td>\n",
       "      <td></td>\n",
       "      <td></td>\n",
       "      <td></td>\n",
       "      <td></td>\n",
       "      <td></td>\n",
       "      <td>1</td>\n",
       "      <td></td>\n",
       "      <td></td>\n",
       "      <td></td>\n",
       "    </tr>\n",
       "    <tr>\n",
       "      <th>stromal cell</th>\n",
       "      <td></td>\n",
       "      <td></td>\n",
       "      <td></td>\n",
       "      <td></td>\n",
       "      <td></td>\n",
       "      <td></td>\n",
       "      <td></td>\n",
       "      <td></td>\n",
       "      <td></td>\n",
       "      <td></td>\n",
       "      <td></td>\n",
       "      <td></td>\n",
       "      <td>47</td>\n",
       "      <td></td>\n",
       "      <td></td>\n",
       "    </tr>\n",
       "    <tr>\n",
       "      <th>stromal cell of ovary</th>\n",
       "      <td></td>\n",
       "      <td></td>\n",
       "      <td></td>\n",
       "      <td></td>\n",
       "      <td></td>\n",
       "      <td></td>\n",
       "      <td></td>\n",
       "      <td></td>\n",
       "      <td></td>\n",
       "      <td></td>\n",
       "      <td></td>\n",
       "      <td></td>\n",
       "      <td></td>\n",
       "      <td>13</td>\n",
       "      <td></td>\n",
       "    </tr>\n",
       "    <tr>\n",
       "      <th>theca cell</th>\n",
       "      <td></td>\n",
       "      <td></td>\n",
       "      <td></td>\n",
       "      <td></td>\n",
       "      <td></td>\n",
       "      <td></td>\n",
       "      <td></td>\n",
       "      <td></td>\n",
       "      <td></td>\n",
       "      <td></td>\n",
       "      <td></td>\n",
       "      <td></td>\n",
       "      <td></td>\n",
       "      <td>1</td>\n",
       "      <td>6</td>\n",
       "    </tr>\n",
       "  </tbody>\n",
       "</table>\n",
       "</div>"
      ],
      "text/plain": [
       "predicted cell type   T cell dendritic cell endothelial cell epithelial cell  \\\n",
       "actual cell type                                                               \n",
       "B cell                     1                                                   \n",
       "T cell                     5                                                   \n",
       "endothelial cell                                           5                   \n",
       "epithelial cell                                                            6   \n",
       "fibroblast                                                                 3   \n",
       "granulosa cell                                                                 \n",
       "innate lymphoid cell                                                           \n",
       "leukocyte                                                                      \n",
       "macrophage                                                                 1   \n",
       "monocyte                                  1                                    \n",
       "natural killer cell        1                                                   \n",
       "pericyte                                                                       \n",
       "primordial germ cell                                                           \n",
       "smooth muscle cell                                                             \n",
       "stromal cell                                                                   \n",
       "stromal cell of ovary                                                          \n",
       "theca cell                                                                     \n",
       "\n",
       "predicted cell type   fibroblast granulosa cell innate lymphoid cell  \\\n",
       "actual cell type                                                       \n",
       "B cell                                                                 \n",
       "T cell                                                                 \n",
       "endothelial cell                                                       \n",
       "epithelial cell                                                        \n",
       "fibroblast                     6                                       \n",
       "granulosa cell                               13                        \n",
       "innate lymphoid cell                                               1   \n",
       "leukocyte                                                              \n",
       "macrophage                                                             \n",
       "monocyte                                                               \n",
       "natural killer cell                                                    \n",
       "pericyte                                                               \n",
       "primordial germ cell           1                                       \n",
       "smooth muscle cell                                                     \n",
       "stromal cell                                                           \n",
       "stromal cell of ovary                                                  \n",
       "theca cell                                                             \n",
       "\n",
       "predicted cell type   leukocyte natural killer cell pericyte  \\\n",
       "actual cell type                                               \n",
       "B cell                                                         \n",
       "T cell                                                         \n",
       "endothelial cell                                               \n",
       "epithelial cell                                                \n",
       "fibroblast                                                     \n",
       "granulosa cell                                                 \n",
       "innate lymphoid cell                                           \n",
       "leukocyte                     1                                \n",
       "macrophage                                                     \n",
       "monocyte                                                       \n",
       "natural killer cell                               3            \n",
       "pericyte                                                   5   \n",
       "primordial germ cell                                           \n",
       "smooth muscle cell                                             \n",
       "stromal cell                                                   \n",
       "stromal cell of ovary                                          \n",
       "theca cell                                                     \n",
       "\n",
       "predicted cell type   primordial germ cell smooth muscle cell stromal cell  \\\n",
       "actual cell type                                                             \n",
       "B cell                                                                       \n",
       "T cell                                                                       \n",
       "endothelial cell                                                         1   \n",
       "epithelial cell                                                              \n",
       "fibroblast                                                                   \n",
       "granulosa cell                                                               \n",
       "innate lymphoid cell                                                         \n",
       "leukocyte                                                                1   \n",
       "macrophage                                                                   \n",
       "monocyte                                                                     \n",
       "natural killer cell                                                          \n",
       "pericyte                                                                 1   \n",
       "primordial germ cell                     3                                   \n",
       "smooth muscle cell                                          1                \n",
       "stromal cell                                                            47   \n",
       "stromal cell of ovary                                                        \n",
       "theca cell                                                                   \n",
       "\n",
       "predicted cell type   stromal cell of ovary theca cell  \n",
       "actual cell type                                        \n",
       "B cell                                                  \n",
       "T cell                                                  \n",
       "endothelial cell                          1             \n",
       "epithelial cell                                         \n",
       "fibroblast                                              \n",
       "granulosa cell                                          \n",
       "innate lymphoid cell                                    \n",
       "leukocyte                                               \n",
       "macrophage                                              \n",
       "monocyte                                                \n",
       "natural killer cell                                     \n",
       "pericyte                                                \n",
       "primordial germ cell                                    \n",
       "smooth muscle cell                                      \n",
       "stromal cell                                            \n",
       "stromal cell of ovary                    13             \n",
       "theca cell                                1          6  "
      ]
     },
     "execution_count": 10,
     "metadata": {},
     "output_type": "execute_result"
    }
   ],
   "source": [
    "import pandas as pd\n",
    "\n",
    "model.eval()\n",
    "model.to(device)\n",
    "outputs = model(X_batch.to(device))\n",
    "probabilities = torch.nn.functional.softmax(outputs, 1)\n",
    "predictions = torch.argmax(probabilities, axis=1)\n",
    "predicted_cell_types = cell_type_encoder.inverse_transform(predictions.cpu())\n",
    "\n",
    "cmp_df = pd.DataFrame({\n",
    "    \"actual cell type\": cell_type_encoder.inverse_transform(y_batch.ravel().numpy()),\n",
    "    \"predicted cell type\": predicted_cell_types,\n",
    "})\n",
    "right, wrong = (cmp_df['actual cell type'] == cmp_df['predicted cell type']).value_counts().values\n",
    "print('Accuracy: %.1f%% (%d correct, %d incorrect)' % (100 * right / len(cmp_df), right, wrong))\n",
    "pd.crosstab(cmp_df['actual cell type'], cmp_df['predicted cell type']).replace(0, '')"
   ]
  },
  {
   "cell_type": "markdown",
   "source": [
    "\tCommand being timed: \"papermill -p tissue ovary benchmark.ipynb ovary/torch.ipynb\"\n",
    "\tUser time (seconds): 364.78\n",
    "\tSystem time (seconds): 142.95\n",
    "\tPercent of CPU this job got: 256%\n",
    "\tElapsed (wall clock) time (h:mm:ss or m:ss): 3:18.18\n",
    "\tAverage shared text size (kbytes): 0\n",
    "\tAverage unshared data size (kbytes): 0\n",
    "\tAverage stack size (kbytes): 0\n",
    "\tAverage total size (kbytes): 0\n",
    "\tMaximum resident set size (kbytes): 7341672\n",
    "\tAverage resident set size (kbytes): 0\n",
    "\tMajor (requiring I/O) page faults: 1\n",
    "\tMinor (reclaiming a frame) page faults: 19300726\n",
    "\tVoluntary context switches: 654636\n",
    "\tInvoluntary context switches: 13593\n",
    "\tSwaps: 0\n",
    "\tFile system inputs: 256\n",
    "\tFile system outputs: 1248\n",
    "\tSocket messages sent: 0\n",
    "\tSocket messages received: 0\n",
    "\tSignals delivered: 0\n",
    "\tPage size (bytes): 4096\n",
    "\tExit status: 0\n"
   ],
   "metadata": {}
  }
 ],
 "metadata": {
  "kernelspec": {
   "display_name": "Python 3 (ipykernel)",
   "language": "python",
   "name": "python3"
  },
  "language_info": {
   "codemirror_mode": {
    "name": "ipython",
    "version": 3
   },
   "file_extension": ".py",
   "mimetype": "text/x-python",
   "name": "python",
   "nbconvert_exporter": "python",
   "pygments_lexer": "ipython3",
   "version": "3.12.7"
  },
  "papermill": {
   "default_parameters": {},
   "duration": 197.345452,
   "end_time": "2024-12-04T18:41:29.669111",
   "environment_variables": {},
   "exception": null,
   "input_path": "benchmark.ipynb",
   "output_path": "ovary/torch.ipynb",
   "parameters": {
    "tissue": "ovary"
   },
   "start_time": "2024-12-04T18:38:12.323659",
   "version": "2.6.0"
  }
 },
 "nbformat": 4,
 "nbformat_minor": 5
}