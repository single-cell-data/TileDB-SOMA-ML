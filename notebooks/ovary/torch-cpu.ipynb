{
 "cells": [
  {
   "cell_type": "markdown",
   "id": "e58a7032",
   "metadata": {
    "editable": true,
    "papermill": {
     "duration": 0.002767,
     "end_time": "2024-12-04T23:17:11.454716",
     "exception": false,
     "start_time": "2024-12-04T23:17:11.451949",
     "status": "completed"
    },
    "slideshow": {
     "slide_type": ""
    },
    "tags": []
   },
   "source": [
    "Papermill params:"
   ]
  },
  {
   "cell_type": "code",
   "execution_count": 1,
   "id": "14cfc411",
   "metadata": {
    "editable": true,
    "execution": {
     "iopub.execute_input": "2024-12-04T23:17:11.461814Z",
     "iopub.status.busy": "2024-12-04T23:17:11.461537Z",
     "iopub.status.idle": "2024-12-04T23:17:11.465455Z",
     "shell.execute_reply": "2024-12-04T23:17:11.464933Z"
    },
    "papermill": {
     "duration": 0.009327,
     "end_time": "2024-12-04T23:17:11.466614",
     "exception": false,
     "start_time": "2024-12-04T23:17:11.457287",
     "status": "completed"
    },
    "slideshow": {
     "slide_type": ""
    },
    "tags": [
     "parameters"
    ]
   },
   "outputs": [],
   "source": [
    "workers = None\n",
    "lightning = False       # Use PyTorch Lightning\n",
    "tissue = \"tongue\"       # \"tissue_general\" obs filter\n",
    "is_primary_data = True  # Additional obs filter\n",
    "cpu = False             # Force CPU mode\n",
    "census_version = \"2024-07-01\"\n",
    "batch_size = 128\n",
    "shuffle = True\n",
    "learning_rate = 1e-5\n",
    "n_epochs = 20"
   ]
  },
  {
   "cell_type": "code",
   "execution_count": 2,
   "id": "a8a496d6",
   "metadata": {
    "execution": {
     "iopub.execute_input": "2024-12-04T23:17:11.471832Z",
     "iopub.status.busy": "2024-12-04T23:17:11.471578Z",
     "iopub.status.idle": "2024-12-04T23:17:11.474324Z",
     "shell.execute_reply": "2024-12-04T23:17:11.473864Z"
    },
    "papermill": {
     "duration": 0.006583,
     "end_time": "2024-12-04T23:17:11.475377",
     "exception": false,
     "start_time": "2024-12-04T23:17:11.468794",
     "status": "completed"
    },
    "tags": [
     "injected-parameters"
    ]
   },
   "outputs": [],
   "source": [
    "# Parameters\n",
    "tissue = \"ovary\"\n",
    "cpu = True\n"
   ]
  },
  {
   "cell_type": "code",
   "execution_count": 3,
   "id": "f65255c4",
   "metadata": {
    "execution": {
     "iopub.execute_input": "2024-12-04T23:17:11.480801Z",
     "iopub.status.busy": "2024-12-04T23:17:11.480538Z",
     "iopub.status.idle": "2024-12-04T23:17:11.483356Z",
     "shell.execute_reply": "2024-12-04T23:17:11.482899Z"
    },
    "papermill": {
     "duration": 0.00683,
     "end_time": "2024-12-04T23:17:11.484451",
     "exception": false,
     "start_time": "2024-12-04T23:17:11.477621",
     "status": "completed"
    },
    "tags": []
   },
   "outputs": [],
   "source": [
    "from os import environ as env\n",
    "is_papermill = bool(env.get(\"PAPERMILL\"))"
   ]
  },
  {
   "cell_type": "code",
   "execution_count": 4,
   "id": "c5e14886",
   "metadata": {
    "editable": true,
    "execution": {
     "iopub.execute_input": "2024-12-04T23:17:11.489782Z",
     "iopub.status.busy": "2024-12-04T23:17:11.489525Z",
     "iopub.status.idle": "2024-12-04T23:17:16.542969Z",
     "shell.execute_reply": "2024-12-04T23:17:16.542352Z"
    },
    "papermill": {
     "duration": 5.057338,
     "end_time": "2024-12-04T23:17:16.543989",
     "exception": false,
     "start_time": "2024-12-04T23:17:11.486651",
     "status": "completed"
    },
    "slideshow": {
     "slide_type": ""
    },
    "tags": []
   },
   "outputs": [
    {
     "name": "stderr",
     "output_type": "stream",
     "text": [
      "/home/ubuntu/.pyenv/versions/3.12.7/lib/python3.12/site-packages/torchdata/datapipes/__init__.py:18: UserWarning: \n",
      "################################################################################\n",
      "WARNING!\n",
      "The 'datapipes', 'dataloader2' modules are deprecated and will be removed in a\n",
      "future torchdata release! Please see https://github.com/pytorch/data/issues/1196\n",
      "to learn more and leave feedback.\n",
      "################################################################################\n",
      "\n",
      "  deprecation_warning()\n"
     ]
    },
    {
     "name": "stdout",
     "output_type": "stream",
     "text": [
      "53751 cells, 420 batches\n"
     ]
    }
   ],
   "source": [
    "import tiledbsoma as soma\n",
    "import torch\n",
    "from sklearn.preprocessing import LabelEncoder\n",
    "\n",
    "import tiledbsoma_ml as soma_ml\n",
    "\n",
    "CZI_Census_Homo_Sapiens_URL = f\"s3://cellxgene-census-public-us-west-2/cell-census/{census_version}/soma/census_data/homo_sapiens/\"\n",
    "\n",
    "experiment = soma.open(\n",
    "    CZI_Census_Homo_Sapiens_URL,\n",
    "    context=soma.SOMATileDBContext(tiledb_config={\"vfs.s3.region\": \"us-west-2\"}),\n",
    ")\n",
    "obs_value_filter = f\"tissue_general == '{tissue}'\"\n",
    "if is_primary_data:\n",
    "    obs_value_filter += \" and is_primary_data == True\"\n",
    "\n",
    "iter_cls = soma_ml.ExperimentAxisQueryIterDataPipe if workers is None and not lightning else soma_ml.ExperimentAxisQueryIterableDataset\n",
    "\n",
    "with experiment.axis_query(\n",
    "    measurement_name=\"RNA\", obs_query=soma.AxisQuery(value_filter=obs_value_filter)\n",
    ") as query:\n",
    "    obs_df = query.obs(column_names=[\"cell_type\"]).concat().to_pandas()\n",
    "    cell_type_encoder = LabelEncoder().fit(obs_df[\"cell_type\"].unique())\n",
    "\n",
    "    experiment_dataset = iter_cls(\n",
    "        query,\n",
    "        X_name=\"raw\",\n",
    "        obs_column_names=[\"cell_type\"],\n",
    "        batch_size=batch_size,\n",
    "        shuffle=shuffle,\n",
    "    )\n",
    "\n",
    "print(f'{len(obs_df)} cells, {len(experiment_dataset)} batches')"
   ]
  },
  {
   "cell_type": "code",
   "execution_count": 5,
   "id": "9f83bddb",
   "metadata": {
    "editable": true,
    "execution": {
     "iopub.execute_input": "2024-12-04T23:17:16.550375Z",
     "iopub.status.busy": "2024-12-04T23:17:16.549856Z",
     "iopub.status.idle": "2024-12-04T23:17:16.581494Z",
     "shell.execute_reply": "2024-12-04T23:17:16.580941Z"
    },
    "papermill": {
     "duration": 0.035627,
     "end_time": "2024-12-04T23:17:16.582411",
     "exception": false,
     "start_time": "2024-12-04T23:17:16.546784",
     "status": "completed"
    },
    "slideshow": {
     "slide_type": ""
    },
    "tags": []
   },
   "outputs": [],
   "source": [
    "# PyTorch\n",
    "class LogisticRegression(torch.nn.Module):\n",
    "    def __init__(self, input_dim, output_dim):\n",
    "        super(LogisticRegression, self).__init__()  # noqa: UP008\n",
    "        self.linear = torch.nn.Linear(input_dim, output_dim)\n",
    "\n",
    "    def forward(self, x):\n",
    "        outputs = torch.sigmoid(self.linear(x))\n",
    "        return outputs\n",
    "    \n",
    "\n",
    "def train_epoch(model, train_dataloader, loss_fn, optimizer, device):\n",
    "    model.train()\n",
    "    train_loss = 0\n",
    "    train_correct = 0\n",
    "    train_total = 0\n",
    "\n",
    "    for X_batch, y_batch in train_dataloader:\n",
    "        optimizer.zero_grad()\n",
    "\n",
    "        X_batch = torch.from_numpy(X_batch).float().to(device)\n",
    "\n",
    "        # Perform prediction\n",
    "        outputs = model(X_batch)\n",
    "\n",
    "        # Determine the predicted label\n",
    "        probabilities = torch.nn.functional.softmax(outputs, 1)\n",
    "        predictions = torch.argmax(probabilities, axis=1)\n",
    "\n",
    "        # Compute the loss and perform back propagation\n",
    "        y_batch = torch.from_numpy(cell_type_encoder.transform(y_batch['cell_type'])).to(device)\n",
    "        train_correct += (predictions == y_batch).sum().item()\n",
    "        train_total += len(predictions)\n",
    "\n",
    "        loss = loss_fn(outputs, y_batch.long())\n",
    "        train_loss += loss.item()\n",
    "        loss.backward()\n",
    "        optimizer.step()\n",
    "\n",
    "    train_loss /= train_total\n",
    "    train_accuracy = train_correct / train_total\n",
    "    return train_loss, train_accuracy"
   ]
  },
  {
   "cell_type": "code",
   "execution_count": 6,
   "id": "a1d4cc3d",
   "metadata": {
    "editable": true,
    "execution": {
     "iopub.execute_input": "2024-12-04T23:17:16.588100Z",
     "iopub.status.busy": "2024-12-04T23:17:16.587851Z",
     "iopub.status.idle": "2024-12-04T23:17:18.400823Z",
     "shell.execute_reply": "2024-12-04T23:17:18.400193Z"
    },
    "papermill": {
     "duration": 1.817222,
     "end_time": "2024-12-04T23:17:18.402112",
     "exception": false,
     "start_time": "2024-12-04T23:17:16.584890",
     "status": "completed"
    },
    "slideshow": {
     "slide_type": ""
    },
    "tags": []
   },
   "outputs": [],
   "source": [
    "# Lightning\n",
    "import pytorch_lightning as pl\n",
    "\n",
    "class LogisticRegressionLightning(pl.LightningModule):\n",
    "    def __init__(self, input_dim, output_dim, cell_type_encoder, learning_rate=learning_rate):\n",
    "        super(LogisticRegressionLightning, self).__init__()\n",
    "        self.linear = torch.nn.Linear(input_dim, output_dim)\n",
    "        self.cell_type_encoder = cell_type_encoder\n",
    "        self.learning_rate = learning_rate\n",
    "        self.loss_fn = torch.nn.CrossEntropyLoss()\n",
    "\n",
    "    def forward(self, x):\n",
    "        outputs = torch.sigmoid(self.linear(x))\n",
    "        return outputs\n",
    "\n",
    "    def training_step(self, batch, batch_idx):\n",
    "        X_batch, y_batch = batch\n",
    "        # X_batch = X_batch.float()\n",
    "        X_batch = torch.from_numpy(X_batch).float().to(self.device)\n",
    "\n",
    "        # Perform prediction\n",
    "        outputs = self(X_batch)\n",
    "\n",
    "        # Determine the predicted label\n",
    "        probabilities = torch.nn.functional.softmax(outputs, 1)\n",
    "        predictions = torch.argmax(probabilities, axis=1)\n",
    "\n",
    "        # Compute loss\n",
    "        y_batch = torch.from_numpy(\n",
    "            self.cell_type_encoder.transform(y_batch[\"cell_type\"])\n",
    "        ).to(self.device)\n",
    "        loss = self.loss_fn(outputs, y_batch.long())\n",
    "\n",
    "        # Compute accuracy\n",
    "        train_correct = (predictions == y_batch).sum().item()\n",
    "        train_accuracy = train_correct / len(predictions)\n",
    "\n",
    "        # Log loss and accuracy\n",
    "        self.log(\"train_loss\", loss, prog_bar=True)\n",
    "        self.log(\"train_accuracy\", train_accuracy, prog_bar=True)\n",
    "\n",
    "        return loss\n",
    "\n",
    "    def configure_optimizers(self):\n",
    "        optimizer = torch.optim.Adam(self.parameters(), lr=self.learning_rate)\n",
    "        return optimizer"
   ]
  },
  {
   "cell_type": "code",
   "execution_count": 7,
   "id": "c377d956",
   "metadata": {
    "editable": true,
    "execution": {
     "iopub.execute_input": "2024-12-04T23:17:18.408881Z",
     "iopub.status.busy": "2024-12-04T23:17:18.408381Z",
     "iopub.status.idle": "2024-12-04T23:17:18.429464Z",
     "shell.execute_reply": "2024-12-04T23:17:18.428938Z"
    },
    "papermill": {
     "duration": 0.025641,
     "end_time": "2024-12-04T23:17:18.430562",
     "exception": false,
     "start_time": "2024-12-04T23:17:18.404921",
     "status": "completed"
    },
    "slideshow": {
     "slide_type": ""
    },
    "tags": []
   },
   "outputs": [],
   "source": [
    "if cpu or not torch.cuda.is_available():\n",
    "    device = \"cpu\"\n",
    "else:\n",
    "    device = \"cuda\"\n",
    "device = torch.device(device)\n",
    "input_dim = experiment_dataset.shape[1]\n",
    "output_dim = len(cell_type_encoder.classes_)\n",
    "\n",
    "dl_kwargs = {} if workers is None else dict(num_workers=workers, persistent_workers=True)\n",
    "train_dataloader = soma_ml.experiment_dataloader(experiment_dataset, **dl_kwargs)\n",
    "\n",
    "if lightning:\n",
    "    model = LogisticRegressionLightning(input_dim, output_dim, cell_type_encoder=cell_type_encoder)\n",
    "    trainer = pl.Trainer(\n",
    "        max_epochs=n_epochs,\n",
    "        strategy=\"auto\" if cpu else \"ddp_notebook\",\n",
    "        accelerator=\"cpu\" if cpu else \"gpu\",\n",
    "        devices=1 if cpu else workers or 1,\n",
    "        sync_batchnorm=True if not cpu and workers and workers > 1 else False,\n",
    "        deterministic=True,\n",
    "        max_time=None,\n",
    "        enable_progress_bar=not is_papermill,\n",
    "    )\n",
    "    torch.set_float32_matmul_precision(\"high\")\n",
    "else:\n",
    "    model = LogisticRegression(input_dim, output_dim).to(device)\n",
    "    loss_fn = torch.nn.CrossEntropyLoss()\n",
    "    optimizer = torch.optim.Adam(model.parameters(), lr=learning_rate)"
   ]
  },
  {
   "cell_type": "code",
   "execution_count": 8,
   "id": "737f04a4",
   "metadata": {
    "editable": true,
    "execution": {
     "iopub.execute_input": "2024-12-04T23:17:18.436618Z",
     "iopub.status.busy": "2024-12-04T23:17:18.436327Z",
     "iopub.status.idle": "2024-12-04T23:20:08.317271Z",
     "shell.execute_reply": "2024-12-04T23:20:08.316572Z"
    },
    "papermill": {
     "duration": 169.885239,
     "end_time": "2024-12-04T23:20:08.318283",
     "exception": false,
     "start_time": "2024-12-04T23:17:18.433044",
     "status": "completed"
    },
    "slideshow": {
     "slide_type": ""
    },
    "tags": []
   },
   "outputs": [
    {
     "name": "stdout",
     "output_type": "stream",
     "text": [
      "Epoch 1: Train Loss: 0.0226842 Accuracy 0.4148\n"
     ]
    },
    {
     "name": "stdout",
     "output_type": "stream",
     "text": [
      "Epoch 2: Train Loss: 0.0212605 Accuracy 0.5621\n"
     ]
    },
    {
     "name": "stdout",
     "output_type": "stream",
     "text": [
      "Epoch 3: Train Loss: 0.0207768 Accuracy 0.7344\n"
     ]
    },
    {
     "name": "stdout",
     "output_type": "stream",
     "text": [
      "Epoch 4: Train Loss: 0.0204865 Accuracy 0.8298\n"
     ]
    },
    {
     "name": "stdout",
     "output_type": "stream",
     "text": [
      "Epoch 5: Train Loss: 0.0202759 Accuracy 0.9001\n"
     ]
    },
    {
     "name": "stdout",
     "output_type": "stream",
     "text": [
      "Epoch 6: Train Loss: 0.0200985 Accuracy 0.9272\n"
     ]
    },
    {
     "name": "stdout",
     "output_type": "stream",
     "text": [
      "Epoch 7: Train Loss: 0.0199604 Accuracy 0.9319\n"
     ]
    },
    {
     "name": "stdout",
     "output_type": "stream",
     "text": [
      "Epoch 8: Train Loss: 0.0198574 Accuracy 0.9332\n"
     ]
    },
    {
     "name": "stdout",
     "output_type": "stream",
     "text": [
      "Epoch 9: Train Loss: 0.0197762 Accuracy 0.9360\n"
     ]
    },
    {
     "name": "stdout",
     "output_type": "stream",
     "text": [
      "Epoch 10: Train Loss: 0.0197097 Accuracy 0.9372\n"
     ]
    },
    {
     "name": "stdout",
     "output_type": "stream",
     "text": [
      "Epoch 11: Train Loss: 0.0196539 Accuracy 0.9380\n"
     ]
    },
    {
     "name": "stdout",
     "output_type": "stream",
     "text": [
      "Epoch 12: Train Loss: 0.0196057 Accuracy 0.9397\n"
     ]
    },
    {
     "name": "stdout",
     "output_type": "stream",
     "text": [
      "Epoch 13: Train Loss: 0.0195635 Accuracy 0.9408\n"
     ]
    },
    {
     "name": "stdout",
     "output_type": "stream",
     "text": [
      "Epoch 14: Train Loss: 0.0195262 Accuracy 0.9428\n"
     ]
    },
    {
     "name": "stdout",
     "output_type": "stream",
     "text": [
      "Epoch 15: Train Loss: 0.0194932 Accuracy 0.9440\n"
     ]
    },
    {
     "name": "stdout",
     "output_type": "stream",
     "text": [
      "Epoch 16: Train Loss: 0.0194638 Accuracy 0.9450\n"
     ]
    },
    {
     "name": "stdout",
     "output_type": "stream",
     "text": [
      "Epoch 17: Train Loss: 0.0194376 Accuracy 0.9459\n"
     ]
    },
    {
     "name": "stdout",
     "output_type": "stream",
     "text": [
      "Epoch 18: Train Loss: 0.0194140 Accuracy 0.9467\n"
     ]
    },
    {
     "name": "stdout",
     "output_type": "stream",
     "text": [
      "Epoch 19: Train Loss: 0.0193927 Accuracy 0.9476\n"
     ]
    },
    {
     "name": "stdout",
     "output_type": "stream",
     "text": [
      "Epoch 20: Train Loss: 0.0193732 Accuracy 0.9483\n",
      "CPU times: user 28min 1s, sys: 4min 23s, total: 32min 25s\n",
      "Wall time: 2min 49s\n"
     ]
    }
   ],
   "source": [
    "%%time\n",
    "if lightning:\n",
    "    trainer.fit(model, train_dataloaders=train_dataloader)\n",
    "else:\n",
    "    for epoch in range(n_epochs):\n",
    "        if workers is not None:\n",
    "            experiment_dataset.set_epoch(epoch)\n",
    "        train_loss, train_accuracy = train_epoch(model, train_dataloader, loss_fn, optimizer, device)\n",
    "        print(f\"Epoch {epoch + 1}: Train Loss: {train_loss:.7f} Accuracy {train_accuracy:.4f}\")"
   ]
  },
  {
   "cell_type": "code",
   "execution_count": 9,
   "id": "651da9f7",
   "metadata": {
    "editable": true,
    "execution": {
     "iopub.execute_input": "2024-12-04T23:20:08.327177Z",
     "iopub.status.busy": "2024-12-04T23:20:08.326891Z",
     "iopub.status.idle": "2024-12-04T23:20:13.242178Z",
     "shell.execute_reply": "2024-12-04T23:20:13.241533Z"
    },
    "papermill": {
     "duration": 4.921161,
     "end_time": "2024-12-04T23:20:13.243473",
     "exception": false,
     "start_time": "2024-12-04T23:20:08.322312",
     "status": "completed"
    },
    "slideshow": {
     "slide_type": ""
    },
    "tags": []
   },
   "outputs": [],
   "source": [
    "# TODO: split train/test\n",
    "test_dataloader = soma_ml.experiment_dataloader(experiment_dataset, **dl_kwargs)\n",
    "X_batch, y_batch = next(iter(test_dataloader))\n",
    "X_batch = torch.from_numpy(X_batch)\n",
    "y_batch = torch.from_numpy(cell_type_encoder.transform(y_batch['cell_type']))"
   ]
  },
  {
   "cell_type": "code",
   "execution_count": 10,
   "id": "f9796f98",
   "metadata": {
    "editable": true,
    "execution": {
     "iopub.execute_input": "2024-12-04T23:20:13.253286Z",
     "iopub.status.busy": "2024-12-04T23:20:13.252869Z",
     "iopub.status.idle": "2024-12-04T23:20:13.286329Z",
     "shell.execute_reply": "2024-12-04T23:20:13.285778Z"
    },
    "papermill": {
     "duration": 0.039208,
     "end_time": "2024-12-04T23:20:13.287416",
     "exception": false,
     "start_time": "2024-12-04T23:20:13.248208",
     "status": "completed"
    },
    "slideshow": {
     "slide_type": ""
    },
    "tags": []
   },
   "outputs": [
    {
     "name": "stdout",
     "output_type": "stream",
     "text": [
      "Accuracy: 96.1% (123 correct, 5 incorrect)\n"
     ]
    },
    {
     "data": {
      "text/html": [
       "<div>\n",
       "<style scoped>\n",
       "    .dataframe tbody tr th:only-of-type {\n",
       "        vertical-align: middle;\n",
       "    }\n",
       "\n",
       "    .dataframe tbody tr th {\n",
       "        vertical-align: top;\n",
       "    }\n",
       "\n",
       "    .dataframe thead th {\n",
       "        text-align: right;\n",
       "    }\n",
       "</style>\n",
       "<table border=\"1\" class=\"dataframe\">\n",
       "  <thead>\n",
       "    <tr style=\"text-align: right;\">\n",
       "      <th>predicted cell type</th>\n",
       "      <th>dendritic cell</th>\n",
       "      <th>endothelial cell</th>\n",
       "      <th>epithelial cell</th>\n",
       "      <th>fibroblast</th>\n",
       "      <th>granulosa cell</th>\n",
       "      <th>innate lymphoid cell</th>\n",
       "      <th>leukocyte</th>\n",
       "      <th>natural killer cell</th>\n",
       "      <th>pericyte</th>\n",
       "      <th>primordial germ cell</th>\n",
       "      <th>smooth muscle cell</th>\n",
       "      <th>stromal cell</th>\n",
       "      <th>stromal cell of ovary</th>\n",
       "      <th>theca cell</th>\n",
       "    </tr>\n",
       "    <tr>\n",
       "      <th>actual cell type</th>\n",
       "      <th></th>\n",
       "      <th></th>\n",
       "      <th></th>\n",
       "      <th></th>\n",
       "      <th></th>\n",
       "      <th></th>\n",
       "      <th></th>\n",
       "      <th></th>\n",
       "      <th></th>\n",
       "      <th></th>\n",
       "      <th></th>\n",
       "      <th></th>\n",
       "      <th></th>\n",
       "      <th></th>\n",
       "    </tr>\n",
       "  </thead>\n",
       "  <tbody>\n",
       "    <tr>\n",
       "      <th>dendritic cell</th>\n",
       "      <td>1</td>\n",
       "      <td></td>\n",
       "      <td></td>\n",
       "      <td></td>\n",
       "      <td></td>\n",
       "      <td></td>\n",
       "      <td></td>\n",
       "      <td></td>\n",
       "      <td></td>\n",
       "      <td></td>\n",
       "      <td></td>\n",
       "      <td></td>\n",
       "      <td></td>\n",
       "      <td></td>\n",
       "    </tr>\n",
       "    <tr>\n",
       "      <th>endothelial cell</th>\n",
       "      <td></td>\n",
       "      <td>4</td>\n",
       "      <td></td>\n",
       "      <td></td>\n",
       "      <td></td>\n",
       "      <td></td>\n",
       "      <td></td>\n",
       "      <td></td>\n",
       "      <td></td>\n",
       "      <td></td>\n",
       "      <td></td>\n",
       "      <td></td>\n",
       "      <td></td>\n",
       "      <td></td>\n",
       "    </tr>\n",
       "    <tr>\n",
       "      <th>endothelial cell of lymphatic vessel</th>\n",
       "      <td></td>\n",
       "      <td>1</td>\n",
       "      <td></td>\n",
       "      <td></td>\n",
       "      <td></td>\n",
       "      <td></td>\n",
       "      <td></td>\n",
       "      <td></td>\n",
       "      <td></td>\n",
       "      <td></td>\n",
       "      <td></td>\n",
       "      <td></td>\n",
       "      <td></td>\n",
       "      <td></td>\n",
       "    </tr>\n",
       "    <tr>\n",
       "      <th>epithelial cell</th>\n",
       "      <td></td>\n",
       "      <td></td>\n",
       "      <td>5</td>\n",
       "      <td></td>\n",
       "      <td></td>\n",
       "      <td></td>\n",
       "      <td></td>\n",
       "      <td></td>\n",
       "      <td></td>\n",
       "      <td></td>\n",
       "      <td></td>\n",
       "      <td></td>\n",
       "      <td></td>\n",
       "      <td></td>\n",
       "    </tr>\n",
       "    <tr>\n",
       "      <th>fibroblast</th>\n",
       "      <td></td>\n",
       "      <td></td>\n",
       "      <td></td>\n",
       "      <td>5</td>\n",
       "      <td></td>\n",
       "      <td></td>\n",
       "      <td></td>\n",
       "      <td></td>\n",
       "      <td></td>\n",
       "      <td></td>\n",
       "      <td></td>\n",
       "      <td></td>\n",
       "      <td></td>\n",
       "      <td></td>\n",
       "    </tr>\n",
       "    <tr>\n",
       "      <th>granulosa cell</th>\n",
       "      <td></td>\n",
       "      <td></td>\n",
       "      <td></td>\n",
       "      <td></td>\n",
       "      <td>8</td>\n",
       "      <td></td>\n",
       "      <td></td>\n",
       "      <td></td>\n",
       "      <td></td>\n",
       "      <td></td>\n",
       "      <td></td>\n",
       "      <td></td>\n",
       "      <td></td>\n",
       "      <td></td>\n",
       "    </tr>\n",
       "    <tr>\n",
       "      <th>innate lymphoid cell</th>\n",
       "      <td></td>\n",
       "      <td></td>\n",
       "      <td></td>\n",
       "      <td></td>\n",
       "      <td></td>\n",
       "      <td>1</td>\n",
       "      <td></td>\n",
       "      <td></td>\n",
       "      <td></td>\n",
       "      <td></td>\n",
       "      <td></td>\n",
       "      <td></td>\n",
       "      <td></td>\n",
       "      <td></td>\n",
       "    </tr>\n",
       "    <tr>\n",
       "      <th>leukocyte</th>\n",
       "      <td></td>\n",
       "      <td></td>\n",
       "      <td></td>\n",
       "      <td></td>\n",
       "      <td></td>\n",
       "      <td></td>\n",
       "      <td>1</td>\n",
       "      <td></td>\n",
       "      <td></td>\n",
       "      <td></td>\n",
       "      <td></td>\n",
       "      <td></td>\n",
       "      <td></td>\n",
       "      <td></td>\n",
       "    </tr>\n",
       "    <tr>\n",
       "      <th>natural killer cell</th>\n",
       "      <td></td>\n",
       "      <td>1</td>\n",
       "      <td></td>\n",
       "      <td></td>\n",
       "      <td></td>\n",
       "      <td></td>\n",
       "      <td></td>\n",
       "      <td>2</td>\n",
       "      <td></td>\n",
       "      <td></td>\n",
       "      <td></td>\n",
       "      <td></td>\n",
       "      <td></td>\n",
       "      <td></td>\n",
       "    </tr>\n",
       "    <tr>\n",
       "      <th>pericyte</th>\n",
       "      <td></td>\n",
       "      <td></td>\n",
       "      <td></td>\n",
       "      <td></td>\n",
       "      <td></td>\n",
       "      <td></td>\n",
       "      <td></td>\n",
       "      <td></td>\n",
       "      <td>7</td>\n",
       "      <td></td>\n",
       "      <td></td>\n",
       "      <td>2</td>\n",
       "      <td></td>\n",
       "      <td></td>\n",
       "    </tr>\n",
       "    <tr>\n",
       "      <th>primordial germ cell</th>\n",
       "      <td></td>\n",
       "      <td></td>\n",
       "      <td></td>\n",
       "      <td></td>\n",
       "      <td></td>\n",
       "      <td></td>\n",
       "      <td></td>\n",
       "      <td></td>\n",
       "      <td></td>\n",
       "      <td>1</td>\n",
       "      <td></td>\n",
       "      <td></td>\n",
       "      <td></td>\n",
       "      <td></td>\n",
       "    </tr>\n",
       "    <tr>\n",
       "      <th>smooth muscle cell</th>\n",
       "      <td></td>\n",
       "      <td></td>\n",
       "      <td></td>\n",
       "      <td></td>\n",
       "      <td></td>\n",
       "      <td></td>\n",
       "      <td></td>\n",
       "      <td></td>\n",
       "      <td></td>\n",
       "      <td></td>\n",
       "      <td>1</td>\n",
       "      <td>1</td>\n",
       "      <td></td>\n",
       "      <td></td>\n",
       "    </tr>\n",
       "    <tr>\n",
       "      <th>stromal cell</th>\n",
       "      <td></td>\n",
       "      <td></td>\n",
       "      <td></td>\n",
       "      <td></td>\n",
       "      <td></td>\n",
       "      <td></td>\n",
       "      <td></td>\n",
       "      <td></td>\n",
       "      <td></td>\n",
       "      <td></td>\n",
       "      <td></td>\n",
       "      <td>58</td>\n",
       "      <td></td>\n",
       "      <td></td>\n",
       "    </tr>\n",
       "    <tr>\n",
       "      <th>stromal cell of ovary</th>\n",
       "      <td></td>\n",
       "      <td></td>\n",
       "      <td></td>\n",
       "      <td></td>\n",
       "      <td></td>\n",
       "      <td></td>\n",
       "      <td></td>\n",
       "      <td></td>\n",
       "      <td></td>\n",
       "      <td></td>\n",
       "      <td></td>\n",
       "      <td></td>\n",
       "      <td>21</td>\n",
       "      <td></td>\n",
       "    </tr>\n",
       "    <tr>\n",
       "      <th>theca cell</th>\n",
       "      <td></td>\n",
       "      <td></td>\n",
       "      <td></td>\n",
       "      <td></td>\n",
       "      <td></td>\n",
       "      <td></td>\n",
       "      <td></td>\n",
       "      <td></td>\n",
       "      <td></td>\n",
       "      <td></td>\n",
       "      <td></td>\n",
       "      <td></td>\n",
       "      <td></td>\n",
       "      <td>8</td>\n",
       "    </tr>\n",
       "  </tbody>\n",
       "</table>\n",
       "</div>"
      ],
      "text/plain": [
       "predicted cell type                  dendritic cell endothelial cell  \\\n",
       "actual cell type                                                       \n",
       "dendritic cell                                    1                    \n",
       "endothelial cell                                                   4   \n",
       "endothelial cell of lymphatic vessel                               1   \n",
       "epithelial cell                                                        \n",
       "fibroblast                                                             \n",
       "granulosa cell                                                         \n",
       "innate lymphoid cell                                                   \n",
       "leukocyte                                                              \n",
       "natural killer cell                                                1   \n",
       "pericyte                                                               \n",
       "primordial germ cell                                                   \n",
       "smooth muscle cell                                                     \n",
       "stromal cell                                                           \n",
       "stromal cell of ovary                                                  \n",
       "theca cell                                                             \n",
       "\n",
       "predicted cell type                  epithelial cell fibroblast  \\\n",
       "actual cell type                                                  \n",
       "dendritic cell                                                    \n",
       "endothelial cell                                                  \n",
       "endothelial cell of lymphatic vessel                              \n",
       "epithelial cell                                    5              \n",
       "fibroblast                                                    5   \n",
       "granulosa cell                                                    \n",
       "innate lymphoid cell                                              \n",
       "leukocyte                                                         \n",
       "natural killer cell                                               \n",
       "pericyte                                                          \n",
       "primordial germ cell                                              \n",
       "smooth muscle cell                                                \n",
       "stromal cell                                                      \n",
       "stromal cell of ovary                                             \n",
       "theca cell                                                        \n",
       "\n",
       "predicted cell type                  granulosa cell innate lymphoid cell  \\\n",
       "actual cell type                                                           \n",
       "dendritic cell                                                             \n",
       "endothelial cell                                                           \n",
       "endothelial cell of lymphatic vessel                                       \n",
       "epithelial cell                                                            \n",
       "fibroblast                                                                 \n",
       "granulosa cell                                    8                        \n",
       "innate lymphoid cell                                                   1   \n",
       "leukocyte                                                                  \n",
       "natural killer cell                                                        \n",
       "pericyte                                                                   \n",
       "primordial germ cell                                                       \n",
       "smooth muscle cell                                                         \n",
       "stromal cell                                                               \n",
       "stromal cell of ovary                                                      \n",
       "theca cell                                                                 \n",
       "\n",
       "predicted cell type                  leukocyte natural killer cell pericyte  \\\n",
       "actual cell type                                                              \n",
       "dendritic cell                                                                \n",
       "endothelial cell                                                              \n",
       "endothelial cell of lymphatic vessel                                          \n",
       "epithelial cell                                                               \n",
       "fibroblast                                                                    \n",
       "granulosa cell                                                                \n",
       "innate lymphoid cell                                                          \n",
       "leukocyte                                    1                                \n",
       "natural killer cell                                              2            \n",
       "pericyte                                                                  7   \n",
       "primordial germ cell                                                          \n",
       "smooth muscle cell                                                            \n",
       "stromal cell                                                                  \n",
       "stromal cell of ovary                                                         \n",
       "theca cell                                                                    \n",
       "\n",
       "predicted cell type                  primordial germ cell smooth muscle cell  \\\n",
       "actual cell type                                                               \n",
       "dendritic cell                                                                 \n",
       "endothelial cell                                                               \n",
       "endothelial cell of lymphatic vessel                                           \n",
       "epithelial cell                                                                \n",
       "fibroblast                                                                     \n",
       "granulosa cell                                                                 \n",
       "innate lymphoid cell                                                           \n",
       "leukocyte                                                                      \n",
       "natural killer cell                                                            \n",
       "pericyte                                                                       \n",
       "primordial germ cell                                    1                      \n",
       "smooth muscle cell                                                         1   \n",
       "stromal cell                                                                   \n",
       "stromal cell of ovary                                                          \n",
       "theca cell                                                                     \n",
       "\n",
       "predicted cell type                  stromal cell stromal cell of ovary  \\\n",
       "actual cell type                                                          \n",
       "dendritic cell                                                            \n",
       "endothelial cell                                                          \n",
       "endothelial cell of lymphatic vessel                                      \n",
       "epithelial cell                                                           \n",
       "fibroblast                                                                \n",
       "granulosa cell                                                            \n",
       "innate lymphoid cell                                                      \n",
       "leukocyte                                                                 \n",
       "natural killer cell                                                       \n",
       "pericyte                                        2                         \n",
       "primordial germ cell                                                      \n",
       "smooth muscle cell                              1                         \n",
       "stromal cell                                   58                         \n",
       "stromal cell of ovary                                                21   \n",
       "theca cell                                                                \n",
       "\n",
       "predicted cell type                  theca cell  \n",
       "actual cell type                                 \n",
       "dendritic cell                                   \n",
       "endothelial cell                                 \n",
       "endothelial cell of lymphatic vessel             \n",
       "epithelial cell                                  \n",
       "fibroblast                                       \n",
       "granulosa cell                                   \n",
       "innate lymphoid cell                             \n",
       "leukocyte                                        \n",
       "natural killer cell                              \n",
       "pericyte                                         \n",
       "primordial germ cell                             \n",
       "smooth muscle cell                               \n",
       "stromal cell                                     \n",
       "stromal cell of ovary                            \n",
       "theca cell                                    8  "
      ]
     },
     "execution_count": 10,
     "metadata": {},
     "output_type": "execute_result"
    }
   ],
   "source": [
    "import pandas as pd\n",
    "\n",
    "model.eval()\n",
    "model.to(device)\n",
    "outputs = model(X_batch.to(device))\n",
    "probabilities = torch.nn.functional.softmax(outputs, 1)\n",
    "predictions = torch.argmax(probabilities, axis=1)\n",
    "predicted_cell_types = cell_type_encoder.inverse_transform(predictions.cpu())\n",
    "\n",
    "cmp_df = pd.DataFrame({\n",
    "    \"actual cell type\": cell_type_encoder.inverse_transform(y_batch.ravel().numpy()),\n",
    "    \"predicted cell type\": predicted_cell_types,\n",
    "})\n",
    "right, wrong = (cmp_df['actual cell type'] == cmp_df['predicted cell type']).value_counts().values\n",
    "print('Accuracy: %.1f%% (%d correct, %d incorrect)' % (100 * right / len(cmp_df), right, wrong))\n",
    "pd.crosstab(cmp_df['actual cell type'], cmp_df['predicted cell type']).replace(0, '')"
   ]
  },
  {
   "cell_type": "markdown",
   "source": [
    "\tCommand being timed: \"papermill -p tissue ovary -p cpu True benchmark.ipynb ovary/torch-cpu.ipynb\"\n",
    "\tUser time (seconds): 1711.68\n",
    "\tSystem time (seconds): 278.30\n",
    "\tPercent of CPU this job got: 1068%\n",
    "\tElapsed (wall clock) time (h:mm:ss or m:ss): 3:06.19\n",
    "\tAverage shared text size (kbytes): 0\n",
    "\tAverage unshared data size (kbytes): 0\n",
    "\tAverage stack size (kbytes): 0\n",
    "\tAverage total size (kbytes): 0\n",
    "\tMaximum resident set size (kbytes): 6747236\n",
    "\tAverage resident set size (kbytes): 0\n",
    "\tMajor (requiring I/O) page faults: 0\n",
    "\tMinor (reclaiming a frame) page faults: 19907667\n",
    "\tVoluntary context switches: 757402\n",
    "\tInvoluntary context switches: 424962\n",
    "\tSwaps: 0\n",
    "\tFile system inputs: 0\n",
    "\tFile system outputs: 1240\n",
    "\tSocket messages sent: 0\n",
    "\tSocket messages received: 0\n",
    "\tSignals delivered: 0\n",
    "\tPage size (bytes): 4096\n",
    "\tExit status: 0\n"
   ],
   "metadata": {}
  }
 ],
 "metadata": {
  "kernelspec": {
   "display_name": "Python 3 (ipykernel)",
   "language": "python",
   "name": "python3"
  },
  "language_info": {
   "codemirror_mode": {
    "name": "ipython",
    "version": 3
   },
   "file_extension": ".py",
   "mimetype": "text/x-python",
   "name": "python",
   "nbconvert_exporter": "python",
   "pygments_lexer": "ipython3",
   "version": "3.12.7"
  },
  "papermill": {
   "default_parameters": {},
   "duration": 185.35725,
   "end_time": "2024-12-04T23:20:15.615318",
   "environment_variables": {},
   "exception": null,
   "input_path": "benchmark.ipynb",
   "output_path": "ovary/torch-cpu.ipynb",
   "parameters": {
    "cpu": true,
    "tissue": "ovary"
   },
   "start_time": "2024-12-04T23:17:10.258068",
   "version": "2.6.0"
  }
 },
 "nbformat": 4,
 "nbformat_minor": 5
}