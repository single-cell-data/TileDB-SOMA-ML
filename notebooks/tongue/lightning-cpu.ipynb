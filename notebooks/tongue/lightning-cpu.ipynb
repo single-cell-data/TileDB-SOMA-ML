{
 "cells": [
  {
   "cell_type": "markdown",
   "id": "f91a7ffd",
   "metadata": {
    "editable": true,
    "papermill": {
     "duration": 0.002454,
     "end_time": "2024-12-04T03:59:50.688739",
     "exception": false,
     "start_time": "2024-12-04T03:59:50.686285",
     "status": "completed"
    },
    "slideshow": {
     "slide_type": ""
    },
    "tags": []
   },
   "source": [
    "Papermill params:"
   ]
  },
  {
   "cell_type": "code",
   "execution_count": 1,
   "id": "118fef76",
   "metadata": {
    "editable": true,
    "execution": {
     "iopub.execute_input": "2024-12-04T03:59:50.693976Z",
     "iopub.status.busy": "2024-12-04T03:59:50.693730Z",
     "iopub.status.idle": "2024-12-04T03:59:50.697430Z",
     "shell.execute_reply": "2024-12-04T03:59:50.696949Z"
    },
    "papermill": {
     "duration": 0.007394,
     "end_time": "2024-12-04T03:59:50.698518",
     "exception": false,
     "start_time": "2024-12-04T03:59:50.691124",
     "status": "completed"
    },
    "slideshow": {
     "slide_type": ""
    },
    "tags": [
     "parameters"
    ]
   },
   "outputs": [],
   "source": [
    "workers = None\n",
    "lightning = False       # Use PyTorch Lightning\n",
    "tissue = \"tongue\"       # \"tissue_general\" obs filter\n",
    "is_primary_data = True  # Additional obs filter\n",
    "cpu = False             # Force CPU mode\n",
    "census_version = \"2024-07-01\"\n",
    "batch_size = 128\n",
    "shuffle = True\n",
    "learning_rate = 1e-5\n",
    "n_epochs = 20\n",
    "train_split = 0.8\n",
    "split_seed = 1"
   ]
  },
  {
   "cell_type": "code",
   "execution_count": 2,
   "id": "7aca0d78",
   "metadata": {
    "execution": {
     "iopub.execute_input": "2024-12-04T03:59:50.703458Z",
     "iopub.status.busy": "2024-12-04T03:59:50.703197Z",
     "iopub.status.idle": "2024-12-04T03:59:50.705917Z",
     "shell.execute_reply": "2024-12-04T03:59:50.705468Z"
    },
    "papermill": {
     "duration": 0.00632,
     "end_time": "2024-12-04T03:59:50.706895",
     "exception": false,
     "start_time": "2024-12-04T03:59:50.700575",
     "status": "completed"
    },
    "tags": [
     "injected-parameters"
    ]
   },
   "outputs": [],
   "source": [
    "# Parameters\n",
    "tissue = \"tongue\"\n",
    "cpu = True\n",
    "lightning = True\n"
   ]
  },
  {
   "cell_type": "code",
   "execution_count": 3,
   "id": "a35720fb",
   "metadata": {
    "editable": true,
    "execution": {
     "iopub.execute_input": "2024-12-04T03:59:50.711833Z",
     "iopub.status.busy": "2024-12-04T03:59:50.711597Z",
     "iopub.status.idle": "2024-12-04T03:59:54.607400Z",
     "shell.execute_reply": "2024-12-04T03:59:54.606405Z"
    },
    "papermill": {
     "duration": 3.899956,
     "end_time": "2024-12-04T03:59:54.608913",
     "exception": false,
     "start_time": "2024-12-04T03:59:50.708957",
     "status": "completed"
    },
    "slideshow": {
     "slide_type": ""
    },
    "tags": []
   },
   "outputs": [
    {
     "name": "stderr",
     "output_type": "stream",
     "text": [
      "/home/ubuntu/.pyenv/versions/3.12.7/lib/python3.12/site-packages/torchdata/datapipes/__init__.py:18: UserWarning: \n",
      "################################################################################\n",
      "WARNING!\n",
      "The 'datapipes', 'dataloader2' modules are deprecated and will be removed in a\n",
      "future torchdata release! Please see https://github.com/pytorch/data/issues/1196\n",
      "to learn more and leave feedback.\n",
      "################################################################################\n",
      "\n",
      "  deprecation_warning()\n"
     ]
    }
   ],
   "source": [
    "import tiledbsoma as soma\n",
    "import torch\n",
    "from sklearn.preprocessing import LabelEncoder\n",
    "\n",
    "import tiledbsoma_ml as soma_ml\n",
    "\n",
    "CZI_Census_Homo_Sapiens_URL = f\"s3://cellxgene-census-public-us-west-2/cell-census/{census_version}/soma/census_data/homo_sapiens/\"\n",
    "\n",
    "experiment = soma.open(\n",
    "    CZI_Census_Homo_Sapiens_URL,\n",
    "    context=soma.SOMATileDBContext(tiledb_config={\"vfs.s3.region\": \"us-west-2\"}),\n",
    ")\n",
    "obs_value_filter = f\"tissue_general == '{tissue}'\"\n",
    "if is_primary_data:\n",
    "    obs_value_filter += \" and is_primary_data == True\"\n",
    "\n",
    "iter_cls = soma_ml.ExperimentAxisQueryIterDataPipe if workers is None and not lightning else soma_ml.ExperimentAxisQueryIterableDataset\n",
    "\n",
    "with experiment.axis_query(\n",
    "    measurement_name=\"RNA\", obs_query=soma.AxisQuery(value_filter=obs_value_filter)\n",
    ") as query:\n",
    "    obs_df = query.obs(column_names=[\"cell_type\"]).concat().to_pandas()\n",
    "    cell_type_encoder = LabelEncoder().fit(obs_df[\"cell_type\"].unique())\n",
    "\n",
    "    experiment_dataset = iter_cls(\n",
    "        query,\n",
    "        X_name=\"raw\",\n",
    "        obs_column_names=[\"cell_type\"],\n",
    "        batch_size=batch_size,\n",
    "        shuffle=shuffle,\n",
    "    )"
   ]
  },
  {
   "cell_type": "code",
   "execution_count": 4,
   "id": "2f9cf108",
   "metadata": {
    "editable": true,
    "execution": {
     "iopub.execute_input": "2024-12-04T03:59:54.615400Z",
     "iopub.status.busy": "2024-12-04T03:59:54.614670Z",
     "iopub.status.idle": "2024-12-04T03:59:54.621133Z",
     "shell.execute_reply": "2024-12-04T03:59:54.620630Z"
    },
    "papermill": {
     "duration": 0.010466,
     "end_time": "2024-12-04T03:59:54.621969",
     "exception": false,
     "start_time": "2024-12-04T03:59:54.611503",
     "status": "completed"
    },
    "slideshow": {
     "slide_type": ""
    },
    "tags": []
   },
   "outputs": [],
   "source": [
    "# PyTorch\n",
    "class LogisticRegression(torch.nn.Module):\n",
    "    def __init__(self, input_dim, output_dim):\n",
    "        super(LogisticRegression, self).__init__()  # noqa: UP008\n",
    "        self.linear = torch.nn.Linear(input_dim, output_dim)\n",
    "\n",
    "    def forward(self, x):\n",
    "        outputs = torch.sigmoid(self.linear(x))\n",
    "        return outputs\n",
    "    \n",
    "\n",
    "def train_epoch(model, train_dataloader, loss_fn, optimizer, device):\n",
    "    model.train()\n",
    "    train_loss = 0\n",
    "    train_correct = 0\n",
    "    train_total = 0\n",
    "\n",
    "    for X_batch, y_batch in train_dataloader:\n",
    "        optimizer.zero_grad()\n",
    "\n",
    "        X_batch = torch.from_numpy(X_batch).float().to(device)\n",
    "\n",
    "        # Perform prediction\n",
    "        outputs = model(X_batch)\n",
    "\n",
    "        # Determine the predicted label\n",
    "        probabilities = torch.nn.functional.softmax(outputs, 1)\n",
    "        predictions = torch.argmax(probabilities, axis=1)\n",
    "\n",
    "        # Compute the loss and perform back propagation\n",
    "        y_batch = torch.from_numpy(cell_type_encoder.transform(y_batch['cell_type'])).to(device)\n",
    "        train_correct += (predictions == y_batch).sum().item()\n",
    "        train_total += len(predictions)\n",
    "\n",
    "        loss = loss_fn(outputs, y_batch.long())\n",
    "        train_loss += loss.item()\n",
    "        loss.backward()\n",
    "        optimizer.step()\n",
    "\n",
    "    train_loss /= train_total\n",
    "    train_accuracy = train_correct / train_total\n",
    "    return train_loss, train_accuracy"
   ]
  },
  {
   "cell_type": "code",
   "execution_count": 5,
   "id": "7392d0d7",
   "metadata": {
    "editable": true,
    "execution": {
     "iopub.execute_input": "2024-12-04T03:59:54.627548Z",
     "iopub.status.busy": "2024-12-04T03:59:54.627180Z",
     "iopub.status.idle": "2024-12-04T03:59:56.425173Z",
     "shell.execute_reply": "2024-12-04T03:59:56.424607Z"
    },
    "papermill": {
     "duration": 1.802423,
     "end_time": "2024-12-04T03:59:56.426585",
     "exception": false,
     "start_time": "2024-12-04T03:59:54.624162",
     "status": "completed"
    },
    "slideshow": {
     "slide_type": ""
    },
    "tags": []
   },
   "outputs": [],
   "source": [
    "# Lightning\n",
    "import pytorch_lightning as pl\n",
    "\n",
    "class LogisticRegressionLightning(pl.LightningModule):\n",
    "    def __init__(self, input_dim, output_dim, cell_type_encoder, learning_rate=learning_rate):\n",
    "        super(LogisticRegressionLightning, self).__init__()\n",
    "        self.linear = torch.nn.Linear(input_dim, output_dim)\n",
    "        self.cell_type_encoder = cell_type_encoder\n",
    "        self.learning_rate = learning_rate\n",
    "        self.loss_fn = torch.nn.CrossEntropyLoss()\n",
    "\n",
    "    def forward(self, x):\n",
    "        outputs = torch.sigmoid(self.linear(x))\n",
    "        return outputs\n",
    "\n",
    "    def training_step(self, batch, batch_idx):\n",
    "        X_batch, y_batch = batch\n",
    "        # X_batch = X_batch.float()\n",
    "        X_batch = torch.from_numpy(X_batch).float().to(self.device)\n",
    "\n",
    "        # Perform prediction\n",
    "        outputs = self(X_batch)\n",
    "\n",
    "        # Determine the predicted label\n",
    "        probabilities = torch.nn.functional.softmax(outputs, 1)\n",
    "        predictions = torch.argmax(probabilities, axis=1)\n",
    "\n",
    "        # Compute loss\n",
    "        y_batch = torch.from_numpy(\n",
    "            self.cell_type_encoder.transform(y_batch[\"cell_type\"])\n",
    "        ).to(self.device)\n",
    "        loss = self.loss_fn(outputs, y_batch.long())\n",
    "\n",
    "        # Compute accuracy\n",
    "        train_correct = (predictions == y_batch).sum().item()\n",
    "        train_accuracy = train_correct / len(predictions)\n",
    "\n",
    "        # Log loss and accuracy\n",
    "        self.log(\"train_loss\", loss, prog_bar=True)\n",
    "        self.log(\"train_accuracy\", train_accuracy, prog_bar=True)\n",
    "\n",
    "        return loss\n",
    "\n",
    "    def configure_optimizers(self):\n",
    "        optimizer = torch.optim.Adam(self.parameters(), lr=self.learning_rate)\n",
    "        return optimizer"
   ]
  },
  {
   "cell_type": "code",
   "execution_count": 6,
   "id": "d65abbe1",
   "metadata": {
    "editable": true,
    "execution": {
     "iopub.execute_input": "2024-12-04T03:59:56.432913Z",
     "iopub.status.busy": "2024-12-04T03:59:56.432415Z",
     "iopub.status.idle": "2024-12-04T03:59:57.692473Z",
     "shell.execute_reply": "2024-12-04T03:59:57.691796Z"
    },
    "papermill": {
     "duration": 1.26419,
     "end_time": "2024-12-04T03:59:57.693445",
     "exception": false,
     "start_time": "2024-12-04T03:59:56.429255",
     "status": "completed"
    },
    "slideshow": {
     "slide_type": ""
    },
    "tags": []
   },
   "outputs": [
    {
     "name": "stderr",
     "output_type": "stream",
     "text": [
      "GPU available: True (cuda), used: False\n"
     ]
    },
    {
     "name": "stderr",
     "output_type": "stream",
     "text": [
      "TPU available: False, using: 0 TPU cores\n"
     ]
    },
    {
     "name": "stderr",
     "output_type": "stream",
     "text": [
      "HPU available: False, using: 0 HPUs\n"
     ]
    },
    {
     "name": "stderr",
     "output_type": "stream",
     "text": [
      "/home/ubuntu/.pyenv/versions/3.12.7/lib/python3.12/site-packages/pytorch_lightning/trainer/setup.py:177: GPU available but not used. You can set it by doing `Trainer(accelerator='gpu')`.\n",
      "/home/ubuntu/.pyenv/versions/3.12.7/lib/python3.12/site-packages/pytorch_lightning/trainer/connectors/logger_connector/logger_connector.py:75: Starting from v1.9.0, `tensorboardX` has been removed as a dependency of the `pytorch_lightning` package, due to potential conflicts with other packages in the ML ecosystem. For this reason, `logger=True` will use `CSVLogger` as the default logger, unless the `tensorboard` or `tensorboardX` packages are found. Please `pip install lightning[extra]` or one of them to enable TensorBoard support by default\n"
     ]
    }
   ],
   "source": [
    "if cpu or not torch.cuda.is_available():\n",
    "    device = \"cpu\"\n",
    "else:\n",
    "    device = \"cuda\"\n",
    "device = torch.device(device)\n",
    "input_dim = experiment_dataset.shape[1]\n",
    "output_dim = len(cell_type_encoder.classes_)\n",
    "\n",
    "dl_kwargs = {} if lightning or workers is None else dict(num_workers=workers, persistent_workers=True)\n",
    "train_dataloader = soma_ml.experiment_dataloader(experiment_dataset, **dl_kwargs)\n",
    "\n",
    "if lightning:\n",
    "    model = LogisticRegressionLightning(input_dim, output_dim, cell_type_encoder=cell_type_encoder)\n",
    "    trainer = pl.Trainer(\n",
    "        max_epochs=n_epochs,\n",
    "        **(\n",
    "            dict(accelerator=\"cpu\") if cpu else\n",
    "            dict(devices=list(range(workers or 1)))\n",
    "        ),\n",
    "    )\n",
    "    torch.set_float32_matmul_precision(\"high\")\n",
    "else:\n",
    "    model = LogisticRegression(input_dim, output_dim).to(device)\n",
    "    loss_fn = torch.nn.CrossEntropyLoss()\n",
    "    optimizer = torch.optim.Adam(model.parameters(), lr=learning_rate)"
   ]
  },
  {
   "cell_type": "code",
   "execution_count": 7,
   "id": "07359836",
   "metadata": {
    "editable": true,
    "execution": {
     "iopub.execute_input": "2024-12-04T03:59:57.701005Z",
     "iopub.status.busy": "2024-12-04T03:59:57.700720Z",
     "iopub.status.idle": "2024-12-04T04:02:05.390558Z",
     "shell.execute_reply": "2024-12-04T04:02:05.390030Z"
    },
    "papermill": {
     "duration": 127.695384,
     "end_time": "2024-12-04T04:02:05.391606",
     "exception": false,
     "start_time": "2024-12-04T03:59:57.696222",
     "status": "completed"
    },
    "slideshow": {
     "slide_type": ""
    },
    "tags": []
   },
   "outputs": [
    {
     "name": "stderr",
     "output_type": "stream",
     "text": [
      "\n",
      "  | Name    | Type             | Params | Mode \n",
      "-----------------------------------------------------\n",
      "0 | linear  | Linear           | 726 K  | train\n",
      "1 | loss_fn | CrossEntropyLoss | 0      | train\n",
      "-----------------------------------------------------\n",
      "726 K     Trainable params\n",
      "0         Non-trainable params\n",
      "726 K     Total params\n",
      "2.905     Total estimated model params size (MB)\n",
      "2         Modules in train mode\n",
      "0         Modules in eval mode\n"
     ]
    },
    {
     "name": "stderr",
     "output_type": "stream",
     "text": [
      "/home/ubuntu/.pyenv/versions/3.12.7/lib/python3.12/site-packages/pytorch_lightning/trainer/connectors/data_connector.py:424: The 'train_dataloader' does not have many workers which may be a bottleneck. Consider increasing the value of the `num_workers` argument` to `num_workers=47` in the `DataLoader` to improve performance.\n",
      "/home/ubuntu/.pyenv/versions/3.12.7/lib/python3.12/site-packages/pytorch_lightning/utilities/data.py:122: Your `IterableDataset` has `__len__` defined. In combination with multi-process data loading (when num_workers > 1), `__len__` could be inaccurate if each worker is not configured independently to avoid having duplicate data.\n"
     ]
    },
    {
     "data": {
      "application/vnd.jupyter.widget-view+json": {
       "model_id": "f009027534404b36b7b5441c333e3d35",
       "version_major": 2,
       "version_minor": 0
      },
      "text/plain": [
       "Training: |                                                                                                   …"
      ]
     },
     "metadata": {},
     "output_type": "display_data"
    },
    {
     "name": "stderr",
     "output_type": "stream",
     "text": [
      "`Trainer.fit` stopped: `max_epochs=20` reached.\n"
     ]
    },
    {
     "name": "stdout",
     "output_type": "stream",
     "text": [
      "CPU times: user 11min 27s, sys: 2min 6s, total: 13min 33s\n",
      "Wall time: 2min 7s\n"
     ]
    }
   ],
   "source": [
    "%%time\n",
    "if lightning:\n",
    "    trainer.fit(model, train_dataloaders=train_dataloader)\n",
    "else:\n",
    "    for epoch in range(n_epochs):\n",
    "        if workers is not None:\n",
    "            experiment_dataset.set_epoch(epoch)\n",
    "        train_loss, train_accuracy = train_epoch(model, train_dataloader, loss_fn, optimizer, device)\n",
    "        print(f\"Epoch {epoch + 1}: Train Loss: {train_loss:.7f} Accuracy {train_accuracy:.4f}\")"
   ]
  },
  {
   "cell_type": "code",
   "execution_count": 8,
   "id": "3ebd19a4",
   "metadata": {
    "editable": true,
    "execution": {
     "iopub.execute_input": "2024-12-04T04:02:05.399010Z",
     "iopub.status.busy": "2024-12-04T04:02:05.398743Z",
     "iopub.status.idle": "2024-12-04T04:02:10.531652Z",
     "shell.execute_reply": "2024-12-04T04:02:10.530997Z"
    },
    "papermill": {
     "duration": 5.137977,
     "end_time": "2024-12-04T04:02:10.532959",
     "exception": false,
     "start_time": "2024-12-04T04:02:05.394982",
     "status": "completed"
    },
    "slideshow": {
     "slide_type": ""
    },
    "tags": []
   },
   "outputs": [],
   "source": [
    "# TODO: split train/test\n",
    "test_dataloader = soma_ml.experiment_dataloader(experiment_dataset, **dl_kwargs)\n",
    "X_batch, y_batch = next(iter(test_dataloader))\n",
    "X_batch = torch.from_numpy(X_batch)\n",
    "y_batch = torch.from_numpy(cell_type_encoder.transform(y_batch['cell_type']))"
   ]
  },
  {
   "cell_type": "code",
   "execution_count": 9,
   "id": "92fc554e",
   "metadata": {
    "editable": true,
    "execution": {
     "iopub.execute_input": "2024-12-04T04:02:10.542132Z",
     "iopub.status.busy": "2024-12-04T04:02:10.541824Z",
     "iopub.status.idle": "2024-12-04T04:02:10.565347Z",
     "shell.execute_reply": "2024-12-04T04:02:10.564762Z"
    },
    "papermill": {
     "duration": 0.028643,
     "end_time": "2024-12-04T04:02:10.566378",
     "exception": false,
     "start_time": "2024-12-04T04:02:10.537735",
     "status": "completed"
    },
    "slideshow": {
     "slide_type": ""
    },
    "tags": []
   },
   "outputs": [
    {
     "name": "stdout",
     "output_type": "stream",
     "text": [
      "Accuracy: 94.5% (121 correct, 7 incorrect)\n"
     ]
    },
    {
     "data": {
      "text/html": [
       "<div>\n",
       "<style scoped>\n",
       "    .dataframe tbody tr th:only-of-type {\n",
       "        vertical-align: middle;\n",
       "    }\n",
       "\n",
       "    .dataframe tbody tr th {\n",
       "        vertical-align: top;\n",
       "    }\n",
       "\n",
       "    .dataframe thead th {\n",
       "        text-align: right;\n",
       "    }\n",
       "</style>\n",
       "<table border=\"1\" class=\"dataframe\">\n",
       "  <thead>\n",
       "    <tr style=\"text-align: right;\">\n",
       "      <th>predicted cell type</th>\n",
       "      <th>Schwann cell</th>\n",
       "      <th>basal cell</th>\n",
       "      <th>epithelial cell</th>\n",
       "      <th>fibroblast</th>\n",
       "      <th>keratinocyte</th>\n",
       "      <th>leukocyte</th>\n",
       "      <th>pericyte</th>\n",
       "      <th>vein endothelial cell</th>\n",
       "    </tr>\n",
       "    <tr>\n",
       "      <th>actual cell type</th>\n",
       "      <th></th>\n",
       "      <th></th>\n",
       "      <th></th>\n",
       "      <th></th>\n",
       "      <th></th>\n",
       "      <th></th>\n",
       "      <th></th>\n",
       "      <th></th>\n",
       "    </tr>\n",
       "  </thead>\n",
       "  <tbody>\n",
       "    <tr>\n",
       "      <th>basal cell</th>\n",
       "      <td>1</td>\n",
       "      <td>60</td>\n",
       "      <td></td>\n",
       "      <td></td>\n",
       "      <td></td>\n",
       "      <td></td>\n",
       "      <td></td>\n",
       "      <td></td>\n",
       "    </tr>\n",
       "    <tr>\n",
       "      <th>endothelial cell of lymphatic vessel</th>\n",
       "      <td></td>\n",
       "      <td></td>\n",
       "      <td></td>\n",
       "      <td></td>\n",
       "      <td></td>\n",
       "      <td></td>\n",
       "      <td></td>\n",
       "      <td>2</td>\n",
       "    </tr>\n",
       "    <tr>\n",
       "      <th>epithelial cell</th>\n",
       "      <td></td>\n",
       "      <td></td>\n",
       "      <td>16</td>\n",
       "      <td></td>\n",
       "      <td></td>\n",
       "      <td></td>\n",
       "      <td></td>\n",
       "      <td></td>\n",
       "    </tr>\n",
       "    <tr>\n",
       "      <th>fibroblast</th>\n",
       "      <td></td>\n",
       "      <td></td>\n",
       "      <td></td>\n",
       "      <td>1</td>\n",
       "      <td></td>\n",
       "      <td></td>\n",
       "      <td></td>\n",
       "      <td></td>\n",
       "    </tr>\n",
       "    <tr>\n",
       "      <th>keratinocyte</th>\n",
       "      <td></td>\n",
       "      <td>2</td>\n",
       "      <td>1</td>\n",
       "      <td></td>\n",
       "      <td>26</td>\n",
       "      <td></td>\n",
       "      <td></td>\n",
       "      <td></td>\n",
       "    </tr>\n",
       "    <tr>\n",
       "      <th>leukocyte</th>\n",
       "      <td></td>\n",
       "      <td>1</td>\n",
       "      <td></td>\n",
       "      <td></td>\n",
       "      <td></td>\n",
       "      <td>13</td>\n",
       "      <td></td>\n",
       "      <td></td>\n",
       "    </tr>\n",
       "    <tr>\n",
       "      <th>pericyte</th>\n",
       "      <td></td>\n",
       "      <td></td>\n",
       "      <td></td>\n",
       "      <td></td>\n",
       "      <td></td>\n",
       "      <td></td>\n",
       "      <td>2</td>\n",
       "      <td></td>\n",
       "    </tr>\n",
       "    <tr>\n",
       "      <th>vein endothelial cell</th>\n",
       "      <td></td>\n",
       "      <td></td>\n",
       "      <td></td>\n",
       "      <td></td>\n",
       "      <td></td>\n",
       "      <td></td>\n",
       "      <td></td>\n",
       "      <td>3</td>\n",
       "    </tr>\n",
       "  </tbody>\n",
       "</table>\n",
       "</div>"
      ],
      "text/plain": [
       "predicted cell type                  Schwann cell basal cell epithelial cell  \\\n",
       "actual cell type                                                               \n",
       "basal cell                                      1         60                   \n",
       "endothelial cell of lymphatic vessel                                           \n",
       "epithelial cell                                                           16   \n",
       "fibroblast                                                                     \n",
       "keratinocyte                                               2               1   \n",
       "leukocyte                                                  1                   \n",
       "pericyte                                                                       \n",
       "vein endothelial cell                                                          \n",
       "\n",
       "predicted cell type                  fibroblast keratinocyte leukocyte  \\\n",
       "actual cell type                                                         \n",
       "basal cell                                                               \n",
       "endothelial cell of lymphatic vessel                                     \n",
       "epithelial cell                                                          \n",
       "fibroblast                                    1                          \n",
       "keratinocyte                                              26             \n",
       "leukocyte                                                           13   \n",
       "pericyte                                                                 \n",
       "vein endothelial cell                                                    \n",
       "\n",
       "predicted cell type                  pericyte vein endothelial cell  \n",
       "actual cell type                                                     \n",
       "basal cell                                                           \n",
       "endothelial cell of lymphatic vessel                              2  \n",
       "epithelial cell                                                      \n",
       "fibroblast                                                           \n",
       "keratinocyte                                                         \n",
       "leukocyte                                                            \n",
       "pericyte                                    2                        \n",
       "vein endothelial cell                                             3  "
      ]
     },
     "execution_count": 9,
     "metadata": {},
     "output_type": "execute_result"
    }
   ],
   "source": [
    "import pandas as pd\n",
    "\n",
    "model.eval()\n",
    "model.to(device)\n",
    "outputs = model(X_batch.to(device))\n",
    "probabilities = torch.nn.functional.softmax(outputs, 1)\n",
    "predictions = torch.argmax(probabilities, axis=1)\n",
    "predicted_cell_types = cell_type_encoder.inverse_transform(predictions.cpu())\n",
    "\n",
    "cmp_df = pd.DataFrame({\n",
    "    \"actual cell type\": cell_type_encoder.inverse_transform(y_batch.ravel().numpy()),\n",
    "    \"predicted cell type\": predicted_cell_types,\n",
    "})\n",
    "right, wrong = (cmp_df['actual cell type'] == cmp_df['predicted cell type']).value_counts().values\n",
    "print('Accuracy: %.1f%% (%d correct, %d incorrect)' % (100 * right / len(cmp_df), right, wrong))\n",
    "pd.crosstab(cmp_df['actual cell type'], cmp_df['predicted cell type']).replace(0, '')"
   ]
  },
  {
   "cell_type": "markdown",
   "source": [
    "\tCommand being timed: \"papermill -p tissue tongue -p cpu True -p lightning True benchmark.ipynb tongue/lightning-cpu.ipynb\"\n",
    "\tUser time (seconds): 719.45\n",
    "\tSystem time (seconds): 141.81\n",
    "\tPercent of CPU this job got: 597%\n",
    "\tElapsed (wall clock) time (h:mm:ss or m:ss): 2:24.13\n",
    "\tAverage shared text size (kbytes): 0\n",
    "\tAverage unshared data size (kbytes): 0\n",
    "\tAverage stack size (kbytes): 0\n",
    "\tAverage total size (kbytes): 0\n",
    "\tMaximum resident set size (kbytes): 6419916\n",
    "\tAverage resident set size (kbytes): 0\n",
    "\tMajor (requiring I/O) page faults: 128\n",
    "\tMinor (reclaiming a frame) page faults: 17873952\n",
    "\tVoluntary context switches: 504458\n",
    "\tInvoluntary context switches: 111211\n",
    "\tSwaps: 0\n",
    "\tFile system inputs: 5840\n",
    "\tFile system outputs: 342512\n",
    "\tSocket messages sent: 0\n",
    "\tSocket messages received: 0\n",
    "\tSignals delivered: 0\n",
    "\tPage size (bytes): 4096\n",
    "\tExit status: 0\n"
   ],
   "metadata": {}
  }
 ],
 "metadata": {
  "kernelspec": {
   "display_name": "Python 3 (ipykernel)",
   "language": "python",
   "name": "python3"
  },
  "language_info": {
   "codemirror_mode": {
    "name": "ipython",
    "version": 3
   },
   "file_extension": ".py",
   "mimetype": "text/x-python",
   "name": "python",
   "nbconvert_exporter": "python",
   "pygments_lexer": "ipython3",
   "version": "3.12.7"
  },
  "papermill": {
   "default_parameters": {},
   "duration": 143.324597,
   "end_time": "2024-12-04T04:02:13.051543",
   "environment_variables": {},
   "exception": null,
   "input_path": "benchmark.ipynb",
   "output_path": "tongue/lightning-cpu.ipynb",
   "parameters": {
    "cpu": true,
    "lightning": true,
    "tissue": "tongue"
   },
   "start_time": "2024-12-04T03:59:49.726946",
   "version": "2.6.0"
  },
  "widgets": {
   "application/vnd.jupyter.widget-state+json": {
    "state": {
     "00aac878dbf74b928892261725f7df81": {
      "model_module": "@jupyter-widgets/base",
      "model_module_version": "2.0.0",
      "model_name": "LayoutModel",
      "state": {
       "_model_module": "@jupyter-widgets/base",
       "_model_module_version": "2.0.0",
       "_model_name": "LayoutModel",
       "_view_count": null,
       "_view_module": "@jupyter-widgets/base",
       "_view_module_version": "2.0.0",
       "_view_name": "LayoutView",
       "align_content": null,
       "align_items": null,
       "align_self": null,
       "border_bottom": null,
       "border_left": null,
       "border_right": null,
       "border_top": null,
       "bottom": null,
       "display": null,
       "flex": null,
       "flex_flow": null,
       "grid_area": null,
       "grid_auto_columns": null,
       "grid_auto_flow": null,
       "grid_auto_rows": null,
       "grid_column": null,
       "grid_gap": null,
       "grid_row": null,
       "grid_template_areas": null,
       "grid_template_columns": null,
       "grid_template_rows": null,
       "height": null,
       "justify_content": null,
       "justify_items": null,
       "left": null,
       "margin": null,
       "max_height": null,
       "max_width": null,
       "min_height": null,
       "min_width": null,
       "object_fit": null,
       "object_position": null,
       "order": null,
       "overflow": null,
       "padding": null,
       "right": null,
       "top": null,
       "visibility": null,
       "width": null
      }
     },
     "0b1411cb42394edaa0175f477064f09e": {
      "model_module": "@jupyter-widgets/controls",
      "model_module_version": "2.0.0",
      "model_name": "HTMLModel",
      "state": {
       "_dom_classes": [],
       "_model_module": "@jupyter-widgets/controls",
       "_model_module_version": "2.0.0",
       "_model_name": "HTMLModel",
       "_view_count": null,
       "_view_module": "@jupyter-widgets/controls",
       "_view_module_version": "2.0.0",
       "_view_name": "HTMLView",
       "description": "",
       "description_allow_html": false,
       "layout": "IPY_MODEL_00aac878dbf74b928892261725f7df81",
       "placeholder": "​",
       "style": "IPY_MODEL_32f5f4f3b70c43be946df592aba45011",
       "tabbable": null,
       "tooltip": null,
       "value": " 118/118 [00:05&lt;00:00, 19.74it/s, v_num=8, train_loss=1.660, train_accuracy=0.955]"
      }
     },
     "0da4727d747f43d9bb9158c7075b8289": {
      "model_module": "@jupyter-widgets/controls",
      "model_module_version": "2.0.0",
      "model_name": "HTMLStyleModel",
      "state": {
       "_model_module": "@jupyter-widgets/controls",
       "_model_module_version": "2.0.0",
       "_model_name": "HTMLStyleModel",
       "_view_count": null,
       "_view_module": "@jupyter-widgets/base",
       "_view_module_version": "2.0.0",
       "_view_name": "StyleView",
       "background": null,
       "description_width": "",
       "font_size": null,
       "text_color": null
      }
     },
     "0de1f56b1f294bf5a385d74a750f851d": {
      "model_module": "@jupyter-widgets/base",
      "model_module_version": "2.0.0",
      "model_name": "LayoutModel",
      "state": {
       "_model_module": "@jupyter-widgets/base",
       "_model_module_version": "2.0.0",
       "_model_name": "LayoutModel",
       "_view_count": null,
       "_view_module": "@jupyter-widgets/base",
       "_view_module_version": "2.0.0",
       "_view_name": "LayoutView",
       "align_content": null,
       "align_items": null,
       "align_self": null,
       "border_bottom": null,
       "border_left": null,
       "border_right": null,
       "border_top": null,
       "bottom": null,
       "display": null,
       "flex": null,
       "flex_flow": null,
       "grid_area": null,
       "grid_auto_columns": null,
       "grid_auto_flow": null,
       "grid_auto_rows": null,
       "grid_column": null,
       "grid_gap": null,
       "grid_row": null,
       "grid_template_areas": null,
       "grid_template_columns": null,
       "grid_template_rows": null,
       "height": null,
       "justify_content": null,
       "justify_items": null,
       "left": null,
       "margin": null,
       "max_height": null,
       "max_width": null,
       "min_height": null,
       "min_width": null,
       "object_fit": null,
       "object_position": null,
       "order": null,
       "overflow": null,
       "padding": null,
       "right": null,
       "top": null,
       "visibility": null,
       "width": null
      }
     },
     "14fcc630410944ac8dca7737c1e58b26": {
      "model_module": "@jupyter-widgets/controls",
      "model_module_version": "2.0.0",
      "model_name": "FloatProgressModel",
      "state": {
       "_dom_classes": [],
       "_model_module": "@jupyter-widgets/controls",
       "_model_module_version": "2.0.0",
       "_model_name": "FloatProgressModel",
       "_view_count": null,
       "_view_module": "@jupyter-widgets/controls",
       "_view_module_version": "2.0.0",
       "_view_name": "ProgressView",
       "bar_style": "success",
       "description": "",
       "description_allow_html": false,
       "layout": "IPY_MODEL_d39010ff53b744089a9ba3dfdc659883",
       "max": 118.0,
       "min": 0.0,
       "orientation": "horizontal",
       "style": "IPY_MODEL_25892ef6979f44eb926eba29479f1572",
       "tabbable": null,
       "tooltip": null,
       "value": 118.0
      }
     },
     "25892ef6979f44eb926eba29479f1572": {
      "model_module": "@jupyter-widgets/controls",
      "model_module_version": "2.0.0",
      "model_name": "ProgressStyleModel",
      "state": {
       "_model_module": "@jupyter-widgets/controls",
       "_model_module_version": "2.0.0",
       "_model_name": "ProgressStyleModel",
       "_view_count": null,
       "_view_module": "@jupyter-widgets/base",
       "_view_module_version": "2.0.0",
       "_view_name": "StyleView",
       "bar_color": null,
       "description_width": ""
      }
     },
     "32f5f4f3b70c43be946df592aba45011": {
      "model_module": "@jupyter-widgets/controls",
      "model_module_version": "2.0.0",
      "model_name": "HTMLStyleModel",
      "state": {
       "_model_module": "@jupyter-widgets/controls",
       "_model_module_version": "2.0.0",
       "_model_name": "HTMLStyleModel",
       "_view_count": null,
       "_view_module": "@jupyter-widgets/base",
       "_view_module_version": "2.0.0",
       "_view_name": "StyleView",
       "background": null,
       "description_width": "",
       "font_size": null,
       "text_color": null
      }
     },
     "94f76239142e4b1cb2dbb24654db63cb": {
      "model_module": "@jupyter-widgets/base",
      "model_module_version": "2.0.0",
      "model_name": "LayoutModel",
      "state": {
       "_model_module": "@jupyter-widgets/base",
       "_model_module_version": "2.0.0",
       "_model_name": "LayoutModel",
       "_view_count": null,
       "_view_module": "@jupyter-widgets/base",
       "_view_module_version": "2.0.0",
       "_view_name": "LayoutView",
       "align_content": null,
       "align_items": null,
       "align_self": null,
       "border_bottom": null,
       "border_left": null,
       "border_right": null,
       "border_top": null,
       "bottom": null,
       "display": "inline-flex",
       "flex": null,
       "flex_flow": "row wrap",
       "grid_area": null,
       "grid_auto_columns": null,
       "grid_auto_flow": null,
       "grid_auto_rows": null,
       "grid_column": null,
       "grid_gap": null,
       "grid_row": null,
       "grid_template_areas": null,
       "grid_template_columns": null,
       "grid_template_rows": null,
       "height": null,
       "justify_content": null,
       "justify_items": null,
       "left": null,
       "margin": null,
       "max_height": null,
       "max_width": null,
       "min_height": null,
       "min_width": null,
       "object_fit": null,
       "object_position": null,
       "order": null,
       "overflow": null,
       "padding": null,
       "right": null,
       "top": null,
       "visibility": null,
       "width": "100%"
      }
     },
     "95eb8e701ef44652b26a6adbe76782a5": {
      "model_module": "@jupyter-widgets/controls",
      "model_module_version": "2.0.0",
      "model_name": "HTMLModel",
      "state": {
       "_dom_classes": [],
       "_model_module": "@jupyter-widgets/controls",
       "_model_module_version": "2.0.0",
       "_model_name": "HTMLModel",
       "_view_count": null,
       "_view_module": "@jupyter-widgets/controls",
       "_view_module_version": "2.0.0",
       "_view_name": "HTMLView",
       "description": "",
       "description_allow_html": false,
       "layout": "IPY_MODEL_0de1f56b1f294bf5a385d74a750f851d",
       "placeholder": "​",
       "style": "IPY_MODEL_0da4727d747f43d9bb9158c7075b8289",
       "tabbable": null,
       "tooltip": null,
       "value": "Epoch 19: 100%"
      }
     },
     "d39010ff53b744089a9ba3dfdc659883": {
      "model_module": "@jupyter-widgets/base",
      "model_module_version": "2.0.0",
      "model_name": "LayoutModel",
      "state": {
       "_model_module": "@jupyter-widgets/base",
       "_model_module_version": "2.0.0",
       "_model_name": "LayoutModel",
       "_view_count": null,
       "_view_module": "@jupyter-widgets/base",
       "_view_module_version": "2.0.0",
       "_view_name": "LayoutView",
       "align_content": null,
       "align_items": null,
       "align_self": null,
       "border_bottom": null,
       "border_left": null,
       "border_right": null,
       "border_top": null,
       "bottom": null,
       "display": null,
       "flex": "2",
       "flex_flow": null,
       "grid_area": null,
       "grid_auto_columns": null,
       "grid_auto_flow": null,
       "grid_auto_rows": null,
       "grid_column": null,
       "grid_gap": null,
       "grid_row": null,
       "grid_template_areas": null,
       "grid_template_columns": null,
       "grid_template_rows": null,
       "height": null,
       "justify_content": null,
       "justify_items": null,
       "left": null,
       "margin": null,
       "max_height": null,
       "max_width": null,
       "min_height": null,
       "min_width": null,
       "object_fit": null,
       "object_position": null,
       "order": null,
       "overflow": null,
       "padding": null,
       "right": null,
       "top": null,
       "visibility": null,
       "width": null
      }
     },
     "f009027534404b36b7b5441c333e3d35": {
      "model_module": "@jupyter-widgets/controls",
      "model_module_version": "2.0.0",
      "model_name": "HBoxModel",
      "state": {
       "_dom_classes": [],
       "_model_module": "@jupyter-widgets/controls",
       "_model_module_version": "2.0.0",
       "_model_name": "HBoxModel",
       "_view_count": null,
       "_view_module": "@jupyter-widgets/controls",
       "_view_module_version": "2.0.0",
       "_view_name": "HBoxView",
       "box_style": "",
       "children": [
        "IPY_MODEL_95eb8e701ef44652b26a6adbe76782a5",
        "IPY_MODEL_14fcc630410944ac8dca7737c1e58b26",
        "IPY_MODEL_0b1411cb42394edaa0175f477064f09e"
       ],
       "layout": "IPY_MODEL_94f76239142e4b1cb2dbb24654db63cb",
       "tabbable": null,
       "tooltip": null
      }
     }
    },
    "version_major": 2,
    "version_minor": 0
   }
  }
 },
 "nbformat": 4,
 "nbformat_minor": 5
}