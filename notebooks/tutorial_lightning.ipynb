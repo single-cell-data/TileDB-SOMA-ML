{
 "cells": [
  {
   "cell_type": "markdown",
   "id": "86bd02b8",
   "metadata": {},
   "source": [
    "# Training a model with PyTorch Lightning\n",
    "\n",
    "This tutorial demonstrates training a simple Logistic Regression model with [PyTorch Lightning], using the `tiledbsoma_ml.ExperimentDataset` class, on data from the [CZI CELLxGENE Census](https://chanzuckerberg.github.io/cellxgene-census/). It is intended for demonstration purposes only, not as an example of how to train a biologically useful model.\n",
    "\n",
    "For more information on these APIs, please refer to the [`tutorial_pytorch` notebook](tutorial_pytorch.ipynb).\n",
    "\n",
    "**Prerequisites**\n",
    "\n",
    "Install [`tiledbsoma_ml`], [`scikit-learn`], and [`pytorch-lightning`]:\n",
    "\n",
    "```bash\n",
    "pip install tiledbsoma_ml scikit-learn pytorch-lightning\n",
    "```\n",
    "\n",
    "[PyTorch Lightning]: https://lightning.ai/docs/pytorch/stable/\n",
    "[`tiledbsoma_ml`]: https://github.com/single-cell-data/TileDB-SOMA-ML/\n",
    "[`scikit-learn`]: https://pypi.org/project/scikit-learn/\n",
    "[`pytorch-lightning`]: https://pypi.org/project/pytorch-lightning/"
   ]
  },
  {
   "cell_type": "markdown",
   "id": "ce8154f4",
   "metadata": {},
   "source": [
    "[Papermill] parameters:\n",
    "\n",
    "[Papermill]: https://papermill.readthedocs.io/"
   ]
  },
  {
   "cell_type": "code",
   "execution_count": 1,
   "id": "d9267616",
   "metadata": {
    "editable": true,
    "slideshow": {
     "slide_type": ""
    },
    "tags": [
     "parameters"
    ]
   },
   "outputs": [],
   "source": [
    "import os\n",
    "\n",
    "tissue = \"tongue\"\n",
    "n_epochs = 20\n",
    "census_version = \"2024-07-01\"\n",
    "batch_size = 128\n",
    "learning_rate = 1e-5\n",
    "progress_bar = not bool(os.environ.get('PAPERMILL'))  # Defaults to True, unless env var $PAPERMILL is set"
   ]
  },
  {
   "cell_type": "markdown",
   "id": "c7a67580",
   "metadata": {},
   "source": [
    "## Initialize SOMA Experiment query as training data"
   ]
  },
  {
   "cell_type": "code",
   "execution_count": 2,
   "id": "be96bac4",
   "metadata": {},
   "outputs": [],
   "source": [
    "from tiledbsoma import AxisQuery, Experiment, SOMATileDBContext\n",
    "from sklearn.preprocessing import LabelEncoder\n",
    "\n",
    "from tiledbsoma_ml import ExperimentDataset\n",
    "\n",
    "CZI_Census_Homo_Sapiens_URL = f\"s3://cellxgene-census-public-us-west-2/cell-census/{census_version}/soma/census_data/homo_sapiens/\"\n",
    "\n",
    "experiment = Experiment.open(\n",
    "    CZI_Census_Homo_Sapiens_URL,\n",
    "    context=SOMATileDBContext(tiledb_config={\"vfs.s3.region\": \"us-west-2\", \"vfs.s3.no_sign_request\": \"true\"}),\n",
    ")\n",
    "obs_value_filter = f\"tissue_general == '{tissue}' and is_primary_data == True\"\n",
    "\n",
    "with experiment.axis_query(\n",
    "    measurement_name=\"RNA\", obs_query=AxisQuery(value_filter=obs_value_filter)\n",
    ") as query:\n",
    "    obs_df = query.obs(column_names=[\"cell_type\"]).concat().to_pandas()\n",
    "    cell_type_encoder = LabelEncoder().fit(obs_df[\"cell_type\"].unique())\n",
    "\n",
    "experiment_dataset = ExperimentDataset(\n",
    "    query,\n",
    "    layer_name=\"raw\",\n",
    "    obs_column_names=[\"cell_type\"],\n",
    "    batch_size=batch_size,\n",
    "    shuffle=True,\n",
    ")"
   ]
  },
  {
   "cell_type": "markdown",
   "id": "cb215372",
   "metadata": {},
   "source": [
    "## Define the Lightning module"
   ]
  },
  {
   "cell_type": "code",
   "execution_count": 3,
   "id": "39fb2199",
   "metadata": {},
   "outputs": [],
   "source": [
    "import torch\n",
    "import pytorch_lightning as pl\n",
    "\n",
    "class LogisticRegressionLightning(pl.LightningModule):\n",
    "    def __init__(self, input_dim, output_dim, cell_type_encoder, learning_rate=learning_rate):\n",
    "        super(LogisticRegressionLightning, self).__init__()\n",
    "        self.linear = torch.nn.Linear(input_dim, output_dim)\n",
    "        self.cell_type_encoder = cell_type_encoder\n",
    "        self.learning_rate = learning_rate\n",
    "        self.loss_fn = torch.nn.CrossEntropyLoss()\n",
    "\n",
    "    def forward(self, x):\n",
    "        outputs = torch.sigmoid(self.linear(x))\n",
    "        return outputs\n",
    "\n",
    "    def training_step(self, batch, batch_idx):\n",
    "        X_batch, y_batch = batch\n",
    "        # X_batch = X_batch.float()\n",
    "        X_batch = torch.from_numpy(X_batch).float().to(self.device)\n",
    "\n",
    "        # Perform prediction\n",
    "        outputs = self(X_batch)\n",
    "\n",
    "        # Determine the predicted label\n",
    "        probabilities = torch.nn.functional.softmax(outputs, 1)\n",
    "        predictions = torch.argmax(probabilities, axis=1)\n",
    "\n",
    "        # Compute loss\n",
    "        y_batch = torch.from_numpy(\n",
    "            self.cell_type_encoder.transform(y_batch[\"cell_type\"])\n",
    "        ).to(self.device)\n",
    "        loss = self.loss_fn(outputs, y_batch.long())\n",
    "\n",
    "        # Compute accuracy\n",
    "        train_correct = (predictions == y_batch).sum().item()\n",
    "        train_accuracy = train_correct / len(predictions)\n",
    "\n",
    "        # Log loss and accuracy\n",
    "        self.log(\"train_loss\", loss, prog_bar=True)\n",
    "        self.log(\"train_accuracy\", train_accuracy, prog_bar=True)\n",
    "\n",
    "        return loss\n",
    "\n",
    "    def configure_optimizers(self):\n",
    "        optimizer = torch.optim.Adam(self.parameters(), lr=self.learning_rate)\n",
    "        return optimizer"
   ]
  },
  {
   "cell_type": "markdown",
   "id": "132e591e",
   "metadata": {},
   "source": [
    "## Train the model"
   ]
  },
  {
   "cell_type": "code",
   "execution_count": 4,
   "id": "951ea52a",
   "metadata": {},
   "outputs": [
    {
     "name": "stderr",
     "output_type": "stream",
     "text": [
      "GPU available: True (cuda), used: True\n",
      "TPU available: False, using: 0 TPU cores\n"
     ]
    }
   ],
   "source": [
    "from tiledbsoma_ml import experiment_dataloader\n",
    "\n",
    "dataloader = experiment_dataloader(experiment_dataset)\n",
    "\n",
    "# The size of the input dimension is the number of genes\n",
    "input_dim = experiment_dataset.shape[1]\n",
    "\n",
    "# The size of the output dimension is the number of distinct cell_type values\n",
    "output_dim = len(cell_type_encoder.classes_)\n",
    "\n",
    "# Initialize the PyTorch Lightning model\n",
    "model = LogisticRegressionLightning(\n",
    "    input_dim, output_dim, cell_type_encoder=cell_type_encoder\n",
    ")\n",
    "\n",
    "# Define the PyTorch Lightning Trainer\n",
    "trainer = pl.Trainer(max_epochs=n_epochs, enable_progress_bar=progress_bar)\n",
    "\n",
    "# set precision\n",
    "torch.set_float32_matmul_precision(\"high\")"
   ]
  },
  {
   "cell_type": "code",
   "execution_count": 5,
   "id": "f9d8be6f",
   "metadata": {},
   "outputs": [
    {
     "name": "stderr",
     "output_type": "stream",
     "text": [
      "LOCAL_RANK: 0 - CUDA_VISIBLE_DEVICES: [0]\n",
      "\n",
      "  | Name    | Type             | Params | Mode \n",
      "-----------------------------------------------------\n",
      "0 | linear  | Linear           | 726 K  | train\n",
      "1 | loss_fn | CrossEntropyLoss | 0      | train\n",
      "-----------------------------------------------------\n",
      "726 K     Trainable params\n",
      "0         Non-trainable params\n",
      "726 K     Total params\n",
      "2.905     Total estimated model params size (MB)\n",
      "2         Modules in train mode\n",
      "0         Modules in eval mode\n"
     ]
    },
    {
     "name": "stdout",
     "output_type": "stream",
     "text": [
      "CPU times: user 3min 30s, sys: 1min 25s, total: 4min 55s\n",
      "Wall time: 2min 14s\n"
     ]
    }
   ],
   "source": [
    "%%time\n",
    "# Train the model\n",
    "trainer.fit(model, train_dataloaders=dataloader)"
   ]
  }
 ],
 "metadata": {
  "kernelspec": {
   "display_name": "Python 3 (ipykernel)",
   "language": "python",
   "name": "python3"
  },
  "language_info": {
   "codemirror_mode": {
    "name": "ipython",
    "version": 3
   },
   "file_extension": ".py",
   "mimetype": "text/x-python",
   "name": "python",
   "nbconvert_exporter": "python",
   "pygments_lexer": "ipython3",
   "version": "3.12.7"
  }
 },
 "nbformat": 4,
 "nbformat_minor": 5
}
