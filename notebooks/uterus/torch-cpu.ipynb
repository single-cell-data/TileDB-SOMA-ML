{
 "cells": [
  {
   "cell_type": "markdown",
   "id": "1af43592",
   "metadata": {
    "editable": true,
    "papermill": {
     "duration": 0.002634,
     "end_time": "2024-12-05T00:08:22.335342",
     "exception": false,
     "start_time": "2024-12-05T00:08:22.332708",
     "status": "completed"
    },
    "slideshow": {
     "slide_type": ""
    },
    "tags": []
   },
   "source": [
    "Papermill params:"
   ]
  },
  {
   "cell_type": "code",
   "execution_count": 1,
   "id": "b2ec4810",
   "metadata": {
    "editable": true,
    "execution": {
     "iopub.execute_input": "2024-12-05T00:08:22.342836Z",
     "iopub.status.busy": "2024-12-05T00:08:22.342561Z",
     "iopub.status.idle": "2024-12-05T00:08:22.346482Z",
     "shell.execute_reply": "2024-12-05T00:08:22.345991Z"
    },
    "papermill": {
     "duration": 0.009578,
     "end_time": "2024-12-05T00:08:22.347612",
     "exception": false,
     "start_time": "2024-12-05T00:08:22.338034",
     "status": "completed"
    },
    "slideshow": {
     "slide_type": ""
    },
    "tags": [
     "parameters"
    ]
   },
   "outputs": [],
   "source": [
    "workers = None\n",
    "lightning = False       # Use PyTorch Lightning\n",
    "tissue = \"tongue\"       # \"tissue_general\" obs filter\n",
    "is_primary_data = True  # Additional obs filter\n",
    "cpu = False             # Force CPU mode\n",
    "census_version = \"2024-07-01\"\n",
    "batch_size = 128\n",
    "shuffle = True\n",
    "learning_rate = 1e-5\n",
    "n_epochs = 20"
   ]
  },
  {
   "cell_type": "code",
   "execution_count": 2,
   "id": "3a25fa11",
   "metadata": {
    "execution": {
     "iopub.execute_input": "2024-12-05T00:08:22.352933Z",
     "iopub.status.busy": "2024-12-05T00:08:22.352664Z",
     "iopub.status.idle": "2024-12-05T00:08:22.355495Z",
     "shell.execute_reply": "2024-12-05T00:08:22.355002Z"
    },
    "papermill": {
     "duration": 0.006799,
     "end_time": "2024-12-05T00:08:22.356650",
     "exception": false,
     "start_time": "2024-12-05T00:08:22.349851",
     "status": "completed"
    },
    "tags": [
     "injected-parameters"
    ]
   },
   "outputs": [],
   "source": [
    "# Parameters\n",
    "tissue = \"uterus\"\n",
    "cpu = True\n"
   ]
  },
  {
   "cell_type": "code",
   "execution_count": 3,
   "id": "6966de84",
   "metadata": {
    "execution": {
     "iopub.execute_input": "2024-12-05T00:08:22.361856Z",
     "iopub.status.busy": "2024-12-05T00:08:22.361600Z",
     "iopub.status.idle": "2024-12-05T00:08:22.364520Z",
     "shell.execute_reply": "2024-12-05T00:08:22.363994Z"
    },
    "papermill": {
     "duration": 0.006644,
     "end_time": "2024-12-05T00:08:22.365489",
     "exception": false,
     "start_time": "2024-12-05T00:08:22.358845",
     "status": "completed"
    },
    "tags": []
   },
   "outputs": [],
   "source": [
    "from os import environ as env\n",
    "is_papermill = bool(env.get(\"PAPERMILL\"))"
   ]
  },
  {
   "cell_type": "code",
   "execution_count": 4,
   "id": "7df9b6be",
   "metadata": {
    "editable": true,
    "execution": {
     "iopub.execute_input": "2024-12-05T00:08:22.371049Z",
     "iopub.status.busy": "2024-12-05T00:08:22.370791Z",
     "iopub.status.idle": "2024-12-05T00:08:27.521985Z",
     "shell.execute_reply": "2024-12-05T00:08:27.521343Z"
    },
    "papermill": {
     "duration": 5.155436,
     "end_time": "2024-12-05T00:08:27.523094",
     "exception": false,
     "start_time": "2024-12-05T00:08:22.367658",
     "status": "completed"
    },
    "slideshow": {
     "slide_type": ""
    },
    "tags": []
   },
   "outputs": [
    {
     "name": "stderr",
     "output_type": "stream",
     "text": [
      "/home/ubuntu/.pyenv/versions/3.12.7/lib/python3.12/site-packages/torchdata/datapipes/__init__.py:18: UserWarning: \n",
      "################################################################################\n",
      "WARNING!\n",
      "The 'datapipes', 'dataloader2' modules are deprecated and will be removed in a\n",
      "future torchdata release! Please see https://github.com/pytorch/data/issues/1196\n",
      "to learn more and leave feedback.\n",
      "################################################################################\n",
      "\n",
      "  deprecation_warning()\n"
     ]
    },
    {
     "name": "stdout",
     "output_type": "stream",
     "text": [
      "123221 cells, 963 batches\n"
     ]
    }
   ],
   "source": [
    "import tiledbsoma as soma\n",
    "import torch\n",
    "from sklearn.preprocessing import LabelEncoder\n",
    "\n",
    "import tiledbsoma_ml as soma_ml\n",
    "\n",
    "CZI_Census_Homo_Sapiens_URL = f\"s3://cellxgene-census-public-us-west-2/cell-census/{census_version}/soma/census_data/homo_sapiens/\"\n",
    "\n",
    "experiment = soma.open(\n",
    "    CZI_Census_Homo_Sapiens_URL,\n",
    "    context=soma.SOMATileDBContext(tiledb_config={\"vfs.s3.region\": \"us-west-2\"}),\n",
    ")\n",
    "obs_value_filter = f\"tissue_general == '{tissue}'\"\n",
    "if is_primary_data:\n",
    "    obs_value_filter += \" and is_primary_data == True\"\n",
    "\n",
    "iter_cls = soma_ml.ExperimentAxisQueryIterDataPipe if workers is None and not lightning else soma_ml.ExperimentAxisQueryIterableDataset\n",
    "\n",
    "with experiment.axis_query(\n",
    "    measurement_name=\"RNA\", obs_query=soma.AxisQuery(value_filter=obs_value_filter)\n",
    ") as query:\n",
    "    obs_df = query.obs(column_names=[\"cell_type\"]).concat().to_pandas()\n",
    "    cell_type_encoder = LabelEncoder().fit(obs_df[\"cell_type\"].unique())\n",
    "\n",
    "    experiment_dataset = iter_cls(\n",
    "        query,\n",
    "        X_name=\"raw\",\n",
    "        obs_column_names=[\"cell_type\"],\n",
    "        batch_size=batch_size,\n",
    "        shuffle=shuffle,\n",
    "    )\n",
    "\n",
    "print(f'{len(obs_df)} cells, {len(experiment_dataset)} batches')"
   ]
  },
  {
   "cell_type": "code",
   "execution_count": 5,
   "id": "4da25e1c",
   "metadata": {
    "editable": true,
    "execution": {
     "iopub.execute_input": "2024-12-05T00:08:27.529548Z",
     "iopub.status.busy": "2024-12-05T00:08:27.528973Z",
     "iopub.status.idle": "2024-12-05T00:08:27.560901Z",
     "shell.execute_reply": "2024-12-05T00:08:27.560349Z"
    },
    "papermill": {
     "duration": 0.035865,
     "end_time": "2024-12-05T00:08:27.561802",
     "exception": false,
     "start_time": "2024-12-05T00:08:27.525937",
     "status": "completed"
    },
    "slideshow": {
     "slide_type": ""
    },
    "tags": []
   },
   "outputs": [],
   "source": [
    "# PyTorch\n",
    "class LogisticRegression(torch.nn.Module):\n",
    "    def __init__(self, input_dim, output_dim):\n",
    "        super(LogisticRegression, self).__init__()  # noqa: UP008\n",
    "        self.linear = torch.nn.Linear(input_dim, output_dim)\n",
    "\n",
    "    def forward(self, x):\n",
    "        outputs = torch.sigmoid(self.linear(x))\n",
    "        return outputs\n",
    "    \n",
    "\n",
    "def train_epoch(model, train_dataloader, loss_fn, optimizer, device):\n",
    "    model.train()\n",
    "    train_loss = 0\n",
    "    train_correct = 0\n",
    "    train_total = 0\n",
    "\n",
    "    for X_batch, y_batch in train_dataloader:\n",
    "        optimizer.zero_grad()\n",
    "\n",
    "        X_batch = torch.from_numpy(X_batch).float().to(device)\n",
    "\n",
    "        # Perform prediction\n",
    "        outputs = model(X_batch)\n",
    "\n",
    "        # Determine the predicted label\n",
    "        probabilities = torch.nn.functional.softmax(outputs, 1)\n",
    "        predictions = torch.argmax(probabilities, axis=1)\n",
    "\n",
    "        # Compute the loss and perform back propagation\n",
    "        y_batch = torch.from_numpy(cell_type_encoder.transform(y_batch['cell_type'])).to(device)\n",
    "        train_correct += (predictions == y_batch).sum().item()\n",
    "        train_total += len(predictions)\n",
    "\n",
    "        loss = loss_fn(outputs, y_batch.long())\n",
    "        train_loss += loss.item()\n",
    "        loss.backward()\n",
    "        optimizer.step()\n",
    "\n",
    "    train_loss /= train_total\n",
    "    train_accuracy = train_correct / train_total\n",
    "    return train_loss, train_accuracy"
   ]
  },
  {
   "cell_type": "code",
   "execution_count": 6,
   "id": "36ba4467",
   "metadata": {
    "editable": true,
    "execution": {
     "iopub.execute_input": "2024-12-05T00:08:27.567590Z",
     "iopub.status.busy": "2024-12-05T00:08:27.567213Z",
     "iopub.status.idle": "2024-12-05T00:08:29.377280Z",
     "shell.execute_reply": "2024-12-05T00:08:29.376670Z"
    },
    "papermill": {
     "duration": 1.814479,
     "end_time": "2024-12-05T00:08:29.378741",
     "exception": false,
     "start_time": "2024-12-05T00:08:27.564262",
     "status": "completed"
    },
    "slideshow": {
     "slide_type": ""
    },
    "tags": []
   },
   "outputs": [],
   "source": [
    "# Lightning\n",
    "import pytorch_lightning as pl\n",
    "\n",
    "class LogisticRegressionLightning(pl.LightningModule):\n",
    "    def __init__(self, input_dim, output_dim, cell_type_encoder, learning_rate=learning_rate):\n",
    "        super(LogisticRegressionLightning, self).__init__()\n",
    "        self.linear = torch.nn.Linear(input_dim, output_dim)\n",
    "        self.cell_type_encoder = cell_type_encoder\n",
    "        self.learning_rate = learning_rate\n",
    "        self.loss_fn = torch.nn.CrossEntropyLoss()\n",
    "\n",
    "    def forward(self, x):\n",
    "        outputs = torch.sigmoid(self.linear(x))\n",
    "        return outputs\n",
    "\n",
    "    def training_step(self, batch, batch_idx):\n",
    "        X_batch, y_batch = batch\n",
    "        # X_batch = X_batch.float()\n",
    "        X_batch = torch.from_numpy(X_batch).float().to(self.device)\n",
    "\n",
    "        # Perform prediction\n",
    "        outputs = self(X_batch)\n",
    "\n",
    "        # Determine the predicted label\n",
    "        probabilities = torch.nn.functional.softmax(outputs, 1)\n",
    "        predictions = torch.argmax(probabilities, axis=1)\n",
    "\n",
    "        # Compute loss\n",
    "        y_batch = torch.from_numpy(\n",
    "            self.cell_type_encoder.transform(y_batch[\"cell_type\"])\n",
    "        ).to(self.device)\n",
    "        loss = self.loss_fn(outputs, y_batch.long())\n",
    "\n",
    "        # Compute accuracy\n",
    "        train_correct = (predictions == y_batch).sum().item()\n",
    "        train_accuracy = train_correct / len(predictions)\n",
    "\n",
    "        # Log loss and accuracy\n",
    "        self.log(\"train_loss\", loss, prog_bar=True)\n",
    "        self.log(\"train_accuracy\", train_accuracy, prog_bar=True)\n",
    "\n",
    "        return loss\n",
    "\n",
    "    def configure_optimizers(self):\n",
    "        optimizer = torch.optim.Adam(self.parameters(), lr=self.learning_rate)\n",
    "        return optimizer"
   ]
  },
  {
   "cell_type": "code",
   "execution_count": 7,
   "id": "677d5093",
   "metadata": {
    "editable": true,
    "execution": {
     "iopub.execute_input": "2024-12-05T00:08:29.385333Z",
     "iopub.status.busy": "2024-12-05T00:08:29.384852Z",
     "iopub.status.idle": "2024-12-05T00:08:29.409448Z",
     "shell.execute_reply": "2024-12-05T00:08:29.408877Z"
    },
    "papermill": {
     "duration": 0.029095,
     "end_time": "2024-12-05T00:08:29.410674",
     "exception": false,
     "start_time": "2024-12-05T00:08:29.381579",
     "status": "completed"
    },
    "slideshow": {
     "slide_type": ""
    },
    "tags": []
   },
   "outputs": [],
   "source": [
    "if cpu or not torch.cuda.is_available():\n",
    "    device = \"cpu\"\n",
    "else:\n",
    "    device = \"cuda\"\n",
    "device = torch.device(device)\n",
    "input_dim = experiment_dataset.shape[1]\n",
    "output_dim = len(cell_type_encoder.classes_)\n",
    "\n",
    "dl_kwargs = {} if workers is None else dict(num_workers=workers, persistent_workers=True)\n",
    "train_dataloader = soma_ml.experiment_dataloader(experiment_dataset, **dl_kwargs)\n",
    "\n",
    "if lightning:\n",
    "    model = LogisticRegressionLightning(input_dim, output_dim, cell_type_encoder=cell_type_encoder)\n",
    "    trainer = pl.Trainer(\n",
    "        max_epochs=n_epochs,\n",
    "        strategy=\"auto\" if cpu else \"ddp_notebook\",\n",
    "        accelerator=\"cpu\" if cpu else \"gpu\",\n",
    "        devices=1 if cpu else workers or 1,\n",
    "        sync_batchnorm=True if not cpu and workers and workers > 1 else False,\n",
    "        deterministic=True,\n",
    "        max_time=None,\n",
    "        enable_progress_bar=not is_papermill,\n",
    "    )\n",
    "    torch.set_float32_matmul_precision(\"high\")\n",
    "else:\n",
    "    model = LogisticRegression(input_dim, output_dim).to(device)\n",
    "    loss_fn = torch.nn.CrossEntropyLoss()\n",
    "    optimizer = torch.optim.Adam(model.parameters(), lr=learning_rate)"
   ]
  },
  {
   "cell_type": "code",
   "execution_count": 8,
   "id": "844d7872",
   "metadata": {
    "editable": true,
    "execution": {
     "iopub.execute_input": "2024-12-05T00:08:29.416699Z",
     "iopub.status.busy": "2024-12-05T00:08:29.416423Z",
     "iopub.status.idle": "2024-12-05T00:15:31.081139Z",
     "shell.execute_reply": "2024-12-05T00:15:31.080422Z"
    },
    "papermill": {
     "duration": 421.672519,
     "end_time": "2024-12-05T00:15:31.085688",
     "exception": false,
     "start_time": "2024-12-05T00:08:29.413169",
     "status": "completed"
    },
    "slideshow": {
     "slide_type": ""
    },
    "tags": []
   },
   "outputs": [
    {
     "name": "stdout",
     "output_type": "stream",
     "text": [
      "Epoch 1: Train Loss: 0.0228958 Accuracy 0.5848\n"
     ]
    },
    {
     "name": "stdout",
     "output_type": "stream",
     "text": [
      "Epoch 2: Train Loss: 0.0217545 Accuracy 0.8448\n"
     ]
    },
    {
     "name": "stdout",
     "output_type": "stream",
     "text": [
      "Epoch 3: Train Loss: 0.0214519 Accuracy 0.8684\n"
     ]
    },
    {
     "name": "stdout",
     "output_type": "stream",
     "text": [
      "Epoch 4: Train Loss: 0.0212911 Accuracy 0.8794\n"
     ]
    },
    {
     "name": "stdout",
     "output_type": "stream",
     "text": [
      "Epoch 5: Train Loss: 0.0211904 Accuracy 0.8860\n"
     ]
    },
    {
     "name": "stdout",
     "output_type": "stream",
     "text": [
      "Epoch 6: Train Loss: 0.0211203 Accuracy 0.8889\n"
     ]
    },
    {
     "name": "stdout",
     "output_type": "stream",
     "text": [
      "Epoch 7: Train Loss: 0.0210682 Accuracy 0.8931\n"
     ]
    },
    {
     "name": "stdout",
     "output_type": "stream",
     "text": [
      "Epoch 8: Train Loss: 0.0210258 Accuracy 0.8964\n"
     ]
    },
    {
     "name": "stdout",
     "output_type": "stream",
     "text": [
      "Epoch 9: Train Loss: 0.0209925 Accuracy 0.8985\n"
     ]
    },
    {
     "name": "stdout",
     "output_type": "stream",
     "text": [
      "Epoch 10: Train Loss: 0.0209654 Accuracy 0.9023\n"
     ]
    },
    {
     "name": "stdout",
     "output_type": "stream",
     "text": [
      "Epoch 11: Train Loss: 0.0209430 Accuracy 0.9044\n"
     ]
    },
    {
     "name": "stdout",
     "output_type": "stream",
     "text": [
      "Epoch 12: Train Loss: 0.0209231 Accuracy 0.9074\n"
     ]
    },
    {
     "name": "stdout",
     "output_type": "stream",
     "text": [
      "Epoch 13: Train Loss: 0.0209063 Accuracy 0.9100\n"
     ]
    },
    {
     "name": "stdout",
     "output_type": "stream",
     "text": [
      "Epoch 14: Train Loss: 0.0208913 Accuracy 0.9124\n"
     ]
    },
    {
     "name": "stdout",
     "output_type": "stream",
     "text": [
      "Epoch 15: Train Loss: 0.0208768 Accuracy 0.9157\n"
     ]
    },
    {
     "name": "stdout",
     "output_type": "stream",
     "text": [
      "Epoch 16: Train Loss: 0.0208637 Accuracy 0.9174\n"
     ]
    },
    {
     "name": "stdout",
     "output_type": "stream",
     "text": [
      "Epoch 17: Train Loss: 0.0208524 Accuracy 0.9186\n"
     ]
    },
    {
     "name": "stdout",
     "output_type": "stream",
     "text": [
      "Epoch 18: Train Loss: 0.0208428 Accuracy 0.9200\n"
     ]
    },
    {
     "name": "stdout",
     "output_type": "stream",
     "text": [
      "Epoch 19: Train Loss: 0.0208345 Accuracy 0.9207\n"
     ]
    },
    {
     "name": "stdout",
     "output_type": "stream",
     "text": [
      "Epoch 20: Train Loss: 0.0208265 Accuracy 0.9215\n",
      "CPU times: user 1h 43min 53s, sys: 14min, total: 1h 57min 54s\n",
      "Wall time: 7min 1s\n"
     ]
    }
   ],
   "source": [
    "%%time\n",
    "if lightning:\n",
    "    trainer.fit(model, train_dataloaders=train_dataloader)\n",
    "else:\n",
    "    for epoch in range(n_epochs):\n",
    "        if workers is not None:\n",
    "            experiment_dataset.set_epoch(epoch)\n",
    "        train_loss, train_accuracy = train_epoch(model, train_dataloader, loss_fn, optimizer, device)\n",
    "        print(f\"Epoch {epoch + 1}: Train Loss: {train_loss:.7f} Accuracy {train_accuracy:.4f}\")"
   ]
  },
  {
   "cell_type": "code",
   "execution_count": 9,
   "id": "c3e01b92",
   "metadata": {
    "editable": true,
    "execution": {
     "iopub.execute_input": "2024-12-05T00:15:31.093946Z",
     "iopub.status.busy": "2024-12-05T00:15:31.093638Z",
     "iopub.status.idle": "2024-12-05T00:15:38.522702Z",
     "shell.execute_reply": "2024-12-05T00:15:38.521852Z"
    },
    "papermill": {
     "duration": 7.434497,
     "end_time": "2024-12-05T00:15:38.523935",
     "exception": false,
     "start_time": "2024-12-05T00:15:31.089438",
     "status": "completed"
    },
    "slideshow": {
     "slide_type": ""
    },
    "tags": []
   },
   "outputs": [],
   "source": [
    "# TODO: split train/test\n",
    "test_dataloader = soma_ml.experiment_dataloader(experiment_dataset, **dl_kwargs)\n",
    "X_batch, y_batch = next(iter(test_dataloader))\n",
    "X_batch = torch.from_numpy(X_batch)\n",
    "y_batch = torch.from_numpy(cell_type_encoder.transform(y_batch['cell_type']))"
   ]
  },
  {
   "cell_type": "code",
   "execution_count": 10,
   "id": "4bba4258",
   "metadata": {
    "editable": true,
    "execution": {
     "iopub.execute_input": "2024-12-05T00:15:38.532995Z",
     "iopub.status.busy": "2024-12-05T00:15:38.532653Z",
     "iopub.status.idle": "2024-12-05T00:15:38.571359Z",
     "shell.execute_reply": "2024-12-05T00:15:38.570732Z"
    },
    "papermill": {
     "duration": 0.044548,
     "end_time": "2024-12-05T00:15:38.572597",
     "exception": false,
     "start_time": "2024-12-05T00:15:38.528049",
     "status": "completed"
    },
    "slideshow": {
     "slide_type": ""
    },
    "tags": []
   },
   "outputs": [
    {
     "name": "stdout",
     "output_type": "stream",
     "text": [
      "Accuracy: 93.0% (119 correct, 9 incorrect)\n"
     ]
    },
    {
     "data": {
      "text/html": [
       "<div>\n",
       "<style scoped>\n",
       "    .dataframe tbody tr th:only-of-type {\n",
       "        vertical-align: middle;\n",
       "    }\n",
       "\n",
       "    .dataframe tbody tr th {\n",
       "        vertical-align: top;\n",
       "    }\n",
       "\n",
       "    .dataframe thead th {\n",
       "        text-align: right;\n",
       "    }\n",
       "</style>\n",
       "<table border=\"1\" class=\"dataframe\">\n",
       "  <thead>\n",
       "    <tr style=\"text-align: right;\">\n",
       "      <th>predicted cell type</th>\n",
       "      <th>ciliated cell</th>\n",
       "      <th>endothelial cell</th>\n",
       "      <th>endothelial cell of uterus</th>\n",
       "      <th>epithelial cell</th>\n",
       "      <th>fibroblast</th>\n",
       "      <th>glandular epithelial cell</th>\n",
       "      <th>leukocyte</th>\n",
       "      <th>macrophage</th>\n",
       "      <th>myeloid cell</th>\n",
       "      <th>smooth muscle cell</th>\n",
       "      <th>stratified epithelial cell</th>\n",
       "      <th>stromal cell of ovary</th>\n",
       "      <th>supporting cell</th>\n",
       "      <th>unknown</th>\n",
       "      <th>uterine smooth muscle cell</th>\n",
       "    </tr>\n",
       "    <tr>\n",
       "      <th>actual cell type</th>\n",
       "      <th></th>\n",
       "      <th></th>\n",
       "      <th></th>\n",
       "      <th></th>\n",
       "      <th></th>\n",
       "      <th></th>\n",
       "      <th></th>\n",
       "      <th></th>\n",
       "      <th></th>\n",
       "      <th></th>\n",
       "      <th></th>\n",
       "      <th></th>\n",
       "      <th></th>\n",
       "      <th></th>\n",
       "      <th></th>\n",
       "    </tr>\n",
       "  </thead>\n",
       "  <tbody>\n",
       "    <tr>\n",
       "      <th>ciliated cell</th>\n",
       "      <td>4</td>\n",
       "      <td></td>\n",
       "      <td></td>\n",
       "      <td></td>\n",
       "      <td></td>\n",
       "      <td></td>\n",
       "      <td></td>\n",
       "      <td></td>\n",
       "      <td></td>\n",
       "      <td></td>\n",
       "      <td></td>\n",
       "      <td></td>\n",
       "      <td></td>\n",
       "      <td></td>\n",
       "      <td></td>\n",
       "    </tr>\n",
       "    <tr>\n",
       "      <th>endothelial cell</th>\n",
       "      <td></td>\n",
       "      <td>4</td>\n",
       "      <td></td>\n",
       "      <td></td>\n",
       "      <td></td>\n",
       "      <td></td>\n",
       "      <td></td>\n",
       "      <td></td>\n",
       "      <td></td>\n",
       "      <td></td>\n",
       "      <td></td>\n",
       "      <td></td>\n",
       "      <td></td>\n",
       "      <td></td>\n",
       "      <td></td>\n",
       "    </tr>\n",
       "    <tr>\n",
       "      <th>endothelial cell of uterus</th>\n",
       "      <td></td>\n",
       "      <td></td>\n",
       "      <td>7</td>\n",
       "      <td></td>\n",
       "      <td></td>\n",
       "      <td></td>\n",
       "      <td></td>\n",
       "      <td></td>\n",
       "      <td></td>\n",
       "      <td></td>\n",
       "      <td></td>\n",
       "      <td></td>\n",
       "      <td></td>\n",
       "      <td></td>\n",
       "      <td></td>\n",
       "    </tr>\n",
       "    <tr>\n",
       "      <th>epithelial cell</th>\n",
       "      <td></td>\n",
       "      <td></td>\n",
       "      <td></td>\n",
       "      <td>14</td>\n",
       "      <td></td>\n",
       "      <td></td>\n",
       "      <td></td>\n",
       "      <td></td>\n",
       "      <td></td>\n",
       "      <td></td>\n",
       "      <td></td>\n",
       "      <td></td>\n",
       "      <td></td>\n",
       "      <td></td>\n",
       "      <td></td>\n",
       "    </tr>\n",
       "    <tr>\n",
       "      <th>fibroblast</th>\n",
       "      <td></td>\n",
       "      <td></td>\n",
       "      <td></td>\n",
       "      <td></td>\n",
       "      <td>2</td>\n",
       "      <td></td>\n",
       "      <td></td>\n",
       "      <td></td>\n",
       "      <td></td>\n",
       "      <td></td>\n",
       "      <td></td>\n",
       "      <td></td>\n",
       "      <td>1</td>\n",
       "      <td></td>\n",
       "      <td></td>\n",
       "    </tr>\n",
       "    <tr>\n",
       "      <th>glandular epithelial cell</th>\n",
       "      <td></td>\n",
       "      <td></td>\n",
       "      <td></td>\n",
       "      <td></td>\n",
       "      <td></td>\n",
       "      <td>11</td>\n",
       "      <td></td>\n",
       "      <td></td>\n",
       "      <td></td>\n",
       "      <td></td>\n",
       "      <td></td>\n",
       "      <td></td>\n",
       "      <td></td>\n",
       "      <td></td>\n",
       "      <td></td>\n",
       "    </tr>\n",
       "    <tr>\n",
       "      <th>leukocyte</th>\n",
       "      <td></td>\n",
       "      <td></td>\n",
       "      <td></td>\n",
       "      <td></td>\n",
       "      <td></td>\n",
       "      <td></td>\n",
       "      <td>2</td>\n",
       "      <td></td>\n",
       "      <td></td>\n",
       "      <td></td>\n",
       "      <td></td>\n",
       "      <td></td>\n",
       "      <td></td>\n",
       "      <td></td>\n",
       "      <td></td>\n",
       "    </tr>\n",
       "    <tr>\n",
       "      <th>macrophage</th>\n",
       "      <td></td>\n",
       "      <td></td>\n",
       "      <td></td>\n",
       "      <td></td>\n",
       "      <td></td>\n",
       "      <td></td>\n",
       "      <td></td>\n",
       "      <td>1</td>\n",
       "      <td></td>\n",
       "      <td></td>\n",
       "      <td></td>\n",
       "      <td></td>\n",
       "      <td></td>\n",
       "      <td></td>\n",
       "      <td></td>\n",
       "    </tr>\n",
       "    <tr>\n",
       "      <th>myeloid cell</th>\n",
       "      <td></td>\n",
       "      <td></td>\n",
       "      <td></td>\n",
       "      <td></td>\n",
       "      <td></td>\n",
       "      <td></td>\n",
       "      <td></td>\n",
       "      <td></td>\n",
       "      <td>2</td>\n",
       "      <td></td>\n",
       "      <td></td>\n",
       "      <td></td>\n",
       "      <td></td>\n",
       "      <td></td>\n",
       "      <td></td>\n",
       "    </tr>\n",
       "    <tr>\n",
       "      <th>myometrial cell</th>\n",
       "      <td></td>\n",
       "      <td></td>\n",
       "      <td></td>\n",
       "      <td></td>\n",
       "      <td>1</td>\n",
       "      <td></td>\n",
       "      <td></td>\n",
       "      <td></td>\n",
       "      <td></td>\n",
       "      <td></td>\n",
       "      <td></td>\n",
       "      <td></td>\n",
       "      <td></td>\n",
       "      <td></td>\n",
       "      <td></td>\n",
       "    </tr>\n",
       "    <tr>\n",
       "      <th>smooth muscle cell</th>\n",
       "      <td></td>\n",
       "      <td></td>\n",
       "      <td></td>\n",
       "      <td></td>\n",
       "      <td></td>\n",
       "      <td></td>\n",
       "      <td></td>\n",
       "      <td></td>\n",
       "      <td></td>\n",
       "      <td>14</td>\n",
       "      <td></td>\n",
       "      <td></td>\n",
       "      <td></td>\n",
       "      <td></td>\n",
       "      <td></td>\n",
       "    </tr>\n",
       "    <tr>\n",
       "      <th>stratified epithelial cell</th>\n",
       "      <td></td>\n",
       "      <td></td>\n",
       "      <td></td>\n",
       "      <td></td>\n",
       "      <td></td>\n",
       "      <td></td>\n",
       "      <td></td>\n",
       "      <td></td>\n",
       "      <td></td>\n",
       "      <td></td>\n",
       "      <td>2</td>\n",
       "      <td></td>\n",
       "      <td></td>\n",
       "      <td></td>\n",
       "      <td></td>\n",
       "    </tr>\n",
       "    <tr>\n",
       "      <th>stromal cell of ovary</th>\n",
       "      <td></td>\n",
       "      <td></td>\n",
       "      <td></td>\n",
       "      <td></td>\n",
       "      <td></td>\n",
       "      <td></td>\n",
       "      <td></td>\n",
       "      <td></td>\n",
       "      <td></td>\n",
       "      <td></td>\n",
       "      <td></td>\n",
       "      <td>40</td>\n",
       "      <td></td>\n",
       "      <td></td>\n",
       "      <td></td>\n",
       "    </tr>\n",
       "    <tr>\n",
       "      <th>supporting cell</th>\n",
       "      <td></td>\n",
       "      <td></td>\n",
       "      <td></td>\n",
       "      <td></td>\n",
       "      <td></td>\n",
       "      <td></td>\n",
       "      <td></td>\n",
       "      <td></td>\n",
       "      <td></td>\n",
       "      <td></td>\n",
       "      <td></td>\n",
       "      <td>1</td>\n",
       "      <td>6</td>\n",
       "      <td></td>\n",
       "      <td>3</td>\n",
       "    </tr>\n",
       "    <tr>\n",
       "      <th>unknown</th>\n",
       "      <td></td>\n",
       "      <td></td>\n",
       "      <td></td>\n",
       "      <td></td>\n",
       "      <td></td>\n",
       "      <td></td>\n",
       "      <td></td>\n",
       "      <td></td>\n",
       "      <td></td>\n",
       "      <td></td>\n",
       "      <td></td>\n",
       "      <td>2</td>\n",
       "      <td></td>\n",
       "      <td>2</td>\n",
       "      <td></td>\n",
       "    </tr>\n",
       "    <tr>\n",
       "      <th>uterine smooth muscle cell</th>\n",
       "      <td></td>\n",
       "      <td></td>\n",
       "      <td></td>\n",
       "      <td></td>\n",
       "      <td></td>\n",
       "      <td></td>\n",
       "      <td></td>\n",
       "      <td></td>\n",
       "      <td></td>\n",
       "      <td></td>\n",
       "      <td></td>\n",
       "      <td></td>\n",
       "      <td></td>\n",
       "      <td></td>\n",
       "      <td>8</td>\n",
       "    </tr>\n",
       "    <tr>\n",
       "      <th>vascular associated smooth muscle cell</th>\n",
       "      <td></td>\n",
       "      <td></td>\n",
       "      <td></td>\n",
       "      <td></td>\n",
       "      <td></td>\n",
       "      <td></td>\n",
       "      <td></td>\n",
       "      <td></td>\n",
       "      <td></td>\n",
       "      <td></td>\n",
       "      <td></td>\n",
       "      <td></td>\n",
       "      <td>1</td>\n",
       "      <td></td>\n",
       "      <td></td>\n",
       "    </tr>\n",
       "  </tbody>\n",
       "</table>\n",
       "</div>"
      ],
      "text/plain": [
       "predicted cell type                    ciliated cell endothelial cell  \\\n",
       "actual cell type                                                        \n",
       "ciliated cell                                      4                    \n",
       "endothelial cell                                                    4   \n",
       "endothelial cell of uterus                                              \n",
       "epithelial cell                                                         \n",
       "fibroblast                                                              \n",
       "glandular epithelial cell                                               \n",
       "leukocyte                                                               \n",
       "macrophage                                                              \n",
       "myeloid cell                                                            \n",
       "myometrial cell                                                         \n",
       "smooth muscle cell                                                      \n",
       "stratified epithelial cell                                              \n",
       "stromal cell of ovary                                                   \n",
       "supporting cell                                                         \n",
       "unknown                                                                 \n",
       "uterine smooth muscle cell                                              \n",
       "vascular associated smooth muscle cell                                  \n",
       "\n",
       "predicted cell type                    endothelial cell of uterus  \\\n",
       "actual cell type                                                    \n",
       "ciliated cell                                                       \n",
       "endothelial cell                                                    \n",
       "endothelial cell of uterus                                      7   \n",
       "epithelial cell                                                     \n",
       "fibroblast                                                          \n",
       "glandular epithelial cell                                           \n",
       "leukocyte                                                           \n",
       "macrophage                                                          \n",
       "myeloid cell                                                        \n",
       "myometrial cell                                                     \n",
       "smooth muscle cell                                                  \n",
       "stratified epithelial cell                                          \n",
       "stromal cell of ovary                                               \n",
       "supporting cell                                                     \n",
       "unknown                                                             \n",
       "uterine smooth muscle cell                                          \n",
       "vascular associated smooth muscle cell                              \n",
       "\n",
       "predicted cell type                    epithelial cell fibroblast  \\\n",
       "actual cell type                                                    \n",
       "ciliated cell                                                       \n",
       "endothelial cell                                                    \n",
       "endothelial cell of uterus                                          \n",
       "epithelial cell                                     14              \n",
       "fibroblast                                                      2   \n",
       "glandular epithelial cell                                           \n",
       "leukocyte                                                           \n",
       "macrophage                                                          \n",
       "myeloid cell                                                        \n",
       "myometrial cell                                                 1   \n",
       "smooth muscle cell                                                  \n",
       "stratified epithelial cell                                          \n",
       "stromal cell of ovary                                               \n",
       "supporting cell                                                     \n",
       "unknown                                                             \n",
       "uterine smooth muscle cell                                          \n",
       "vascular associated smooth muscle cell                              \n",
       "\n",
       "predicted cell type                    glandular epithelial cell leukocyte  \\\n",
       "actual cell type                                                             \n",
       "ciliated cell                                                                \n",
       "endothelial cell                                                             \n",
       "endothelial cell of uterus                                                   \n",
       "epithelial cell                                                              \n",
       "fibroblast                                                                   \n",
       "glandular epithelial cell                                     11             \n",
       "leukocyte                                                                2   \n",
       "macrophage                                                                   \n",
       "myeloid cell                                                                 \n",
       "myometrial cell                                                              \n",
       "smooth muscle cell                                                           \n",
       "stratified epithelial cell                                                   \n",
       "stromal cell of ovary                                                        \n",
       "supporting cell                                                              \n",
       "unknown                                                                      \n",
       "uterine smooth muscle cell                                                   \n",
       "vascular associated smooth muscle cell                                       \n",
       "\n",
       "predicted cell type                    macrophage myeloid cell  \\\n",
       "actual cell type                                                 \n",
       "ciliated cell                                                    \n",
       "endothelial cell                                                 \n",
       "endothelial cell of uterus                                       \n",
       "epithelial cell                                                  \n",
       "fibroblast                                                       \n",
       "glandular epithelial cell                                        \n",
       "leukocyte                                                        \n",
       "macrophage                                      1                \n",
       "myeloid cell                                                 2   \n",
       "myometrial cell                                                  \n",
       "smooth muscle cell                                               \n",
       "stratified epithelial cell                                       \n",
       "stromal cell of ovary                                            \n",
       "supporting cell                                                  \n",
       "unknown                                                          \n",
       "uterine smooth muscle cell                                       \n",
       "vascular associated smooth muscle cell                           \n",
       "\n",
       "predicted cell type                    smooth muscle cell  \\\n",
       "actual cell type                                            \n",
       "ciliated cell                                               \n",
       "endothelial cell                                            \n",
       "endothelial cell of uterus                                  \n",
       "epithelial cell                                             \n",
       "fibroblast                                                  \n",
       "glandular epithelial cell                                   \n",
       "leukocyte                                                   \n",
       "macrophage                                                  \n",
       "myeloid cell                                                \n",
       "myometrial cell                                             \n",
       "smooth muscle cell                                     14   \n",
       "stratified epithelial cell                                  \n",
       "stromal cell of ovary                                       \n",
       "supporting cell                                             \n",
       "unknown                                                     \n",
       "uterine smooth muscle cell                                  \n",
       "vascular associated smooth muscle cell                      \n",
       "\n",
       "predicted cell type                    stratified epithelial cell  \\\n",
       "actual cell type                                                    \n",
       "ciliated cell                                                       \n",
       "endothelial cell                                                    \n",
       "endothelial cell of uterus                                          \n",
       "epithelial cell                                                     \n",
       "fibroblast                                                          \n",
       "glandular epithelial cell                                           \n",
       "leukocyte                                                           \n",
       "macrophage                                                          \n",
       "myeloid cell                                                        \n",
       "myometrial cell                                                     \n",
       "smooth muscle cell                                                  \n",
       "stratified epithelial cell                                      2   \n",
       "stromal cell of ovary                                               \n",
       "supporting cell                                                     \n",
       "unknown                                                             \n",
       "uterine smooth muscle cell                                          \n",
       "vascular associated smooth muscle cell                              \n",
       "\n",
       "predicted cell type                    stromal cell of ovary supporting cell  \\\n",
       "actual cell type                                                               \n",
       "ciliated cell                                                                  \n",
       "endothelial cell                                                               \n",
       "endothelial cell of uterus                                                     \n",
       "epithelial cell                                                                \n",
       "fibroblast                                                                 1   \n",
       "glandular epithelial cell                                                      \n",
       "leukocyte                                                                      \n",
       "macrophage                                                                     \n",
       "myeloid cell                                                                   \n",
       "myometrial cell                                                                \n",
       "smooth muscle cell                                                             \n",
       "stratified epithelial cell                                                     \n",
       "stromal cell of ovary                                     40                   \n",
       "supporting cell                                            1               6   \n",
       "unknown                                                    2                   \n",
       "uterine smooth muscle cell                                                     \n",
       "vascular associated smooth muscle cell                                     1   \n",
       "\n",
       "predicted cell type                    unknown uterine smooth muscle cell  \n",
       "actual cell type                                                           \n",
       "ciliated cell                                                              \n",
       "endothelial cell                                                           \n",
       "endothelial cell of uterus                                                 \n",
       "epithelial cell                                                            \n",
       "fibroblast                                                                 \n",
       "glandular epithelial cell                                                  \n",
       "leukocyte                                                                  \n",
       "macrophage                                                                 \n",
       "myeloid cell                                                               \n",
       "myometrial cell                                                            \n",
       "smooth muscle cell                                                         \n",
       "stratified epithelial cell                                                 \n",
       "stromal cell of ovary                                                      \n",
       "supporting cell                                                         3  \n",
       "unknown                                      2                             \n",
       "uterine smooth muscle cell                                              8  \n",
       "vascular associated smooth muscle cell                                     "
      ]
     },
     "execution_count": 10,
     "metadata": {},
     "output_type": "execute_result"
    }
   ],
   "source": [
    "import pandas as pd\n",
    "\n",
    "model.eval()\n",
    "model.to(device)\n",
    "outputs = model(X_batch.to(device))\n",
    "probabilities = torch.nn.functional.softmax(outputs, 1)\n",
    "predictions = torch.argmax(probabilities, axis=1)\n",
    "predicted_cell_types = cell_type_encoder.inverse_transform(predictions.cpu())\n",
    "\n",
    "cmp_df = pd.DataFrame({\n",
    "    \"actual cell type\": cell_type_encoder.inverse_transform(y_batch.ravel().numpy()),\n",
    "    \"predicted cell type\": predicted_cell_types,\n",
    "})\n",
    "right, wrong = (cmp_df['actual cell type'] == cmp_df['predicted cell type']).value_counts().values\n",
    "print('Accuracy: %.1f%% (%d correct, %d incorrect)' % (100 * right / len(cmp_df), right, wrong))\n",
    "pd.crosstab(cmp_df['actual cell type'], cmp_df['predicted cell type']).replace(0, '')"
   ]
  },
  {
   "cell_type": "markdown",
   "source": [
    "\tCommand being timed: \"papermill -p tissue uterus -p cpu True benchmark.ipynb uterus/torch-cpu.ipynb\"\n",
    "\tUser time (seconds): 6287.06\n",
    "\tSystem time (seconds): 864.77\n",
    "\tPercent of CPU this job got: 1621%\n",
    "\tElapsed (wall clock) time (h:mm:ss or m:ss): 7:21.18\n",
    "\tAverage shared text size (kbytes): 0\n",
    "\tAverage unshared data size (kbytes): 0\n",
    "\tAverage stack size (kbytes): 0\n",
    "\tAverage total size (kbytes): 0\n",
    "\tMaximum resident set size (kbytes): 11246760\n",
    "\tAverage resident set size (kbytes): 0\n",
    "\tMajor (requiring I/O) page faults: 0\n",
    "\tMinor (reclaiming a frame) page faults: 96413314\n",
    "\tVoluntary context switches: 2332988\n",
    "\tInvoluntary context switches: 3057243\n",
    "\tSwaps: 0\n",
    "\tFile system inputs: 0\n",
    "\tFile system outputs: 1488\n",
    "\tSocket messages sent: 0\n",
    "\tSocket messages received: 0\n",
    "\tSignals delivered: 0\n",
    "\tPage size (bytes): 4096\n",
    "\tExit status: 0\n"
   ],
   "metadata": {}
  }
 ],
 "metadata": {
  "kernelspec": {
   "display_name": "Python 3 (ipykernel)",
   "language": "python",
   "name": "python3"
  },
  "language_info": {
   "codemirror_mode": {
    "name": "ipython",
    "version": 3
   },
   "file_extension": ".py",
   "mimetype": "text/x-python",
   "name": "python",
   "nbconvert_exporter": "python",
   "pygments_lexer": "ipython3",
   "version": "3.12.7"
  },
  "papermill": {
   "default_parameters": {},
   "duration": 440.358964,
   "end_time": "2024-12-05T00:15:41.498750",
   "environment_variables": {},
   "exception": null,
   "input_path": "benchmark.ipynb",
   "output_path": "uterus/torch-cpu.ipynb",
   "parameters": {
    "cpu": true,
    "tissue": "uterus"
   },
   "start_time": "2024-12-05T00:08:21.139786",
   "version": "2.6.0"
  }
 },
 "nbformat": 4,
 "nbformat_minor": 5
}