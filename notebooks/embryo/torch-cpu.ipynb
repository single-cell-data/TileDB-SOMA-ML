{
 "cells": [
  {
   "cell_type": "markdown",
   "id": "d4df201b",
   "metadata": {
    "editable": true,
    "papermill": {
     "duration": 0.002627,
     "end_time": "2024-12-05T01:43:46.965083",
     "exception": false,
     "start_time": "2024-12-05T01:43:46.962456",
     "status": "completed"
    },
    "slideshow": {
     "slide_type": ""
    },
    "tags": []
   },
   "source": [
    "Papermill params:"
   ]
  },
  {
   "cell_type": "code",
   "execution_count": 1,
   "id": "8bdc4477",
   "metadata": {
    "editable": true,
    "execution": {
     "iopub.execute_input": "2024-12-05T01:43:46.972486Z",
     "iopub.status.busy": "2024-12-05T01:43:46.972085Z",
     "iopub.status.idle": "2024-12-05T01:43:46.975997Z",
     "shell.execute_reply": "2024-12-05T01:43:46.975524Z"
    },
    "papermill": {
     "duration": 0.009412,
     "end_time": "2024-12-05T01:43:46.977030",
     "exception": false,
     "start_time": "2024-12-05T01:43:46.967618",
     "status": "completed"
    },
    "slideshow": {
     "slide_type": ""
    },
    "tags": [
     "parameters"
    ]
   },
   "outputs": [],
   "source": [
    "workers = None\n",
    "lightning = False       # Use PyTorch Lightning\n",
    "tissue = \"tongue\"       # \"tissue_general\" obs filter\n",
    "is_primary_data = True  # Additional obs filter\n",
    "cpu = False             # Force CPU mode\n",
    "census_version = \"2024-07-01\"\n",
    "batch_size = 128\n",
    "shuffle = True\n",
    "learning_rate = 1e-5\n",
    "n_epochs = 20"
   ]
  },
  {
   "cell_type": "code",
   "execution_count": 2,
   "id": "3c901c52",
   "metadata": {
    "execution": {
     "iopub.execute_input": "2024-12-05T01:43:46.982214Z",
     "iopub.status.busy": "2024-12-05T01:43:46.981957Z",
     "iopub.status.idle": "2024-12-05T01:43:46.984728Z",
     "shell.execute_reply": "2024-12-05T01:43:46.984204Z"
    },
    "papermill": {
     "duration": 0.006512,
     "end_time": "2024-12-05T01:43:46.985698",
     "exception": false,
     "start_time": "2024-12-05T01:43:46.979186",
     "status": "completed"
    },
    "tags": [
     "injected-parameters"
    ]
   },
   "outputs": [],
   "source": [
    "# Parameters\n",
    "tissue = \"embryo\"\n",
    "cpu = True\n"
   ]
  },
  {
   "cell_type": "code",
   "execution_count": 3,
   "id": "4d509320",
   "metadata": {
    "execution": {
     "iopub.execute_input": "2024-12-05T01:43:46.991217Z",
     "iopub.status.busy": "2024-12-05T01:43:46.990737Z",
     "iopub.status.idle": "2024-12-05T01:43:46.993577Z",
     "shell.execute_reply": "2024-12-05T01:43:46.993096Z"
    },
    "papermill": {
     "duration": 0.0068,
     "end_time": "2024-12-05T01:43:46.994649",
     "exception": false,
     "start_time": "2024-12-05T01:43:46.987849",
     "status": "completed"
    },
    "tags": []
   },
   "outputs": [],
   "source": [
    "from os import environ as env\n",
    "is_papermill = bool(env.get(\"PAPERMILL\"))"
   ]
  },
  {
   "cell_type": "code",
   "execution_count": 4,
   "id": "b6d6b51c",
   "metadata": {
    "editable": true,
    "execution": {
     "iopub.execute_input": "2024-12-05T01:43:47.000141Z",
     "iopub.status.busy": "2024-12-05T01:43:46.999883Z",
     "iopub.status.idle": "2024-12-05T01:43:52.199896Z",
     "shell.execute_reply": "2024-12-05T01:43:52.199121Z"
    },
    "papermill": {
     "duration": 5.204304,
     "end_time": "2024-12-05T01:43:52.201177",
     "exception": false,
     "start_time": "2024-12-05T01:43:46.996873",
     "status": "completed"
    },
    "slideshow": {
     "slide_type": ""
    },
    "tags": []
   },
   "outputs": [
    {
     "name": "stderr",
     "output_type": "stream",
     "text": [
      "/home/ubuntu/.pyenv/versions/3.12.7/lib/python3.12/site-packages/torchdata/datapipes/__init__.py:18: UserWarning: \n",
      "################################################################################\n",
      "WARNING!\n",
      "The 'datapipes', 'dataloader2' modules are deprecated and will be removed in a\n",
      "future torchdata release! Please see https://github.com/pytorch/data/issues/1196\n",
      "to learn more and leave feedback.\n",
      "################################################################################\n",
      "\n",
      "  deprecation_warning()\n"
     ]
    },
    {
     "name": "stdout",
     "output_type": "stream",
     "text": [
      "165937 cells, 1297 batches\n"
     ]
    }
   ],
   "source": [
    "import tiledbsoma as soma\n",
    "import torch\n",
    "from sklearn.preprocessing import LabelEncoder\n",
    "\n",
    "import tiledbsoma_ml as soma_ml\n",
    "\n",
    "CZI_Census_Homo_Sapiens_URL = f\"s3://cellxgene-census-public-us-west-2/cell-census/{census_version}/soma/census_data/homo_sapiens/\"\n",
    "\n",
    "experiment = soma.open(\n",
    "    CZI_Census_Homo_Sapiens_URL,\n",
    "    context=soma.SOMATileDBContext(tiledb_config={\"vfs.s3.region\": \"us-west-2\"}),\n",
    ")\n",
    "obs_value_filter = f\"tissue_general == '{tissue}'\"\n",
    "if is_primary_data:\n",
    "    obs_value_filter += \" and is_primary_data == True\"\n",
    "\n",
    "iter_cls = soma_ml.ExperimentAxisQueryIterDataPipe if workers is None and not lightning else soma_ml.ExperimentAxisQueryIterableDataset\n",
    "\n",
    "with experiment.axis_query(\n",
    "    measurement_name=\"RNA\", obs_query=soma.AxisQuery(value_filter=obs_value_filter)\n",
    ") as query:\n",
    "    obs_df = query.obs(column_names=[\"cell_type\"]).concat().to_pandas()\n",
    "    cell_type_encoder = LabelEncoder().fit(obs_df[\"cell_type\"].unique())\n",
    "\n",
    "    experiment_dataset = iter_cls(\n",
    "        query,\n",
    "        X_name=\"raw\",\n",
    "        obs_column_names=[\"cell_type\"],\n",
    "        batch_size=batch_size,\n",
    "        shuffle=shuffle,\n",
    "    )\n",
    "\n",
    "print(f'{len(obs_df)} cells, {len(experiment_dataset)} batches')"
   ]
  },
  {
   "cell_type": "code",
   "execution_count": 5,
   "id": "49b81c95",
   "metadata": {
    "editable": true,
    "execution": {
     "iopub.execute_input": "2024-12-05T01:43:52.207987Z",
     "iopub.status.busy": "2024-12-05T01:43:52.207442Z",
     "iopub.status.idle": "2024-12-05T01:43:52.240238Z",
     "shell.execute_reply": "2024-12-05T01:43:52.239700Z"
    },
    "papermill": {
     "duration": 0.037221,
     "end_time": "2024-12-05T01:43:52.241257",
     "exception": false,
     "start_time": "2024-12-05T01:43:52.204036",
     "status": "completed"
    },
    "slideshow": {
     "slide_type": ""
    },
    "tags": []
   },
   "outputs": [],
   "source": [
    "# PyTorch\n",
    "class LogisticRegression(torch.nn.Module):\n",
    "    def __init__(self, input_dim, output_dim):\n",
    "        super(LogisticRegression, self).__init__()  # noqa: UP008\n",
    "        self.linear = torch.nn.Linear(input_dim, output_dim)\n",
    "\n",
    "    def forward(self, x):\n",
    "        outputs = torch.sigmoid(self.linear(x))\n",
    "        return outputs\n",
    "    \n",
    "\n",
    "def train_epoch(model, train_dataloader, loss_fn, optimizer, device):\n",
    "    model.train()\n",
    "    train_loss = 0\n",
    "    train_correct = 0\n",
    "    train_total = 0\n",
    "\n",
    "    for X_batch, y_batch in train_dataloader:\n",
    "        optimizer.zero_grad()\n",
    "\n",
    "        X_batch = torch.from_numpy(X_batch).float().to(device)\n",
    "\n",
    "        # Perform prediction\n",
    "        outputs = model(X_batch)\n",
    "\n",
    "        # Determine the predicted label\n",
    "        probabilities = torch.nn.functional.softmax(outputs, 1)\n",
    "        predictions = torch.argmax(probabilities, axis=1)\n",
    "\n",
    "        # Compute the loss and perform back propagation\n",
    "        y_batch = torch.from_numpy(cell_type_encoder.transform(y_batch['cell_type'])).to(device)\n",
    "        train_correct += (predictions == y_batch).sum().item()\n",
    "        train_total += len(predictions)\n",
    "\n",
    "        loss = loss_fn(outputs, y_batch.long())\n",
    "        train_loss += loss.item()\n",
    "        loss.backward()\n",
    "        optimizer.step()\n",
    "\n",
    "    train_loss /= train_total\n",
    "    train_accuracy = train_correct / train_total\n",
    "    return train_loss, train_accuracy"
   ]
  },
  {
   "cell_type": "code",
   "execution_count": 6,
   "id": "0ed1cb24",
   "metadata": {
    "editable": true,
    "execution": {
     "iopub.execute_input": "2024-12-05T01:43:52.247179Z",
     "iopub.status.busy": "2024-12-05T01:43:52.246837Z",
     "iopub.status.idle": "2024-12-05T01:43:54.077028Z",
     "shell.execute_reply": "2024-12-05T01:43:54.076422Z"
    },
    "papermill": {
     "duration": 1.834498,
     "end_time": "2024-12-05T01:43:54.078224",
     "exception": false,
     "start_time": "2024-12-05T01:43:52.243726",
     "status": "completed"
    },
    "slideshow": {
     "slide_type": ""
    },
    "tags": []
   },
   "outputs": [],
   "source": [
    "# Lightning\n",
    "import pytorch_lightning as pl\n",
    "\n",
    "class LogisticRegressionLightning(pl.LightningModule):\n",
    "    def __init__(self, input_dim, output_dim, cell_type_encoder, learning_rate=learning_rate):\n",
    "        super(LogisticRegressionLightning, self).__init__()\n",
    "        self.linear = torch.nn.Linear(input_dim, output_dim)\n",
    "        self.cell_type_encoder = cell_type_encoder\n",
    "        self.learning_rate = learning_rate\n",
    "        self.loss_fn = torch.nn.CrossEntropyLoss()\n",
    "\n",
    "    def forward(self, x):\n",
    "        outputs = torch.sigmoid(self.linear(x))\n",
    "        return outputs\n",
    "\n",
    "    def training_step(self, batch, batch_idx):\n",
    "        X_batch, y_batch = batch\n",
    "        # X_batch = X_batch.float()\n",
    "        X_batch = torch.from_numpy(X_batch).float().to(self.device)\n",
    "\n",
    "        # Perform prediction\n",
    "        outputs = self(X_batch)\n",
    "\n",
    "        # Determine the predicted label\n",
    "        probabilities = torch.nn.functional.softmax(outputs, 1)\n",
    "        predictions = torch.argmax(probabilities, axis=1)\n",
    "\n",
    "        # Compute loss\n",
    "        y_batch = torch.from_numpy(\n",
    "            self.cell_type_encoder.transform(y_batch[\"cell_type\"])\n",
    "        ).to(self.device)\n",
    "        loss = self.loss_fn(outputs, y_batch.long())\n",
    "\n",
    "        # Compute accuracy\n",
    "        train_correct = (predictions == y_batch).sum().item()\n",
    "        train_accuracy = train_correct / len(predictions)\n",
    "\n",
    "        # Log loss and accuracy\n",
    "        self.log(\"train_loss\", loss, prog_bar=True)\n",
    "        self.log(\"train_accuracy\", train_accuracy, prog_bar=True)\n",
    "\n",
    "        return loss\n",
    "\n",
    "    def configure_optimizers(self):\n",
    "        optimizer = torch.optim.Adam(self.parameters(), lr=self.learning_rate)\n",
    "        return optimizer"
   ]
  },
  {
   "cell_type": "code",
   "execution_count": 7,
   "id": "8be601b1",
   "metadata": {
    "editable": true,
    "execution": {
     "iopub.execute_input": "2024-12-05T01:43:54.084955Z",
     "iopub.status.busy": "2024-12-05T01:43:54.084472Z",
     "iopub.status.idle": "2024-12-05T01:43:54.115083Z",
     "shell.execute_reply": "2024-12-05T01:43:54.114562Z"
    },
    "papermill": {
     "duration": 0.035101,
     "end_time": "2024-12-05T01:43:54.116191",
     "exception": false,
     "start_time": "2024-12-05T01:43:54.081090",
     "status": "completed"
    },
    "slideshow": {
     "slide_type": ""
    },
    "tags": []
   },
   "outputs": [],
   "source": [
    "if cpu or not torch.cuda.is_available():\n",
    "    device = \"cpu\"\n",
    "else:\n",
    "    device = \"cuda\"\n",
    "device = torch.device(device)\n",
    "input_dim = experiment_dataset.shape[1]\n",
    "output_dim = len(cell_type_encoder.classes_)\n",
    "\n",
    "dl_kwargs = {} if workers is None else dict(num_workers=workers, persistent_workers=True)\n",
    "train_dataloader = soma_ml.experiment_dataloader(experiment_dataset, **dl_kwargs)\n",
    "\n",
    "if lightning:\n",
    "    model = LogisticRegressionLightning(input_dim, output_dim, cell_type_encoder=cell_type_encoder)\n",
    "    trainer = pl.Trainer(\n",
    "        max_epochs=n_epochs,\n",
    "        strategy=\"auto\" if cpu else \"ddp_notebook\",\n",
    "        accelerator=\"cpu\" if cpu else \"gpu\",\n",
    "        devices=1 if cpu else workers or 1,\n",
    "        sync_batchnorm=True if not cpu and workers and workers > 1 else False,\n",
    "        deterministic=True,\n",
    "        max_time=None,\n",
    "        enable_progress_bar=not is_papermill,\n",
    "    )\n",
    "    torch.set_float32_matmul_precision(\"high\")\n",
    "else:\n",
    "    model = LogisticRegression(input_dim, output_dim).to(device)\n",
    "    loss_fn = torch.nn.CrossEntropyLoss()\n",
    "    optimizer = torch.optim.Adam(model.parameters(), lr=learning_rate)"
   ]
  },
  {
   "cell_type": "code",
   "execution_count": 8,
   "id": "8e5a33aa",
   "metadata": {
    "editable": true,
    "execution": {
     "iopub.execute_input": "2024-12-05T01:43:54.122211Z",
     "iopub.status.busy": "2024-12-05T01:43:54.121949Z",
     "iopub.status.idle": "2024-12-05T01:52:53.903884Z",
     "shell.execute_reply": "2024-12-05T01:52:53.903243Z"
    },
    "papermill": {
     "duration": 539.789805,
     "end_time": "2024-12-05T01:52:53.908574",
     "exception": false,
     "start_time": "2024-12-05T01:43:54.118769",
     "status": "completed"
    },
    "slideshow": {
     "slide_type": ""
    },
    "tags": []
   },
   "outputs": [
    {
     "name": "stdout",
     "output_type": "stream",
     "text": [
      "Epoch 1: Train Loss: 0.0247885 Accuracy 0.5051\n"
     ]
    },
    {
     "name": "stdout",
     "output_type": "stream",
     "text": [
      "Epoch 2: Train Loss: 0.0236123 Accuracy 0.5755\n"
     ]
    },
    {
     "name": "stdout",
     "output_type": "stream",
     "text": [
      "Epoch 3: Train Loss: 0.0233972 Accuracy 0.6377\n"
     ]
    },
    {
     "name": "stdout",
     "output_type": "stream",
     "text": [
      "Epoch 4: Train Loss: 0.0233016 Accuracy 0.6452\n"
     ]
    },
    {
     "name": "stdout",
     "output_type": "stream",
     "text": [
      "Epoch 5: Train Loss: 0.0232505 Accuracy 0.6443\n"
     ]
    },
    {
     "name": "stdout",
     "output_type": "stream",
     "text": [
      "Epoch 6: Train Loss: 0.0232102 Accuracy 0.6447\n"
     ]
    },
    {
     "name": "stdout",
     "output_type": "stream",
     "text": [
      "Epoch 7: Train Loss: 0.0231637 Accuracy 0.6320\n"
     ]
    },
    {
     "name": "stdout",
     "output_type": "stream",
     "text": [
      "Epoch 8: Train Loss: 0.0231337 Accuracy 0.6353\n"
     ]
    },
    {
     "name": "stdout",
     "output_type": "stream",
     "text": [
      "Epoch 9: Train Loss: 0.0231171 Accuracy 0.6394\n"
     ]
    },
    {
     "name": "stdout",
     "output_type": "stream",
     "text": [
      "Epoch 10: Train Loss: 0.0231047 Accuracy 0.6445\n"
     ]
    },
    {
     "name": "stdout",
     "output_type": "stream",
     "text": [
      "Epoch 11: Train Loss: 0.0230953 Accuracy 0.6459\n"
     ]
    },
    {
     "name": "stdout",
     "output_type": "stream",
     "text": [
      "Epoch 12: Train Loss: 0.0230875 Accuracy 0.6482\n"
     ]
    },
    {
     "name": "stdout",
     "output_type": "stream",
     "text": [
      "Epoch 13: Train Loss: 0.0230811 Accuracy 0.6501\n"
     ]
    },
    {
     "name": "stdout",
     "output_type": "stream",
     "text": [
      "Epoch 14: Train Loss: 0.0230756 Accuracy 0.6524\n"
     ]
    },
    {
     "name": "stdout",
     "output_type": "stream",
     "text": [
      "Epoch 15: Train Loss: 0.0230706 Accuracy 0.6543\n"
     ]
    },
    {
     "name": "stdout",
     "output_type": "stream",
     "text": [
      "Epoch 16: Train Loss: 0.0230664 Accuracy 0.6560\n"
     ]
    },
    {
     "name": "stdout",
     "output_type": "stream",
     "text": [
      "Epoch 17: Train Loss: 0.0230626 Accuracy 0.6571\n"
     ]
    },
    {
     "name": "stdout",
     "output_type": "stream",
     "text": [
      "Epoch 18: Train Loss: 0.0230591 Accuracy 0.6582\n"
     ]
    },
    {
     "name": "stdout",
     "output_type": "stream",
     "text": [
      "Epoch 19: Train Loss: 0.0230559 Accuracy 0.6593\n"
     ]
    },
    {
     "name": "stdout",
     "output_type": "stream",
     "text": [
      "Epoch 20: Train Loss: 0.0230530 Accuracy 0.6606\n",
      "CPU times: user 2h 20min 37s, sys: 17min 54s, total: 2h 38min 32s\n",
      "Wall time: 8min 59s\n"
     ]
    }
   ],
   "source": [
    "%%time\n",
    "if lightning:\n",
    "    trainer.fit(model, train_dataloaders=train_dataloader)\n",
    "else:\n",
    "    for epoch in range(n_epochs):\n",
    "        if workers is not None:\n",
    "            experiment_dataset.set_epoch(epoch)\n",
    "        train_loss, train_accuracy = train_epoch(model, train_dataloader, loss_fn, optimizer, device)\n",
    "        print(f\"Epoch {epoch + 1}: Train Loss: {train_loss:.7f} Accuracy {train_accuracy:.4f}\")"
   ]
  },
  {
   "cell_type": "code",
   "execution_count": 9,
   "id": "3dad9e55",
   "metadata": {
    "editable": true,
    "execution": {
     "iopub.execute_input": "2024-12-05T01:52:53.916925Z",
     "iopub.status.busy": "2024-12-05T01:52:53.916618Z",
     "iopub.status.idle": "2024-12-05T01:53:01.191053Z",
     "shell.execute_reply": "2024-12-05T01:53:01.189931Z"
    },
    "papermill": {
     "duration": 7.280294,
     "end_time": "2024-12-05T01:53:01.192513",
     "exception": false,
     "start_time": "2024-12-05T01:52:53.912219",
     "status": "completed"
    },
    "slideshow": {
     "slide_type": ""
    },
    "tags": []
   },
   "outputs": [],
   "source": [
    "# TODO: split train/test\n",
    "test_dataloader = soma_ml.experiment_dataloader(experiment_dataset, **dl_kwargs)\n",
    "X_batch, y_batch = next(iter(test_dataloader))\n",
    "X_batch = torch.from_numpy(X_batch)\n",
    "y_batch = torch.from_numpy(cell_type_encoder.transform(y_batch['cell_type']))"
   ]
  },
  {
   "cell_type": "code",
   "execution_count": 10,
   "id": "66d0d635",
   "metadata": {
    "editable": true,
    "execution": {
     "iopub.execute_input": "2024-12-05T01:53:01.201319Z",
     "iopub.status.busy": "2024-12-05T01:53:01.201030Z",
     "iopub.status.idle": "2024-12-05T01:53:01.232326Z",
     "shell.execute_reply": "2024-12-05T01:53:01.231759Z"
    },
    "papermill": {
     "duration": 0.036597,
     "end_time": "2024-12-05T01:53:01.233267",
     "exception": false,
     "start_time": "2024-12-05T01:53:01.196670",
     "status": "completed"
    },
    "slideshow": {
     "slide_type": ""
    },
    "tags": []
   },
   "outputs": [
    {
     "name": "stdout",
     "output_type": "stream",
     "text": [
      "Accuracy: 64.1% (82 correct, 46 incorrect)\n"
     ]
    },
    {
     "data": {
      "text/html": [
       "<div>\n",
       "<style scoped>\n",
       "    .dataframe tbody tr th:only-of-type {\n",
       "        vertical-align: middle;\n",
       "    }\n",
       "\n",
       "    .dataframe tbody tr th {\n",
       "        vertical-align: top;\n",
       "    }\n",
       "\n",
       "    .dataframe thead th {\n",
       "        text-align: right;\n",
       "    }\n",
       "</style>\n",
       "<table border=\"1\" class=\"dataframe\">\n",
       "  <thead>\n",
       "    <tr style=\"text-align: right;\">\n",
       "      <th>predicted cell type</th>\n",
       "      <th>GABAergic neuron</th>\n",
       "      <th>cortical interneuron</th>\n",
       "      <th>epithelial cell</th>\n",
       "      <th>forebrain neuroblast</th>\n",
       "      <th>inhibitory interneuron</th>\n",
       "      <th>macrophage</th>\n",
       "      <th>neural cell</th>\n",
       "      <th>neural progenitor cell</th>\n",
       "      <th>neuron</th>\n",
       "      <th>stromal cell</th>\n",
       "    </tr>\n",
       "    <tr>\n",
       "      <th>actual cell type</th>\n",
       "      <th></th>\n",
       "      <th></th>\n",
       "      <th></th>\n",
       "      <th></th>\n",
       "      <th></th>\n",
       "      <th></th>\n",
       "      <th></th>\n",
       "      <th></th>\n",
       "      <th></th>\n",
       "      <th></th>\n",
       "    </tr>\n",
       "  </thead>\n",
       "  <tbody>\n",
       "    <tr>\n",
       "      <th>GABAergic neuron</th>\n",
       "      <td>20</td>\n",
       "      <td></td>\n",
       "      <td></td>\n",
       "      <td></td>\n",
       "      <td></td>\n",
       "      <td></td>\n",
       "      <td></td>\n",
       "      <td></td>\n",
       "      <td></td>\n",
       "      <td></td>\n",
       "    </tr>\n",
       "    <tr>\n",
       "      <th>cortical interneuron</th>\n",
       "      <td></td>\n",
       "      <td></td>\n",
       "      <td></td>\n",
       "      <td>1</td>\n",
       "      <td>1</td>\n",
       "      <td></td>\n",
       "      <td></td>\n",
       "      <td></td>\n",
       "      <td></td>\n",
       "      <td></td>\n",
       "    </tr>\n",
       "    <tr>\n",
       "      <th>ependymal cell</th>\n",
       "      <td></td>\n",
       "      <td></td>\n",
       "      <td></td>\n",
       "      <td></td>\n",
       "      <td></td>\n",
       "      <td></td>\n",
       "      <td></td>\n",
       "      <td>1</td>\n",
       "      <td></td>\n",
       "      <td></td>\n",
       "    </tr>\n",
       "    <tr>\n",
       "      <th>epithelial cell</th>\n",
       "      <td></td>\n",
       "      <td></td>\n",
       "      <td>1</td>\n",
       "      <td></td>\n",
       "      <td></td>\n",
       "      <td></td>\n",
       "      <td></td>\n",
       "      <td></td>\n",
       "      <td></td>\n",
       "      <td></td>\n",
       "    </tr>\n",
       "    <tr>\n",
       "      <th>forebrain neuroblast</th>\n",
       "      <td></td>\n",
       "      <td>2</td>\n",
       "      <td></td>\n",
       "      <td>3</td>\n",
       "      <td></td>\n",
       "      <td></td>\n",
       "      <td></td>\n",
       "      <td></td>\n",
       "      <td></td>\n",
       "      <td></td>\n",
       "    </tr>\n",
       "    <tr>\n",
       "      <th>glial cell</th>\n",
       "      <td>1</td>\n",
       "      <td></td>\n",
       "      <td></td>\n",
       "      <td></td>\n",
       "      <td></td>\n",
       "      <td></td>\n",
       "      <td></td>\n",
       "      <td></td>\n",
       "      <td></td>\n",
       "      <td></td>\n",
       "    </tr>\n",
       "    <tr>\n",
       "      <th>glutamatergic neuron</th>\n",
       "      <td>22</td>\n",
       "      <td></td>\n",
       "      <td></td>\n",
       "      <td></td>\n",
       "      <td></td>\n",
       "      <td></td>\n",
       "      <td></td>\n",
       "      <td></td>\n",
       "      <td></td>\n",
       "      <td></td>\n",
       "    </tr>\n",
       "    <tr>\n",
       "      <th>inhibitory interneuron</th>\n",
       "      <td></td>\n",
       "      <td></td>\n",
       "      <td></td>\n",
       "      <td></td>\n",
       "      <td>5</td>\n",
       "      <td></td>\n",
       "      <td></td>\n",
       "      <td></td>\n",
       "      <td></td>\n",
       "      <td></td>\n",
       "    </tr>\n",
       "    <tr>\n",
       "      <th>macrophage</th>\n",
       "      <td></td>\n",
       "      <td></td>\n",
       "      <td></td>\n",
       "      <td></td>\n",
       "      <td></td>\n",
       "      <td>6</td>\n",
       "      <td></td>\n",
       "      <td></td>\n",
       "      <td></td>\n",
       "      <td></td>\n",
       "    </tr>\n",
       "    <tr>\n",
       "      <th>neural cell</th>\n",
       "      <td></td>\n",
       "      <td></td>\n",
       "      <td></td>\n",
       "      <td></td>\n",
       "      <td></td>\n",
       "      <td></td>\n",
       "      <td>15</td>\n",
       "      <td></td>\n",
       "      <td></td>\n",
       "      <td></td>\n",
       "    </tr>\n",
       "    <tr>\n",
       "      <th>neural progenitor cell</th>\n",
       "      <td>11</td>\n",
       "      <td></td>\n",
       "      <td></td>\n",
       "      <td></td>\n",
       "      <td></td>\n",
       "      <td></td>\n",
       "      <td></td>\n",
       "      <td>15</td>\n",
       "      <td>3</td>\n",
       "      <td></td>\n",
       "    </tr>\n",
       "    <tr>\n",
       "      <th>neuron</th>\n",
       "      <td></td>\n",
       "      <td></td>\n",
       "      <td></td>\n",
       "      <td></td>\n",
       "      <td></td>\n",
       "      <td></td>\n",
       "      <td></td>\n",
       "      <td>1</td>\n",
       "      <td>15</td>\n",
       "      <td></td>\n",
       "    </tr>\n",
       "    <tr>\n",
       "      <th>oligodendrocyte</th>\n",
       "      <td></td>\n",
       "      <td></td>\n",
       "      <td></td>\n",
       "      <td></td>\n",
       "      <td></td>\n",
       "      <td></td>\n",
       "      <td></td>\n",
       "      <td></td>\n",
       "      <td>1</td>\n",
       "      <td></td>\n",
       "    </tr>\n",
       "    <tr>\n",
       "      <th>peripheral nervous system neuron</th>\n",
       "      <td></td>\n",
       "      <td></td>\n",
       "      <td></td>\n",
       "      <td></td>\n",
       "      <td></td>\n",
       "      <td></td>\n",
       "      <td></td>\n",
       "      <td></td>\n",
       "      <td>1</td>\n",
       "      <td></td>\n",
       "    </tr>\n",
       "    <tr>\n",
       "      <th>sensory neuron</th>\n",
       "      <td></td>\n",
       "      <td></td>\n",
       "      <td></td>\n",
       "      <td></td>\n",
       "      <td></td>\n",
       "      <td></td>\n",
       "      <td></td>\n",
       "      <td></td>\n",
       "      <td>1</td>\n",
       "      <td></td>\n",
       "    </tr>\n",
       "    <tr>\n",
       "      <th>stromal cell</th>\n",
       "      <td></td>\n",
       "      <td></td>\n",
       "      <td></td>\n",
       "      <td></td>\n",
       "      <td></td>\n",
       "      <td></td>\n",
       "      <td></td>\n",
       "      <td></td>\n",
       "      <td></td>\n",
       "      <td>2</td>\n",
       "    </tr>\n",
       "  </tbody>\n",
       "</table>\n",
       "</div>"
      ],
      "text/plain": [
       "predicted cell type              GABAergic neuron cortical interneuron  \\\n",
       "actual cell type                                                         \n",
       "GABAergic neuron                               20                        \n",
       "cortical interneuron                                                     \n",
       "ependymal cell                                                           \n",
       "epithelial cell                                                          \n",
       "forebrain neuroblast                                                 2   \n",
       "glial cell                                      1                        \n",
       "glutamatergic neuron                           22                        \n",
       "inhibitory interneuron                                                   \n",
       "macrophage                                                               \n",
       "neural cell                                                              \n",
       "neural progenitor cell                         11                        \n",
       "neuron                                                                   \n",
       "oligodendrocyte                                                          \n",
       "peripheral nervous system neuron                                         \n",
       "sensory neuron                                                           \n",
       "stromal cell                                                             \n",
       "\n",
       "predicted cell type              epithelial cell forebrain neuroblast  \\\n",
       "actual cell type                                                        \n",
       "GABAergic neuron                                                        \n",
       "cortical interneuron                                                1   \n",
       "ependymal cell                                                          \n",
       "epithelial cell                                1                        \n",
       "forebrain neuroblast                                                3   \n",
       "glial cell                                                              \n",
       "glutamatergic neuron                                                    \n",
       "inhibitory interneuron                                                  \n",
       "macrophage                                                              \n",
       "neural cell                                                             \n",
       "neural progenitor cell                                                  \n",
       "neuron                                                                  \n",
       "oligodendrocyte                                                         \n",
       "peripheral nervous system neuron                                        \n",
       "sensory neuron                                                          \n",
       "stromal cell                                                            \n",
       "\n",
       "predicted cell type              inhibitory interneuron macrophage  \\\n",
       "actual cell type                                                     \n",
       "GABAergic neuron                                                     \n",
       "cortical interneuron                                  1              \n",
       "ependymal cell                                                       \n",
       "epithelial cell                                                      \n",
       "forebrain neuroblast                                                 \n",
       "glial cell                                                           \n",
       "glutamatergic neuron                                                 \n",
       "inhibitory interneuron                                5              \n",
       "macrophage                                                       6   \n",
       "neural cell                                                          \n",
       "neural progenitor cell                                               \n",
       "neuron                                                               \n",
       "oligodendrocyte                                                      \n",
       "peripheral nervous system neuron                                     \n",
       "sensory neuron                                                       \n",
       "stromal cell                                                         \n",
       "\n",
       "predicted cell type              neural cell neural progenitor cell neuron  \\\n",
       "actual cell type                                                             \n",
       "GABAergic neuron                                                             \n",
       "cortical interneuron                                                         \n",
       "ependymal cell                                                    1          \n",
       "epithelial cell                                                              \n",
       "forebrain neuroblast                                                         \n",
       "glial cell                                                                   \n",
       "glutamatergic neuron                                                         \n",
       "inhibitory interneuron                                                       \n",
       "macrophage                                                                   \n",
       "neural cell                               15                                 \n",
       "neural progenitor cell                                           15      3   \n",
       "neuron                                                            1     15   \n",
       "oligodendrocyte                                                          1   \n",
       "peripheral nervous system neuron                                         1   \n",
       "sensory neuron                                                           1   \n",
       "stromal cell                                                                 \n",
       "\n",
       "predicted cell type              stromal cell  \n",
       "actual cell type                               \n",
       "GABAergic neuron                               \n",
       "cortical interneuron                           \n",
       "ependymal cell                                 \n",
       "epithelial cell                                \n",
       "forebrain neuroblast                           \n",
       "glial cell                                     \n",
       "glutamatergic neuron                           \n",
       "inhibitory interneuron                         \n",
       "macrophage                                     \n",
       "neural cell                                    \n",
       "neural progenitor cell                         \n",
       "neuron                                         \n",
       "oligodendrocyte                                \n",
       "peripheral nervous system neuron               \n",
       "sensory neuron                                 \n",
       "stromal cell                                2  "
      ]
     },
     "execution_count": 10,
     "metadata": {},
     "output_type": "execute_result"
    }
   ],
   "source": [
    "import pandas as pd\n",
    "\n",
    "model.eval()\n",
    "model.to(device)\n",
    "outputs = model(X_batch.to(device))\n",
    "probabilities = torch.nn.functional.softmax(outputs, 1)\n",
    "predictions = torch.argmax(probabilities, axis=1)\n",
    "predicted_cell_types = cell_type_encoder.inverse_transform(predictions.cpu())\n",
    "\n",
    "cmp_df = pd.DataFrame({\n",
    "    \"actual cell type\": cell_type_encoder.inverse_transform(y_batch.ravel().numpy()),\n",
    "    \"predicted cell type\": predicted_cell_types,\n",
    "})\n",
    "right, wrong = (cmp_df['actual cell type'] == cmp_df['predicted cell type']).value_counts().values\n",
    "print('Accuracy: %.1f%% (%d correct, %d incorrect)' % (100 * right / len(cmp_df), right, wrong))\n",
    "pd.crosstab(cmp_df['actual cell type'], cmp_df['predicted cell type']).replace(0, '')"
   ]
  },
  {
   "cell_type": "markdown",
   "source": [
    "\tCommand being timed: \"papermill -p tissue embryo -p cpu True benchmark.ipynb embryo/torch-cpu.ipynb\"\n",
    "\tUser time (seconds): 8487.77\n",
    "\tSystem time (seconds): 1093.20\n",
    "\tPercent of CPU this job got: 1713%\n",
    "\tElapsed (wall clock) time (h:mm:ss or m:ss): 9:19.11\n",
    "\tAverage shared text size (kbytes): 0\n",
    "\tAverage unshared data size (kbytes): 0\n",
    "\tAverage stack size (kbytes): 0\n",
    "\tAverage total size (kbytes): 0\n",
    "\tMaximum resident set size (kbytes): 9398252\n",
    "\tAverage resident set size (kbytes): 0\n",
    "\tMajor (requiring I/O) page faults: 0\n",
    "\tMinor (reclaiming a frame) page faults: 133130689\n",
    "\tVoluntary context switches: 3043426\n",
    "\tInvoluntary context switches: 5394548\n",
    "\tSwaps: 0\n",
    "\tFile system inputs: 0\n",
    "\tFile system outputs: 1416\n",
    "\tSocket messages sent: 0\n",
    "\tSocket messages received: 0\n",
    "\tSignals delivered: 0\n",
    "\tPage size (bytes): 4096\n",
    "\tExit status: 0\n"
   ],
   "metadata": {}
  }
 ],
 "metadata": {
  "kernelspec": {
   "display_name": "Python 3 (ipykernel)",
   "language": "python",
   "name": "python3"
  },
  "language_info": {
   "codemirror_mode": {
    "name": "ipython",
    "version": 3
   },
   "file_extension": ".py",
   "mimetype": "text/x-python",
   "name": "python",
   "nbconvert_exporter": "python",
   "pygments_lexer": "ipython3",
   "version": "3.12.7"
  },
  "papermill": {
   "default_parameters": {},
   "duration": 558.27768,
   "end_time": "2024-12-05T01:53:04.057284",
   "environment_variables": {},
   "exception": null,
   "input_path": "benchmark.ipynb",
   "output_path": "embryo/torch-cpu.ipynb",
   "parameters": {
    "cpu": true,
    "tissue": "embryo"
   },
   "start_time": "2024-12-05T01:43:45.779604",
   "version": "2.6.0"
  }
 },
 "nbformat": 4,
 "nbformat_minor": 5
}