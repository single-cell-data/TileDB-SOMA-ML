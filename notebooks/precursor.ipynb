{
 "cells": [
  {
   "cell_type": "markdown",
   "metadata": {},
   "source": [
    "# Train an scVI model using Census data"
   ]
  },
  {
   "cell_type": "markdown",
   "metadata": {},
   "source": [
    "This notebook demonstrates a scalable approach to training an [scVI](https://docs.scvi-tools.org/en/latest/user_guide/models/scvi.html) model on Census data. The [scvi-tools](https://scvi-tools.org/) library is built around [PyTorch Lightning](https://lightning.ai/docs/pytorch/stable/). [TileDB-SOMA-ML](https://github.com/single-cell-data/TileDB-SOMA-ML) assists with streaming Census query results to PyTorch in batches, allowing for training datasets larger than available RAM."
   ]
  },
  {
   "cell_type": "markdown",
   "metadata": {},
   "source": [
    "## Contents\n",
    "\n",
    "1. Training the model\n",
    "2. Generate cell embeddings\n",
    "3. Analyzing the results"
   ]
  },
  {
   "cell_type": "markdown",
   "metadata": {},
   "source": [
    "## Training the model \n",
    "\n",
    "Let's start by importing the necessary dependencies."
   ]
  },
  {
   "cell_type": "code",
   "execution_count": 1,
   "metadata": {},
   "outputs": [
    {
     "name": "stdout",
     "output_type": "stream",
     "text": [
      "Stha2rt\n"
     ]
    }
   ],
   "source": [
    "print(\"Stha2rt\")"
   ]
  },
  {
   "cell_type": "code",
   "execution_count": 7,
   "metadata": {},
   "outputs": [
    {
     "name": "stdout",
     "output_type": "stream",
     "text": [
      "✅  Local SOMA written to /home/ec2-user/mm_pan_kidney_subset_soma\n"
     ]
    }
   ],
   "source": [
    "# build_subset.ipynb  (run once)\n",
    "import cellxgene_census as cxc\n",
    "from tiledbsoma.io import from_anndata                        \n",
    "from pathlib import Path\n",
    "from cellxgene_census import get_anndata \n",
    "import cellxgene_census.experimental\n",
    "\n",
    "# --- parameters ------------------------------------------------------------\n",
    "CENSUS_VERSION = \"2025-01-30\"\n",
    "OBS_FILTER = (\n",
    "    \"is_primary_data == True and \"\n",
    "    \"tissue_general in ['pancreas', 'kidney'] and \"\n",
    "    \"nnz >= 300\"\n",
    ")\n",
    "SUBSET_URI = Path(\"/home/ec2-user/mm_pan_kidney_subset_soma\").as_posix()\n",
    "# ---------------------------------------------------------------------------\n",
    "\n",
    "with cxc.open_soma(census_version=CENSUS_VERSION) as census:          # remote read\n",
    "    hvgs_df = cellxgene_census.experimental.pp.get_highly_variable_genes(\n",
    "        census=census,\n",
    "        organism=\"mus_musculus\",\n",
    "        obs_value_filter=OBS_FILTER,\n",
    "        n_top_genes=8000,\n",
    "    )\n",
    "    hvg_idx = hvgs_df.query(\"highly_variable\").index          # Pandas Index\n",
    "\n",
    "    adata = get_anndata(\n",
    "        census=census,\n",
    "        organism=\"mus_musculus\",\n",
    "        measurement_name=\"RNA\",\n",
    "        obs_value_filter=OBS_FILTER,\n",
    "        # var_coords={\"coords\": list(hvg_idx)},   # ← server-side gene subset\n",
    "        X_name=\"raw\",\n",
    "    )\n",
    "\n",
    "# (Optional) keep only top 8 k highly-variable genes\n",
    "\n",
    "from_anndata(SUBSET_URI, anndata=adata, measurement_name=\"RNA\")       # writes ≈ 1 GB\n",
    "print(\"✅  Local SOMA written to\", SUBSET_URI)\n"
   ]
  },
  {
   "cell_type": "markdown",
   "metadata": {},
   "source": [
    "We'll now prepare the necessary parameters for running a training pass of the model.\n",
    "\n",
    "For this notebook, we'll use a stable version of the Census:"
   ]
  }
 ],
 "metadata": {
  "kernelspec": {
   "display_name": "Python 3 (ipykernel)",
   "language": "python",
   "name": "python3"
  },
  "language_info": {
   "codemirror_mode": {
    "name": "ipython",
    "version": 3
   },
   "file_extension": ".py",
   "mimetype": "text/x-python",
   "name": "python",
   "nbconvert_exporter": "python",
   "pygments_lexer": "ipython3",
   "version": "3.12.10"
  }
 },
 "nbformat": 4,
 "nbformat_minor": 4
}
