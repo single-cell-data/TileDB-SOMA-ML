{
 "cells": [
  {
   "cell_type": "code",
   "execution_count": 1,
   "id": "f8ea122f-8d3f-40c4-b05e-29188cf97f36",
   "metadata": {},
   "outputs": [],
   "source": [
    "import cellxgene_census\n",
    "from tiledbsoma import AxisQuery\n",
    "\n",
    "from tiledbsoma_ml import ExperimentDataset\n",
    "from tiledbsoma_ml.x_locator import XLocator\n",
    "from tiledbsoma_ml._query_ids import QueryIDs, Chunks\n",
    "from tiledbsoma_ml._io_batch_iterable import IOBatchIterable\n",
    "from tiledbsoma_ml._mini_batch_iterable import MiniBatchIterable"
   ]
  },
  {
   "cell_type": "code",
   "execution_count": 2,
   "id": "31934d0b-4060-4842-83af-947589ea5a08",
   "metadata": {},
   "outputs": [
    {
     "data": {
      "text/plain": [
       "<Collection 's3://cellxgene-census-public-us-west-2/cell-census/2025-01-30/soma/' (open for 'r') (3 items)\n",
       "    'census_data': 's3://cellxgene-census-public-us-west-2/cell-census/2025-01-30/soma/census_data' (unopened)\n",
       "    'census_info': 's3://cellxgene-census-public-us-west-2/cell-census/2025-01-30/soma/census_info' (unopened)\n",
       "    'census_spatial_sequencing': 's3://cellxgene-census-public-us-west-2/cell-census/2025-01-30/soma/census_spatial_sequencing' (unopened)>"
      ]
     },
     "execution_count": 2,
     "metadata": {},
     "output_type": "execute_result"
    }
   ],
   "source": [
    "c = cellxgene_census.open_soma(census_version='2025-01-30')\n",
    "c"
   ]
  },
  {
   "cell_type": "code",
   "execution_count": 3,
   "id": "e9ee6a06-acd0-4be8-9bfc-db98033085c7",
   "metadata": {},
   "outputs": [
    {
     "data": {
      "text/plain": [
       "<SparseNDArray 's3://cellxgene-census-public-us-west-2/cell-census/2025-01-30/soma/census_data/homo_sapiens/ms/RNA/X/raw' (open for 'r')>"
      ]
     },
     "execution_count": 3,
     "metadata": {},
     "output_type": "execute_result"
    }
   ],
   "source": [
    "X = c['census_data']['homo_sapiens'].ms['RNA'].X['raw']\n",
    "X"
   ]
  },
  {
   "cell_type": "code",
   "execution_count": 4,
   "id": "f022e186-d804-4ceb-b4eb-9919183056bf",
   "metadata": {},
   "outputs": [
    {
     "data": {
      "text/plain": [
       "<Experiment 's3://cellxgene-census-public-us-west-2/cell-census/2025-01-30/soma/census_data/mus_musculus' (open for 'r') (2 items)\n",
       "    'ms': 's3://cellxgene-census-public-us-west-2/cell-census/2025-01-30/soma/census_data/mus_musculus/ms' (unopened)\n",
       "    'obs': 's3://cellxgene-census-public-us-west-2/cell-census/2025-01-30/soma/census_data/mus_musculus/obs' (unopened)>"
      ]
     },
     "execution_count": 4,
     "metadata": {},
     "output_type": "execute_result"
    }
   ],
   "source": [
    "#exp = c['census_data']['homo_sapiens']\n",
    "exp = c['census_data']['mus_musculus']\n",
    "exp"
   ]
  },
  {
   "cell_type": "code",
   "execution_count": 5,
   "id": "6f006f9c-d2d5-4d6e-a06c-c953c64ea08c",
   "metadata": {},
   "outputs": [
    {
     "name": "stdout",
     "output_type": "stream",
     "text": [
      "CPU times: user 4.48 s, sys: 1.5 s, total: 5.98 s\n",
      "Wall time: 1.31 s\n"
     ]
    },
    {
     "data": {
      "text/plain": [
       "137250"
      ]
     },
     "execution_count": 5,
     "metadata": {},
     "output_type": "execute_result"
    }
   ],
   "source": [
    "%%time\n",
    "value_filter = 'is_primary_data == True and tissue_general in [\"spleen\", \"kidney\"] and nnz > 1000'\n",
    "query = exp.axis_query(\n",
    "    'RNA',\n",
    "    obs_query=AxisQuery(value_filter=value_filter),\n",
    ")\n",
    "query.n_obs"
   ]
  },
  {
   "cell_type": "code",
   "execution_count": 6,
   "id": "fdc23a9a-1bbb-489b-9b32-0c94eeea7a0e",
   "metadata": {},
   "outputs": [
    {
     "data": {
      "text/plain": [
       "1931"
      ]
     },
     "execution_count": 6,
     "metadata": {},
     "output_type": "execute_result"
    }
   ],
   "source": [
    "ds0 = ExperimentDataset(query, 'raw', batch_size=1024)\n",
    "ds, dt = ds0.random_split(.9, .1, seed=111)\n",
    "chunks = ds.shuffle_chunks\n",
    "len(chunks)"
   ]
  },
  {
   "cell_type": "code",
   "execution_count": 7,
   "id": "687d057a-f44c-4d6b-a9e8-b0e9749d7395",
   "metadata": {},
   "outputs": [],
   "source": [
    "query_ids = ds.partitioned_query_ids\n",
    "chunks = ds.shuffle_chunks"
   ]
  },
  {
   "cell_type": "code",
   "execution_count": 8,
   "id": "3e9b498d-4843-40bb-9029-174d019b221a",
   "metadata": {},
   "outputs": [
    {
     "name": "stdout",
     "output_type": "stream",
     "text": [
      "CPU times: user 1min 26s, sys: 21.9 s, total: 1min 48s\n",
      "Wall time: 25.1 s\n"
     ]
    }
   ],
   "source": [
    "%%time\n",
    "with ds.x_locator.open() as (X, obs):\n",
    "    io_batch_iter = IOBatchIterable(\n",
    "        chunks=chunks,\n",
    "        io_batch_size=ds.io_batch_size,\n",
    "        obs=obs,\n",
    "        var_joinids=query_ids.var_joinids,\n",
    "        X=X,\n",
    "        obs_column_names=ds.obs_column_names,\n",
    "        seed=111,\n",
    "    )\n",
    "    io_batches = list(io_batch_iter)"
   ]
  },
  {
   "cell_type": "code",
   "execution_count": 9,
   "id": "7cbba80e-0be9-465b-a051-c15746a3a29d",
   "metadata": {},
   "outputs": [
    {
     "name": "stdout",
     "output_type": "stream",
     "text": [
      "IO batch 0: 65,536 x 52,483, 141,691,631 nnz\n",
      "IO batch 1: 57,989 x 52,483, 125,036,984 nnz\n",
      "Total: 123,525 x 52,483, 266,728,615 nnz\n"
     ]
    }
   ],
   "source": [
    "rows = nnzs = 0\n",
    "for i, (X, obs) in enumerate(io_batches):\n",
    "    R, C  = X.shape\n",
    "    nnz = X.nnz\n",
    "    rows += R\n",
    "    nnzs += nnz\n",
    "    print(f'IO batch {i}: {R:,} x {C:,}, {X.nnz:,} nnz')\n",
    "print(f'Total: {rows:,} x {C:,}, {nnzs:,} nnz')"
   ]
  },
  {
   "cell_type": "code",
   "execution_count": 10,
   "id": "f5123406-ac6f-4ef7-8bc8-33bc3fa90e04",
   "metadata": {},
   "outputs": [
    {
     "name": "stdout",
     "output_type": "stream",
     "text": [
      "CPU times: user 3.97 s, sys: 18.1 s, total: 22.1 s\n",
      "Wall time: 1.13 s\n"
     ]
    },
    {
     "data": {
      "text/plain": [
       "121"
      ]
     },
     "execution_count": 10,
     "metadata": {},
     "output_type": "execute_result"
    }
   ],
   "source": [
    "%%time\n",
    "mini_batch_iter = MiniBatchIterable(\n",
    "    io_batch_iter=iter(io_batches),\n",
    "    batch_size=ds.batch_size,\n",
    ")\n",
    "mini_batches = list(mini_batch_iter)\n",
    "len(mini_batches)"
   ]
  }
 ],
 "metadata": {
  "kernelspec": {
   "display_name": "Python 3.12.7",
   "language": "python",
   "name": "python3"
  },
  "language_info": {
   "codemirror_mode": {
    "name": "ipython",
    "version": 3
   },
   "file_extension": ".py",
   "mimetype": "text/x-python",
   "name": "python",
   "nbconvert_exporter": "python",
   "pygments_lexer": "ipython3",
   "version": "3.12.7"
  }
 },
 "nbformat": 4,
 "nbformat_minor": 5
}
