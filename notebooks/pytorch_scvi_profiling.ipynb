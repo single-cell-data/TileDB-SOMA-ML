{
 "cells": [
  {
   "cell_type": "markdown",
   "metadata": {},
   "source": [
    "# Train an scVI model using Census data"
   ]
  },
  {
   "cell_type": "markdown",
   "metadata": {},
   "source": [
    "*Authors: [Emanuele Bezzi], [Martin Kim], [Mike Lin]*\n",
    "\n",
    "This notebook demonstrates a scalable approach to training an [scVI](https://docs.scvi-tools.org/en/latest/user_guide/models/scvi.html) model on Census data. The [scvi-tools](https://scvi-tools.org/) library is built around [PyTorch Lightning](https://lightning.ai/docs/pytorch/stable/). [TileDB-SOMA-ML](https://github.com/single-cell-data/TileDB-SOMA-ML) assists with streaming Census query results to PyTorch in batches, allowing for training datasets larger than available RAM.\n",
    "\n",
    "[Emanuele Bezzi]: https://github.com/ebezzi\n",
    "[Martin Kim]: https://github.com/martinkim0\n",
    "[Mike Lin]: https://github.com/mlin\n"
   ]
  },
  {
   "cell_type": "markdown",
   "metadata": {},
   "source": [
    "## Contents\n",
    "\n",
    "1. Training the model\n",
    "2. Generate cell embeddings\n",
    "3. Analyzing the results"
   ]
  },
  {
   "cell_type": "markdown",
   "metadata": {},
   "source": [
    "## Training the model \n",
    "\n",
    "Let's start by importing the necessary dependencies."
   ]
  },
  {
   "cell_type": "code",
   "metadata": {
    "jupyter": {
     "is_executing": true
    }
   },
   "source": [
    "import warnings\n",
    "from typing import Any, Dict, List\n",
    "\n",
    "import cellxgene_census\n",
    "import numpy as np\n",
    "import pandas as pd\n",
    "import scanpy as sc\n",
    "import scvi\n",
    "import tiledbsoma as soma\n",
    "from tiledbsoma_ml import SCVIDataModule\n",
    "import torch\n",
    "from cellxgene_census.experimental.pp import highly_variable_genes\n",
    "from lightning import LightningDataModule\n",
    "from sklearn.preprocessing import LabelEncoder\n",
    "from torch.utils.data import DataLoader\n",
    "\n",
    "warnings.filterwarnings(\"ignore\")"
   ],
   "outputs": [],
   "execution_count": null
  },
  {
   "cell_type": "markdown",
   "metadata": {},
   "source": [
    "We'll now prepare the necessary parameters for running a training pass of the model.\n",
    "\n",
    "For this notebook, we'll use a stable version of the Census:"
   ]
  },
  {
   "cell_type": "code",
   "metadata": {
    "jupyter": {
     "is_executing": true
    }
   },
   "source": [
    "census = cellxgene_census.open_soma(census_version=\"2025-01-30\")\n",
    "census"
   ],
   "outputs": [],
   "execution_count": null
  },
  {
   "cell_type": "markdown",
   "metadata": {},
   "source": [
    "We'll also do two types of filtering.\n",
    "\n",
    "For **cells**, we will apply a filter to only select primary cells, with over 1,000 expressed genes (`nnz > 1000`). For notebook demonstration purposes, we will also apply a tissue filtering so that the training can happen on a laptop. The same approach can be used on datasets much larger than available RAM. (A GPU is recommended, though.)\n",
    "\n",
    "For **genes**, we will apply a filter so that only the top 8000 highly variable genes (HVG) are included in the training. This is a commonly used dimensionality reduction approach and is recommended on production models as well.\n",
    "\n",
    "Let's define a few parameters:"
   ]
  },
  {
   "cell_type": "code",
   "metadata": {
    "jupyter": {
     "is_executing": true
    }
   },
   "source": [
    "experiment_name = \"mus_musculus\"\n",
    "obs_value_filter = 'is_primary_data == True and tissue_general in [\"spleen\", \"kidney\"] and nnz > 1000'\n",
    "top_n_hvg = 8000\n",
    "hvg_batch = [\"assay\", \"suspension_type\"]"
   ],
   "outputs": [],
   "execution_count": null
  },
  {
   "cell_type": "markdown",
   "metadata": {},
   "source": [
    "For HVG, we can use the `highly_variable_genes` function provided in `cellxgene_census`, which can compute HVGs in constant memory:"
   ]
  },
  {
   "cell_type": "code",
   "metadata": {},
   "source": [
    "hvgs_df = highly_variable_genes(\n",
    "    census[\"census_data\"][experiment_name].axis_query(\n",
    "        measurement_name=\"RNA\", obs_query=soma.AxisQuery(value_filter=obs_value_filter)\n",
    "    ),\n",
    "    n_top_genes=top_n_hvg,\n",
    "    batch_key=hvg_batch,\n",
    ")\n",
    "hv = hvgs_df.highly_variable\n",
    "hv_idx = hv[hv].index"
   ],
   "outputs": [],
   "execution_count": null
  },
  {
   "cell_type": "code",
   "metadata": {},
   "source": [
    "hvgs_df"
   ],
   "outputs": [],
   "execution_count": null
  },
  {
   "cell_type": "markdown",
   "metadata": {},
   "source": [
    "We will now introduce a helper class `SCVIDataModule` to connect TileDB-SOMA-ML with PyTorch Lightning. It subclasses [`LightningDataModule`](https://lightning.ai/docs/pytorch/stable/data/datamodule.html) and:\n",
    "\n",
    "1. Uses TileDB-SOMA-ML to prepare a DataLoader for the results of a SOMA [`ExperimentAxisQuery`](https://tiledbsoma.readthedocs.io/en/1.15.0/python-tiledbsoma-experimentaxisquery.html) on the Census.\n",
    "1. Derives each cell's scVI batch label as a tuple of obs attributes: `dataset_id`, `assay`, `suspension_type`, `donor_id`.\n",
    "    * *Don't confuse each cell's label for scVI \"batch\" integration with a training data \"batch\" generated by the DataLoader.*\n",
    "1. Converts the RNA counts and batch labels to a dict of tensors for each training data batch, as scVI expects."
   ]
  },
  {
   "cell_type": "code",
   "metadata": {},
   "source": [
    "hvg_query = census[\"census_data\"][experiment_name].axis_query(\n",
    "    measurement_name=\"RNA\",\n",
    "    obs_query=soma.AxisQuery(value_filter=obs_value_filter),\n",
    "    var_query=soma.AxisQuery(coords=(list(hv_idx),)),\n",
    ")\n",
    "\n",
    "datamodule = SCVIDataModule(\n",
    "    hvg_query,\n",
    "    layer_name=\"raw\",\n",
    "    batch_size=1024,\n",
    "    shuffle=True,\n",
    "    seed=42,\n",
    "    dataloader_kwargs={\n",
    "        \"num_workers\": 4,\n",
    "        \"pin_memory\": True,\n",
    "        \"persistent_workers\": True,  # Keep workers alive between epochs\n",
    "        \"prefetch_factor\": 3,  # Prefetch more batches\n",
    "    },\n",
    "    use_eager_fetch=2,  # More aggressive prefetching\n",
    ")\n",
    "\n",
    "(datamodule.n_obs, datamodule.n_vars, datamodule.n_batch)"
   ],
   "outputs": [],
   "execution_count": null
  },
  {
   "cell_type": "markdown",
   "metadata": {},
   "source": [
    "Most parameters to `SCVIDataModule` are passed through to the [`tiledbsoma_ml.ExperimentDataset`](https://single-cell-data.github.io/TileDB-SOMA-ML/#tiledbsoma_ml.ExperimentDataset) initializer; see that documentation to understand how it can be tuned.\n",
    "\n",
    "In particular, here are some parameters of interest:\n",
    "\n",
    "* `shuffle`: shuffles the result cell order, which is often advisable for model training.\n",
    "* `batch_size`: controls the size (number of cells) in each training data batch, in turn controlling memory usage.\n",
    "* `dataloader_kwargs`: [`DataLoader`](https://pytorch.org/docs/stable/data.html#torch.utils.data.DataLoader) tuning, for example controlling parallelization."
   ]
  },
  {
   "cell_type": "markdown",
   "metadata": {},
   "source": [
    "We can now create the scVI model object:"
   ]
  },
  {
   "cell_type": "code",
   "metadata": {},
   "source": [
    "n_layers = 1\n",
    "n_latent = 50\n",
    "\n",
    "model = scvi.model.SCVI(n_layers=n_layers, n_latent=n_latent, gene_likelihood=\"nb\", encode_covariates=False)"
   ],
   "outputs": [],
   "execution_count": null
  },
  {
   "cell_type": "markdown",
   "metadata": {},
   "source": [
    "Then, we can invoke the `.train` method which will start the training loop. For this demonstration, we'll only do a single epoch, but this should likely be increased for a production model. The scVI models hosted in CELLxGENE have been trained for 100 epochs."
   ]
  },
  {
   "metadata": {},
   "cell_type": "code",
   "source": [
    "import os\n",
    "from pytorch_lightning.profilers import PyTorchProfiler\n",
    "\n",
    "# Create directories for profiling output\n",
    "os.makedirs(\"./cursor/prof\", exist_ok=True)\n",
    "\n",
    "# Set up profiler\n",
    "profiler = PyTorchProfiler(\n",
    "    dirpath=\"./cursor/prof/\",\n",
    "    filename=\"scvi_profile\",\n",
    "     schedule=torch.profiler.schedule(\n",
    "        wait=2,      # Wait for 2 steps to let training stabilize\n",
    "        warmup=2,    # Warm up for 2 steps\n",
    "        active=10,   # Actively profile for 10 steps\n",
    "        repeat=2     # Do this cycle twice to get more profiling data\n",
    "    ),\n",
    "    on_trace_ready=torch.profiler.tensorboard_trace_handler(\"./cursor/prof/cursor-v3\"),\n",
    "    record_shapes=True,\n",
    "    profile_memory=True,\n",
    "    with_stack=True\n",
    ")"
   ],
   "outputs": [],
   "execution_count": null
  },
  {
   "cell_type": "code",
   "metadata": {},
   "source": [
    "model.train(\n",
    "    datamodule=datamodule,\n",
    "    max_epochs=6,\n",
    "    batch_size=1024,\n",
    "    train_size=0.9,\n",
    "    early_stopping=False,\n",
    "    profiler=profiler,\n",
    "    accelerator=\"gpu\" if torch.cuda.is_available() else \"cpu\",\n",
    "    devices=1,\n",
    "    precision=\"16-mixed\",  # Use mixed precision training for better performance\n",
    "    gradient_clip_val=1.0,  # Prevent exploding gradients\n",
    "    accumulate_grad_batches=2,  # Accumulate gradients for better stability\n",
    "    callbacks=[\n",
    "        datamodule.get_cuda_prefetch_callback(),  # Add CUDA prefetch callback\n",
    "        torch.optim.lr_scheduler.ReduceLROnPlateau(  # Add learning rate scheduler\n",
    "            monitor=\"train_loss\",\n",
    "            factor=0.5,\n",
    "            patience=2,\n",
    "            verbose=True\n",
    "        )\n",
    "    ]\n",
    ")\n"
   ],
   "outputs": [],
   "execution_count": null
  },
  {
   "cell_type": "markdown",
   "metadata": {},
   "source": [
    "We can now save the trained model. As of the current writing, scvi-tools doesn't support saving a model that wasn't generated through an AnnData loader, so we'll use some custom code:"
   ]
  },
  {
   "cell_type": "code",
   "metadata": {},
   "source": [
    "model_state_dict = model.module.state_dict()\n",
    "var_names = hv_idx.to_numpy()\n",
    "user_attributes = model._get_user_attributes()\n",
    "user_attributes = {a[0]: a[1] for a in user_attributes if a[0][-1] == \"_\"}\n",
    "\n",
    "user_attributes.update(\n",
    "    {\n",
    "        \"n_batch\": datamodule.n_batch,\n",
    "        \"n_extra_categorical_covs\": 0,\n",
    "        \"n_extra_continuous_covs\": 0,\n",
    "        \"n_labels\": 1,\n",
    "        \"n_vars\": datamodule.n_vars,\n",
    "        \"batch_labels\": datamodule.batch_labels,\n",
    "    }\n",
    ")\n",
    "\n",
    "with open(\"model.pt\", \"wb\") as f:\n",
    "    torch.save(\n",
    "        {\n",
    "            \"model_state_dict\": model_state_dict,\n",
    "            \"var_names\": var_names,\n",
    "            \"attr_dict\": user_attributes,\n",
    "        },\n",
    "        f,\n",
    "\n",
    "    )"
   ],
   "outputs": [],
   "execution_count": null
  },
  {
   "cell_type": "markdown",
   "metadata": {},
   "source": [
    "We will now load the model back and use it to generate cell embeddings (the latent space), which can then be used for further analysis. Loading the model similarly involves some custom code."
   ]
  },
  {
   "cell_type": "code",
   "metadata": {},
   "source": [
    "with open(\"model.pt\", \"rb\") as f:\n",
    "    torch_model = torch.load(f, weights_only=False)\n",
    "\n",
    "    adict = torch_model[\"attr_dict\"]\n",
    "    params = adict[\"init_params_\"][\"non_kwargs\"]\n",
    "\n",
    "    n_batch = adict[\"n_batch\"]\n",
    "    n_extra_categorical_covs = adict[\"n_extra_categorical_covs\"]\n",
    "    n_extra_continuous_covs = adict[\"n_extra_continuous_covs\"]\n",
    "    n_labels = adict[\"n_labels\"]\n",
    "    n_vars = adict[\"n_vars\"]\n",
    "\n",
    "    latent_distribution = params[\"latent_distribution\"]\n",
    "    dispersion = params[\"dispersion\"]\n",
    "    n_hidden = params[\"n_hidden\"]\n",
    "    dropout_rate = params[\"dropout_rate\"]\n",
    "    gene_likelihood = params[\"gene_likelihood\"]\n",
    "\n",
    "    model = scvi.model.SCVI(\n",
    "        n_layers=params[\"n_layers\"],\n",
    "        n_latent=params[\"n_latent\"],\n",
    "        gene_likelihood=params[\"gene_likelihood\"],\n",
    "        encode_covariates=False,\n",
    "    )\n",
    "\n",
    "    module = model._module_cls(\n",
    "        n_input=n_vars,\n",
    "        n_batch=n_batch,\n",
    "        n_labels=n_labels,\n",
    "        n_continuous_cov=n_extra_continuous_covs,\n",
    "        n_cats_per_cov=None,\n",
    "        n_hidden=n_hidden,\n",
    "        n_latent=n_latent,\n",
    "        n_layers=n_layers,\n",
    "        dropout_rate=dropout_rate,\n",
    "        dispersion=dispersion,\n",
    "        gene_likelihood=gene_likelihood,\n",
    "        latent_distribution=latent_distribution,\n",
    "    )\n",
    "    model.module = module\n",
    "\n",
    "    model.module.load_state_dict(torch_model[\"model_state_dict\"])\n",
    "\n",
    "    device = torch.device(\"cuda:0\" if torch.cuda.is_available() else \"cpu\")\n",
    "\n",
    "    model.to_device(device)\n",
    "    model.module.eval()\n",
    "    model.is_trained = True"
   ],
   "outputs": [],
   "execution_count": null
  },
  {
   "cell_type": "markdown",
   "metadata": {},
   "source": [
    "## Generate cell embeddings"
   ]
  },
  {
   "cell_type": "markdown",
   "metadata": {},
   "source": [
    "We will now generate the cell embeddings for this model, using the `get_latent_representation` function available in scvi-tools. \n",
    "\n",
    "We can use another instance of the `SCVIDataModule` for the forward pass, so we don't need to load the whole dataset in memory. This will have shuffling disabled to make it easier to join the embeddings later. We also want to restore the list of scVI batch labels from the training data, ensuring our forward pass will map batch labels to tensors in the expected way (although this specific example would work regardless, since it reuses the same query)."
   ]
  },
  {
   "cell_type": "code",
   "metadata": {},
   "source": [
    "inference_datamodule = SCVIDataModule(\n",
    "    hvg_query,\n",
    "    layer_name=\"raw\",\n",
    "    batch_labels=adict[\"batch_labels\"],\n",
    "    batch_size=1024,\n",
    "    shuffle=False,\n",
    "    dataloader_kwargs={\"num_workers\": 0, \"persistent_workers\": False},\n",
    ")"
   ],
   "outputs": [],
   "execution_count": null
  },
  {
   "cell_type": "markdown",
   "metadata": {},
   "source": [
    "To feed the data to `get_latent_representation`, we operate `inference_datamodule` as PyTorch Lightning would during training:"
   ]
  },
  {
   "cell_type": "code",
   "metadata": {},
   "source": [
    "inference_datamodule.setup()\n",
    "inference_dataloader = (\n",
    "    inference_datamodule.on_before_batch_transfer(batch, None) for batch in inference_datamodule.train_dataloader()\n",
    ")\n",
    "latent = model.get_latent_representation(dataloader=inference_dataloader)\n",
    "latent.shape"
   ],
   "outputs": [],
   "execution_count": null
  },
  {
   "cell_type": "markdown",
   "metadata": {},
   "source": [
    "We successfully trained the model and generated embeddings using limited memory. Even on the full Census, this has been tested to run with less than 30G of memory."
   ]
  },
  {
   "cell_type": "markdown",
   "metadata": {},
   "source": [
    "## Analyzing the results\n",
    "\n",
    "We will now take a look at the UMAP for the generated embedding. Note that this model was only trained for one epoch (for demo purposes), so we don't expect the UMAP to show significant integration patterns, but it is nonetheless a good way to check the overall health of the generated embedding.\n",
    "\n",
    "In order to do this, we'll use `scanpy` which accepts an AnnData object, so we'll generate one using the `get_anndata` utility function:"
   ]
  },
  {
   "cell_type": "code",
   "metadata": {},
   "source": [
    "adata = cellxgene_census.get_anndata(\n",
    "    census,\n",
    "    organism=experiment_name,\n",
    "    obs_value_filter=obs_value_filter,\n",
    ")"
   ],
   "outputs": [],
   "execution_count": null
  },
  {
   "cell_type": "markdown",
   "metadata": {},
   "source": [
    "Add the generated embedding (stored in `latent`) in the obsm slot of the AnnData object:"
   ]
  },
  {
   "cell_type": "code",
   "metadata": {},
   "source": [
    "# verify cell order:\n",
    "assert np.array_equal(np.array(adata.obs[\"soma_joinid\"]), inference_datamodule.train_dataset.query_ids.obs_joinids)\n",
    "\n",
    "adata.obsm[\"scvi\"] = latent"
   ],
   "outputs": [],
   "execution_count": null
  },
  {
   "cell_type": "markdown",
   "metadata": {},
   "source": [
    "\n",
    "Remove the unused categories of the columns we want to plot."
   ]
  },
  {
   "cell_type": "code",
   "metadata": {},
   "source": [
    "adata.obs['dataset_id'] = adata.obs['dataset_id'].cat.remove_unused_categories()\n",
    "adata.obs['cell_type'] = adata.obs['cell_type'].cat.remove_unused_categories()"
   ],
   "outputs": [],
   "execution_count": null
  },
  {
   "cell_type": "markdown",
   "metadata": {},
   "source": [
    "We can now generate the neighbors and the UMAP."
   ]
  },
  {
   "cell_type": "code",
   "metadata": {},
   "source": [
    "sc.pp.neighbors(adata, use_rep=\"scvi\", key_added=\"scvi\")\n",
    "sc.tl.umap(adata, neighbors_key=\"scvi\")\n",
    "sc.pl.umap(adata, color=\"dataset_id\", title=\"SCVI\")"
   ],
   "outputs": [],
   "execution_count": null
  },
  {
   "cell_type": "code",
   "metadata": {},
   "source": [
    "sc.pl.umap(adata, color=\"tissue_general\", title=\"SCVI\")"
   ],
   "outputs": [],
   "execution_count": null
  },
  {
   "cell_type": "code",
   "metadata": {},
   "source": [
    "sc.pl.umap(adata, color=\"cell_type\", title=\"SCVI\")"
   ],
   "outputs": [],
   "execution_count": null
  }
 ],
 "metadata": {
  "kernelspec": {
   "display_name": "Python 3 (ipykernel)",
   "language": "python",
   "name": "python3"
  },
  "language_info": {
   "codemirror_mode": {
    "name": "ipython",
    "version": 3
   },
   "file_extension": ".py",
   "mimetype": "text/x-python",
   "name": "python",
   "nbconvert_exporter": "python",
   "pygments_lexer": "ipython3",
   "version": "3.12.7"
  }
 },
 "nbformat": 4,
 "nbformat_minor": 4
}
