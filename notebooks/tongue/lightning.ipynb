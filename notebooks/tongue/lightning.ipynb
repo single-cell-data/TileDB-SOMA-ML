{
 "cells": [
  {
   "cell_type": "markdown",
   "id": "b3f8f326",
   "metadata": {
    "editable": true,
    "papermill": {
     "duration": 0.002903,
     "end_time": "2024-12-04T19:38:44.835197",
     "exception": false,
     "start_time": "2024-12-04T19:38:44.832294",
     "status": "completed"
    },
    "slideshow": {
     "slide_type": ""
    },
    "tags": []
   },
   "source": [
    "Papermill params:"
   ]
  },
  {
   "cell_type": "code",
   "execution_count": 1,
   "id": "392841ad",
   "metadata": {
    "editable": true,
    "execution": {
     "iopub.execute_input": "2024-12-04T19:38:44.842859Z",
     "iopub.status.busy": "2024-12-04T19:38:44.842570Z",
     "iopub.status.idle": "2024-12-04T19:38:44.846635Z",
     "shell.execute_reply": "2024-12-04T19:38:44.846125Z"
    },
    "papermill": {
     "duration": 0.009863,
     "end_time": "2024-12-04T19:38:44.847800",
     "exception": false,
     "start_time": "2024-12-04T19:38:44.837937",
     "status": "completed"
    },
    "slideshow": {
     "slide_type": ""
    },
    "tags": [
     "parameters"
    ]
   },
   "outputs": [],
   "source": [
    "workers = None\n",
    "lightning = False       # Use PyTorch Lightning\n",
    "tissue = \"tongue\"       # \"tissue_general\" obs filter\n",
    "is_primary_data = True  # Additional obs filter\n",
    "cpu = False             # Force CPU mode\n",
    "census_version = \"2024-07-01\"\n",
    "batch_size = 128\n",
    "shuffle = True\n",
    "learning_rate = 1e-5\n",
    "n_epochs = 20"
   ]
  },
  {
   "cell_type": "code",
   "execution_count": 2,
   "id": "da071212",
   "metadata": {
    "execution": {
     "iopub.execute_input": "2024-12-04T19:38:44.853077Z",
     "iopub.status.busy": "2024-12-04T19:38:44.852798Z",
     "iopub.status.idle": "2024-12-04T19:38:44.855686Z",
     "shell.execute_reply": "2024-12-04T19:38:44.855177Z"
    },
    "papermill": {
     "duration": 0.006804,
     "end_time": "2024-12-04T19:38:44.856861",
     "exception": false,
     "start_time": "2024-12-04T19:38:44.850057",
     "status": "completed"
    },
    "tags": [
     "injected-parameters"
    ]
   },
   "outputs": [],
   "source": [
    "# Parameters\n",
    "tissue = \"tongue\"\n",
    "lightning = True\n"
   ]
  },
  {
   "cell_type": "code",
   "execution_count": 3,
   "id": "d0ea0b64",
   "metadata": {
    "execution": {
     "iopub.execute_input": "2024-12-04T19:38:44.862354Z",
     "iopub.status.busy": "2024-12-04T19:38:44.862075Z",
     "iopub.status.idle": "2024-12-04T19:38:44.865470Z",
     "shell.execute_reply": "2024-12-04T19:38:44.864946Z"
    },
    "papermill": {
     "duration": 0.007513,
     "end_time": "2024-12-04T19:38:44.866564",
     "exception": false,
     "start_time": "2024-12-04T19:38:44.859051",
     "status": "completed"
    },
    "tags": []
   },
   "outputs": [],
   "source": [
    "def is_running_in_papermill():\n",
    "    import sys\n",
    "    return 'pm_config' in sys.modules or 'pm_config' in globals()\n",
    "\n",
    "is_papermill = is_running_in_papermill()\n",
    "if is_papermill:\n",
    "    print(\"Detected papermill run\")"
   ]
  },
  {
   "cell_type": "code",
   "execution_count": 4,
   "id": "4eb73ea0",
   "metadata": {
    "editable": true,
    "execution": {
     "iopub.execute_input": "2024-12-04T19:38:44.872185Z",
     "iopub.status.busy": "2024-12-04T19:38:44.871914Z",
     "iopub.status.idle": "2024-12-04T19:38:49.835815Z",
     "shell.execute_reply": "2024-12-04T19:38:49.835119Z"
    },
    "papermill": {
     "duration": 4.968144,
     "end_time": "2024-12-04T19:38:49.836949",
     "exception": false,
     "start_time": "2024-12-04T19:38:44.868805",
     "status": "completed"
    },
    "slideshow": {
     "slide_type": ""
    },
    "tags": []
   },
   "outputs": [
    {
     "name": "stderr",
     "output_type": "stream",
     "text": [
      "/home/ubuntu/.pyenv/versions/3.12.7/lib/python3.12/site-packages/torchdata/datapipes/__init__.py:18: UserWarning: \n",
      "################################################################################\n",
      "WARNING!\n",
      "The 'datapipes', 'dataloader2' modules are deprecated and will be removed in a\n",
      "future torchdata release! Please see https://github.com/pytorch/data/issues/1196\n",
      "to learn more and leave feedback.\n",
      "################################################################################\n",
      "\n",
      "  deprecation_warning()\n"
     ]
    },
    {
     "name": "stdout",
     "output_type": "stream",
     "text": [
      "15020 cells, 118 batches\n"
     ]
    }
   ],
   "source": [
    "import tiledbsoma as soma\n",
    "import torch\n",
    "from sklearn.preprocessing import LabelEncoder\n",
    "\n",
    "import tiledbsoma_ml as soma_ml\n",
    "\n",
    "CZI_Census_Homo_Sapiens_URL = f\"s3://cellxgene-census-public-us-west-2/cell-census/{census_version}/soma/census_data/homo_sapiens/\"\n",
    "\n",
    "experiment = soma.open(\n",
    "    CZI_Census_Homo_Sapiens_URL,\n",
    "    context=soma.SOMATileDBContext(tiledb_config={\"vfs.s3.region\": \"us-west-2\"}),\n",
    ")\n",
    "obs_value_filter = f\"tissue_general == '{tissue}'\"\n",
    "if is_primary_data:\n",
    "    obs_value_filter += \" and is_primary_data == True\"\n",
    "\n",
    "iter_cls = soma_ml.ExperimentAxisQueryIterDataPipe if workers is None and not lightning else soma_ml.ExperimentAxisQueryIterableDataset\n",
    "\n",
    "with experiment.axis_query(\n",
    "    measurement_name=\"RNA\", obs_query=soma.AxisQuery(value_filter=obs_value_filter)\n",
    ") as query:\n",
    "    obs_df = query.obs(column_names=[\"cell_type\"]).concat().to_pandas()\n",
    "    cell_type_encoder = LabelEncoder().fit(obs_df[\"cell_type\"].unique())\n",
    "\n",
    "    experiment_dataset = iter_cls(\n",
    "        query,\n",
    "        X_name=\"raw\",\n",
    "        obs_column_names=[\"cell_type\"],\n",
    "        batch_size=batch_size,\n",
    "        shuffle=shuffle,\n",
    "    )\n",
    "\n",
    "print(f'{len(obs_df)} cells, {len(experiment_dataset)} batches')"
   ]
  },
  {
   "cell_type": "code",
   "execution_count": 5,
   "id": "42476de7",
   "metadata": {
    "editable": true,
    "execution": {
     "iopub.execute_input": "2024-12-04T19:38:49.843805Z",
     "iopub.status.busy": "2024-12-04T19:38:49.843162Z",
     "iopub.status.idle": "2024-12-04T19:38:49.876681Z",
     "shell.execute_reply": "2024-12-04T19:38:49.876106Z"
    },
    "papermill": {
     "duration": 0.037785,
     "end_time": "2024-12-04T19:38:49.877625",
     "exception": false,
     "start_time": "2024-12-04T19:38:49.839840",
     "status": "completed"
    },
    "slideshow": {
     "slide_type": ""
    },
    "tags": []
   },
   "outputs": [],
   "source": [
    "# PyTorch\n",
    "class LogisticRegression(torch.nn.Module):\n",
    "    def __init__(self, input_dim, output_dim):\n",
    "        super(LogisticRegression, self).__init__()  # noqa: UP008\n",
    "        self.linear = torch.nn.Linear(input_dim, output_dim)\n",
    "\n",
    "    def forward(self, x):\n",
    "        outputs = torch.sigmoid(self.linear(x))\n",
    "        return outputs\n",
    "    \n",
    "\n",
    "def train_epoch(model, train_dataloader, loss_fn, optimizer, device):\n",
    "    model.train()\n",
    "    train_loss = 0\n",
    "    train_correct = 0\n",
    "    train_total = 0\n",
    "\n",
    "    for X_batch, y_batch in train_dataloader:\n",
    "        optimizer.zero_grad()\n",
    "\n",
    "        X_batch = torch.from_numpy(X_batch).float().to(device)\n",
    "\n",
    "        # Perform prediction\n",
    "        outputs = model(X_batch)\n",
    "\n",
    "        # Determine the predicted label\n",
    "        probabilities = torch.nn.functional.softmax(outputs, 1)\n",
    "        predictions = torch.argmax(probabilities, axis=1)\n",
    "\n",
    "        # Compute the loss and perform back propagation\n",
    "        y_batch = torch.from_numpy(cell_type_encoder.transform(y_batch['cell_type'])).to(device)\n",
    "        train_correct += (predictions == y_batch).sum().item()\n",
    "        train_total += len(predictions)\n",
    "\n",
    "        loss = loss_fn(outputs, y_batch.long())\n",
    "        train_loss += loss.item()\n",
    "        loss.backward()\n",
    "        optimizer.step()\n",
    "\n",
    "    train_loss /= train_total\n",
    "    train_accuracy = train_correct / train_total\n",
    "    return train_loss, train_accuracy"
   ]
  },
  {
   "cell_type": "code",
   "execution_count": 6,
   "id": "c9cdf62b",
   "metadata": {
    "editable": true,
    "execution": {
     "iopub.execute_input": "2024-12-04T19:38:49.883344Z",
     "iopub.status.busy": "2024-12-04T19:38:49.883094Z",
     "iopub.status.idle": "2024-12-04T19:38:51.707008Z",
     "shell.execute_reply": "2024-12-04T19:38:51.706416Z"
    },
    "papermill": {
     "duration": 1.828451,
     "end_time": "2024-12-04T19:38:51.708553",
     "exception": false,
     "start_time": "2024-12-04T19:38:49.880102",
     "status": "completed"
    },
    "slideshow": {
     "slide_type": ""
    },
    "tags": []
   },
   "outputs": [],
   "source": [
    "# Lightning\n",
    "import pytorch_lightning as pl\n",
    "\n",
    "class LogisticRegressionLightning(pl.LightningModule):\n",
    "    def __init__(self, input_dim, output_dim, cell_type_encoder, learning_rate=learning_rate):\n",
    "        super(LogisticRegressionLightning, self).__init__()\n",
    "        self.linear = torch.nn.Linear(input_dim, output_dim)\n",
    "        self.cell_type_encoder = cell_type_encoder\n",
    "        self.learning_rate = learning_rate\n",
    "        self.loss_fn = torch.nn.CrossEntropyLoss()\n",
    "\n",
    "    def forward(self, x):\n",
    "        outputs = torch.sigmoid(self.linear(x))\n",
    "        return outputs\n",
    "\n",
    "    def training_step(self, batch, batch_idx):\n",
    "        X_batch, y_batch = batch\n",
    "        # X_batch = X_batch.float()\n",
    "        X_batch = torch.from_numpy(X_batch).float().to(self.device)\n",
    "\n",
    "        # Perform prediction\n",
    "        outputs = self(X_batch)\n",
    "\n",
    "        # Determine the predicted label\n",
    "        probabilities = torch.nn.functional.softmax(outputs, 1)\n",
    "        predictions = torch.argmax(probabilities, axis=1)\n",
    "\n",
    "        # Compute loss\n",
    "        y_batch = torch.from_numpy(\n",
    "            self.cell_type_encoder.transform(y_batch[\"cell_type\"])\n",
    "        ).to(self.device)\n",
    "        loss = self.loss_fn(outputs, y_batch.long())\n",
    "\n",
    "        # Compute accuracy\n",
    "        train_correct = (predictions == y_batch).sum().item()\n",
    "        train_accuracy = train_correct / len(predictions)\n",
    "\n",
    "        # Log loss and accuracy\n",
    "        self.log(\"train_loss\", loss, prog_bar=True)\n",
    "        self.log(\"train_accuracy\", train_accuracy, prog_bar=True)\n",
    "\n",
    "        return loss\n",
    "\n",
    "    def configure_optimizers(self):\n",
    "        optimizer = torch.optim.Adam(self.parameters(), lr=self.learning_rate)\n",
    "        return optimizer"
   ]
  },
  {
   "cell_type": "code",
   "execution_count": 7,
   "id": "00033a90",
   "metadata": {
    "editable": true,
    "execution": {
     "iopub.execute_input": "2024-12-04T19:38:51.715316Z",
     "iopub.status.busy": "2024-12-04T19:38:51.714844Z",
     "iopub.status.idle": "2024-12-04T19:38:51.791764Z",
     "shell.execute_reply": "2024-12-04T19:38:51.791237Z"
    },
    "papermill": {
     "duration": 0.081505,
     "end_time": "2024-12-04T19:38:51.792848",
     "exception": false,
     "start_time": "2024-12-04T19:38:51.711343",
     "status": "completed"
    },
    "slideshow": {
     "slide_type": ""
    },
    "tags": []
   },
   "outputs": [
    {
     "name": "stderr",
     "output_type": "stream",
     "text": [
      "GPU available: True (cuda), used: True\n"
     ]
    },
    {
     "name": "stderr",
     "output_type": "stream",
     "text": [
      "TPU available: False, using: 0 TPU cores\n"
     ]
    },
    {
     "name": "stderr",
     "output_type": "stream",
     "text": [
      "HPU available: False, using: 0 HPUs\n"
     ]
    },
    {
     "name": "stderr",
     "output_type": "stream",
     "text": [
      "/home/ubuntu/.pyenv/versions/3.12.7/lib/python3.12/site-packages/pytorch_lightning/trainer/connectors/logger_connector/logger_connector.py:75: Starting from v1.9.0, `tensorboardX` has been removed as a dependency of the `pytorch_lightning` package, due to potential conflicts with other packages in the ML ecosystem. For this reason, `logger=True` will use `CSVLogger` as the default logger, unless the `tensorboard` or `tensorboardX` packages are found. Please `pip install lightning[extra]` or one of them to enable TensorBoard support by default\n"
     ]
    }
   ],
   "source": [
    "if cpu or not torch.cuda.is_available():\n",
    "    device = \"cpu\"\n",
    "else:\n",
    "    device = \"cuda\"\n",
    "device = torch.device(device)\n",
    "input_dim = experiment_dataset.shape[1]\n",
    "output_dim = len(cell_type_encoder.classes_)\n",
    "\n",
    "dl_kwargs = {} if workers is None else dict(num_workers=workers, persistent_workers=True)\n",
    "train_dataloader = soma_ml.experiment_dataloader(experiment_dataset, **dl_kwargs)\n",
    "\n",
    "if lightning:\n",
    "    model = LogisticRegressionLightning(input_dim, output_dim, cell_type_encoder=cell_type_encoder)\n",
    "    trainer = pl.Trainer(\n",
    "        max_epochs=n_epochs,\n",
    "        strategy=\"auto\" if cpu else \"ddp_notebook\",\n",
    "        accelerator=\"cpu\" if cpu else \"gpu\",\n",
    "        devices=1 if cpu else workers or 1,\n",
    "        sync_batchnorm=True if not cpu and workers and workers > 1 else False,\n",
    "        deterministic=True,\n",
    "        max_time=None,\n",
    "        enable_progress_bar=not is_papermill,\n",
    "    )\n",
    "    torch.set_float32_matmul_precision(\"high\")\n",
    "else:\n",
    "    model = LogisticRegression(input_dim, output_dim).to(device)\n",
    "    loss_fn = torch.nn.CrossEntropyLoss()\n",
    "    optimizer = torch.optim.Adam(model.parameters(), lr=learning_rate)"
   ]
  },
  {
   "cell_type": "code",
   "execution_count": 8,
   "id": "4d1af6a3",
   "metadata": {
    "editable": true,
    "execution": {
     "iopub.execute_input": "2024-12-04T19:38:51.799441Z",
     "iopub.status.busy": "2024-12-04T19:38:51.799164Z",
     "iopub.status.idle": "2024-12-04T19:41:15.157102Z",
     "shell.execute_reply": "2024-12-04T19:41:15.156436Z"
    },
    "papermill": {
     "duration": 143.36247,
     "end_time": "2024-12-04T19:41:15.158080",
     "exception": false,
     "start_time": "2024-12-04T19:38:51.795610",
     "status": "completed"
    },
    "slideshow": {
     "slide_type": ""
    },
    "tags": []
   },
   "outputs": [
    {
     "name": "stderr",
     "output_type": "stream",
     "text": [
      "Initializing distributed: GLOBAL_RANK: 0, MEMBER: 1/1\n"
     ]
    },
    {
     "name": "stderr",
     "output_type": "stream",
     "text": [
      "----------------------------------------------------------------------------------------------------\n",
      "distributed_backend=nccl\n",
      "All distributed processes registered. Starting with 1 processes\n",
      "----------------------------------------------------------------------------------------------------\n",
      "\n"
     ]
    },
    {
     "name": "stderr",
     "output_type": "stream",
     "text": [
      "LOCAL_RANK: 0 - CUDA_VISIBLE_DEVICES: [0,1,2,3]\n"
     ]
    },
    {
     "name": "stderr",
     "output_type": "stream",
     "text": [
      "\n",
      "  | Name    | Type             | Params | Mode \n",
      "-----------------------------------------------------\n",
      "0 | linear  | Linear           | 726 K  | train\n",
      "1 | loss_fn | CrossEntropyLoss | 0      | train\n",
      "-----------------------------------------------------\n",
      "726 K     Trainable params\n",
      "0         Non-trainable params\n",
      "726 K     Total params\n",
      "2.905     Total estimated model params size (MB)\n",
      "2         Modules in train mode\n",
      "0         Modules in eval mode\n"
     ]
    },
    {
     "name": "stderr",
     "output_type": "stream",
     "text": [
      "/home/ubuntu/.pyenv/versions/3.12.7/lib/python3.12/site-packages/pytorch_lightning/trainer/connectors/data_connector.py:424: The 'train_dataloader' does not have many workers which may be a bottleneck. Consider increasing the value of the `num_workers` argument` to `num_workers=47` in the `DataLoader` to improve performance.\n"
     ]
    },
    {
     "name": "stderr",
     "output_type": "stream",
     "text": [
      "/home/ubuntu/.pyenv/versions/3.12.7/lib/python3.12/site-packages/pytorch_lightning/utilities/data.py:122: Your `IterableDataset` has `__len__` defined. In combination with multi-process data loading (when num_workers > 1), `__len__` could be inaccurate if each worker is not configured independently to avoid having duplicate data.\n"
     ]
    },
    {
     "data": {
      "application/vnd.jupyter.widget-view+json": {
       "model_id": "6d7c822c5f96452e8bae1f29f4c6390c",
       "version_major": 2,
       "version_minor": 0
      },
      "text/plain": [
       "Training: |                                                                                                   …"
      ]
     },
     "metadata": {},
     "output_type": "display_data"
    },
    {
     "name": "stderr",
     "output_type": "stream",
     "text": [
      "`Trainer.fit` stopped: `max_epochs=20` reached.\n"
     ]
    },
    {
     "name": "stdout",
     "output_type": "stream",
     "text": [
      "CPU times: user 3.27 s, sys: 1.25 s, total: 4.52 s\n",
      "Wall time: 2min 23s\n"
     ]
    }
   ],
   "source": [
    "%%time\n",
    "if lightning:\n",
    "    trainer.fit(model, train_dataloaders=train_dataloader)\n",
    "else:\n",
    "    for epoch in range(n_epochs):\n",
    "        if workers is not None:\n",
    "            experiment_dataset.set_epoch(epoch)\n",
    "        train_loss, train_accuracy = train_epoch(model, train_dataloader, loss_fn, optimizer, device)\n",
    "        print(f\"Epoch {epoch + 1}: Train Loss: {train_loss:.7f} Accuracy {train_accuracy:.4f}\")"
   ]
  },
  {
   "cell_type": "code",
   "execution_count": 9,
   "id": "02040167",
   "metadata": {
    "editable": true,
    "execution": {
     "iopub.execute_input": "2024-12-04T19:41:15.166255Z",
     "iopub.status.busy": "2024-12-04T19:41:15.165953Z",
     "iopub.status.idle": "2024-12-04T19:41:25.253550Z",
     "shell.execute_reply": "2024-12-04T19:41:25.252491Z"
    },
    "papermill": {
     "duration": 10.094879,
     "end_time": "2024-12-04T19:41:25.256705",
     "exception": false,
     "start_time": "2024-12-04T19:41:15.161826",
     "status": "completed"
    },
    "slideshow": {
     "slide_type": ""
    },
    "tags": []
   },
   "outputs": [],
   "source": [
    "# TODO: split train/test\n",
    "test_dataloader = soma_ml.experiment_dataloader(experiment_dataset, **dl_kwargs)\n",
    "X_batch, y_batch = next(iter(test_dataloader))\n",
    "X_batch = torch.from_numpy(X_batch)\n",
    "y_batch = torch.from_numpy(cell_type_encoder.transform(y_batch['cell_type']))"
   ]
  },
  {
   "cell_type": "code",
   "execution_count": 10,
   "id": "838fd186",
   "metadata": {
    "editable": true,
    "execution": {
     "iopub.execute_input": "2024-12-04T19:41:25.265090Z",
     "iopub.status.busy": "2024-12-04T19:41:25.264793Z",
     "iopub.status.idle": "2024-12-04T19:41:25.690562Z",
     "shell.execute_reply": "2024-12-04T19:41:25.689978Z"
    },
    "papermill": {
     "duration": 0.431074,
     "end_time": "2024-12-04T19:41:25.691664",
     "exception": false,
     "start_time": "2024-12-04T19:41:25.260590",
     "status": "completed"
    },
    "slideshow": {
     "slide_type": ""
    },
    "tags": []
   },
   "outputs": [
    {
     "name": "stdout",
     "output_type": "stream",
     "text": [
      "Accuracy: 94.5% (121 correct, 7 incorrect)\n"
     ]
    },
    {
     "data": {
      "text/html": [
       "<div>\n",
       "<style scoped>\n",
       "    .dataframe tbody tr th:only-of-type {\n",
       "        vertical-align: middle;\n",
       "    }\n",
       "\n",
       "    .dataframe tbody tr th {\n",
       "        vertical-align: top;\n",
       "    }\n",
       "\n",
       "    .dataframe thead th {\n",
       "        text-align: right;\n",
       "    }\n",
       "</style>\n",
       "<table border=\"1\" class=\"dataframe\">\n",
       "  <thead>\n",
       "    <tr style=\"text-align: right;\">\n",
       "      <th>predicted cell type</th>\n",
       "      <th>basal cell</th>\n",
       "      <th>epithelial cell</th>\n",
       "      <th>fibroblast</th>\n",
       "      <th>keratinocyte</th>\n",
       "      <th>leukocyte</th>\n",
       "      <th>pericyte</th>\n",
       "      <th>vein endothelial cell</th>\n",
       "    </tr>\n",
       "    <tr>\n",
       "      <th>actual cell type</th>\n",
       "      <th></th>\n",
       "      <th></th>\n",
       "      <th></th>\n",
       "      <th></th>\n",
       "      <th></th>\n",
       "      <th></th>\n",
       "      <th></th>\n",
       "    </tr>\n",
       "  </thead>\n",
       "  <tbody>\n",
       "    <tr>\n",
       "      <th>basal cell</th>\n",
       "      <td>52</td>\n",
       "      <td></td>\n",
       "      <td></td>\n",
       "      <td>2</td>\n",
       "      <td></td>\n",
       "      <td></td>\n",
       "      <td></td>\n",
       "    </tr>\n",
       "    <tr>\n",
       "      <th>endothelial cell of lymphatic vessel</th>\n",
       "      <td></td>\n",
       "      <td></td>\n",
       "      <td></td>\n",
       "      <td></td>\n",
       "      <td></td>\n",
       "      <td></td>\n",
       "      <td>1</td>\n",
       "    </tr>\n",
       "    <tr>\n",
       "      <th>epithelial cell</th>\n",
       "      <td></td>\n",
       "      <td>14</td>\n",
       "      <td></td>\n",
       "      <td></td>\n",
       "      <td></td>\n",
       "      <td></td>\n",
       "      <td></td>\n",
       "    </tr>\n",
       "    <tr>\n",
       "      <th>fibroblast</th>\n",
       "      <td></td>\n",
       "      <td></td>\n",
       "      <td>4</td>\n",
       "      <td></td>\n",
       "      <td></td>\n",
       "      <td></td>\n",
       "      <td></td>\n",
       "    </tr>\n",
       "    <tr>\n",
       "      <th>keratinocyte</th>\n",
       "      <td>2</td>\n",
       "      <td></td>\n",
       "      <td></td>\n",
       "      <td>32</td>\n",
       "      <td></td>\n",
       "      <td></td>\n",
       "      <td></td>\n",
       "    </tr>\n",
       "    <tr>\n",
       "      <th>leukocyte</th>\n",
       "      <td>1</td>\n",
       "      <td>1</td>\n",
       "      <td></td>\n",
       "      <td></td>\n",
       "      <td>15</td>\n",
       "      <td></td>\n",
       "      <td></td>\n",
       "    </tr>\n",
       "    <tr>\n",
       "      <th>pericyte</th>\n",
       "      <td></td>\n",
       "      <td></td>\n",
       "      <td></td>\n",
       "      <td></td>\n",
       "      <td></td>\n",
       "      <td>2</td>\n",
       "      <td></td>\n",
       "    </tr>\n",
       "    <tr>\n",
       "      <th>vein endothelial cell</th>\n",
       "      <td></td>\n",
       "      <td></td>\n",
       "      <td></td>\n",
       "      <td></td>\n",
       "      <td></td>\n",
       "      <td></td>\n",
       "      <td>2</td>\n",
       "    </tr>\n",
       "  </tbody>\n",
       "</table>\n",
       "</div>"
      ],
      "text/plain": [
       "predicted cell type                  basal cell epithelial cell fibroblast  \\\n",
       "actual cell type                                                             \n",
       "basal cell                                   52                              \n",
       "endothelial cell of lymphatic vessel                                         \n",
       "epithelial cell                                              14              \n",
       "fibroblast                                                               4   \n",
       "keratinocyte                                  2                              \n",
       "leukocyte                                     1               1              \n",
       "pericyte                                                                     \n",
       "vein endothelial cell                                                        \n",
       "\n",
       "predicted cell type                  keratinocyte leukocyte pericyte  \\\n",
       "actual cell type                                                       \n",
       "basal cell                                      2                      \n",
       "endothelial cell of lymphatic vessel                                   \n",
       "epithelial cell                                                        \n",
       "fibroblast                                                             \n",
       "keratinocyte                                   32                      \n",
       "leukocyte                                                15            \n",
       "pericyte                                                           2   \n",
       "vein endothelial cell                                                  \n",
       "\n",
       "predicted cell type                  vein endothelial cell  \n",
       "actual cell type                                            \n",
       "basal cell                                                  \n",
       "endothelial cell of lymphatic vessel                     1  \n",
       "epithelial cell                                             \n",
       "fibroblast                                                  \n",
       "keratinocyte                                                \n",
       "leukocyte                                                   \n",
       "pericyte                                                    \n",
       "vein endothelial cell                                    2  "
      ]
     },
     "execution_count": 10,
     "metadata": {},
     "output_type": "execute_result"
    }
   ],
   "source": [
    "import pandas as pd\n",
    "\n",
    "model.eval()\n",
    "model.to(device)\n",
    "outputs = model(X_batch.to(device))\n",
    "probabilities = torch.nn.functional.softmax(outputs, 1)\n",
    "predictions = torch.argmax(probabilities, axis=1)\n",
    "predicted_cell_types = cell_type_encoder.inverse_transform(predictions.cpu())\n",
    "\n",
    "cmp_df = pd.DataFrame({\n",
    "    \"actual cell type\": cell_type_encoder.inverse_transform(y_batch.ravel().numpy()),\n",
    "    \"predicted cell type\": predicted_cell_types,\n",
    "})\n",
    "right, wrong = (cmp_df['actual cell type'] == cmp_df['predicted cell type']).value_counts().values\n",
    "print('Accuracy: %.1f%% (%d correct, %d incorrect)' % (100 * right / len(cmp_df), right, wrong))\n",
    "pd.crosstab(cmp_df['actual cell type'], cmp_df['predicted cell type']).replace(0, '')"
   ]
  },
  {
   "cell_type": "markdown",
   "source": [
    "\tCommand being timed: \"papermill -p tissue tongue -p lightning True benchmark.ipynb tongue/lightning.ipynb\"\n",
    "\tUser time (seconds): 277.46\n",
    "\tSystem time (seconds): 128.43\n",
    "\tPercent of CPU this job got: 246%\n",
    "\tElapsed (wall clock) time (h:mm:ss or m:ss): 2:44.59\n",
    "\tAverage shared text size (kbytes): 0\n",
    "\tAverage unshared data size (kbytes): 0\n",
    "\tAverage stack size (kbytes): 0\n",
    "\tAverage total size (kbytes): 0\n",
    "\tMaximum resident set size (kbytes): 6588404\n",
    "\tAverage resident set size (kbytes): 0\n",
    "\tMajor (requiring I/O) page faults: 0\n",
    "\tMinor (reclaiming a frame) page faults: 18195068\n",
    "\tVoluntary context switches: 559257\n",
    "\tInvoluntary context switches: 11153\n",
    "\tSwaps: 0\n",
    "\tFile system inputs: 0\n",
    "\tFile system outputs: 348336\n",
    "\tSocket messages sent: 0\n",
    "\tSocket messages received: 0\n",
    "\tSignals delivered: 0\n",
    "\tPage size (bytes): 4096\n",
    "\tExit status: 0\n"
   ],
   "metadata": {}
  }
 ],
 "metadata": {
  "kernelspec": {
   "display_name": "Python 3 (ipykernel)",
   "language": "python",
   "name": "python3"
  },
  "language_info": {
   "codemirror_mode": {
    "name": "ipython",
    "version": 3
   },
   "file_extension": ".py",
   "mimetype": "text/x-python",
   "name": "python",
   "nbconvert_exporter": "python",
   "pygments_lexer": "ipython3",
   "version": "3.12.7"
  },
  "papermill": {
   "default_parameters": {},
   "duration": 163.768687,
   "end_time": "2024-12-04T19:41:27.418184",
   "environment_variables": {},
   "exception": null,
   "input_path": "benchmark.ipynb",
   "output_path": "tongue/lightning.ipynb",
   "parameters": {
    "lightning": true,
    "tissue": "tongue"
   },
   "start_time": "2024-12-04T19:38:43.649497",
   "version": "2.6.0"
  },
  "widgets": {
   "application/vnd.jupyter.widget-state+json": {
    "state": {
     "18a6579043b7431d96a3f7742539b12a": {
      "model_module": "@jupyter-widgets/base",
      "model_module_version": "2.0.0",
      "model_name": "LayoutModel",
      "state": {
       "_model_module": "@jupyter-widgets/base",
       "_model_module_version": "2.0.0",
       "_model_name": "LayoutModel",
       "_view_count": null,
       "_view_module": "@jupyter-widgets/base",
       "_view_module_version": "2.0.0",
       "_view_name": "LayoutView",
       "align_content": null,
       "align_items": null,
       "align_self": null,
       "border_bottom": null,
       "border_left": null,
       "border_right": null,
       "border_top": null,
       "bottom": null,
       "display": null,
       "flex": "2",
       "flex_flow": null,
       "grid_area": null,
       "grid_auto_columns": null,
       "grid_auto_flow": null,
       "grid_auto_rows": null,
       "grid_column": null,
       "grid_gap": null,
       "grid_row": null,
       "grid_template_areas": null,
       "grid_template_columns": null,
       "grid_template_rows": null,
       "height": null,
       "justify_content": null,
       "justify_items": null,
       "left": null,
       "margin": null,
       "max_height": null,
       "max_width": null,
       "min_height": null,
       "min_width": null,
       "object_fit": null,
       "object_position": null,
       "order": null,
       "overflow": null,
       "padding": null,
       "right": null,
       "top": null,
       "visibility": null,
       "width": null
      }
     },
     "28d5cd12c2634edc8f2e8f75c5f0e99c": {
      "model_module": "@jupyter-widgets/controls",
      "model_module_version": "2.0.0",
      "model_name": "FloatProgressModel",
      "state": {
       "_dom_classes": [],
       "_model_module": "@jupyter-widgets/controls",
       "_model_module_version": "2.0.0",
       "_model_name": "FloatProgressModel",
       "_view_count": null,
       "_view_module": "@jupyter-widgets/controls",
       "_view_module_version": "2.0.0",
       "_view_name": "ProgressView",
       "bar_style": "success",
       "description": "",
       "description_allow_html": false,
       "layout": "IPY_MODEL_18a6579043b7431d96a3f7742539b12a",
       "max": 118.0,
       "min": 0.0,
       "orientation": "horizontal",
       "style": "IPY_MODEL_ee3c3f8cd9364f75a6c88485872c3882",
       "tabbable": null,
       "tooltip": null,
       "value": 118.0
      }
     },
     "36e2b894906c4e9c975eef55a7c2b8ad": {
      "model_module": "@jupyter-widgets/controls",
      "model_module_version": "2.0.0",
      "model_name": "HTMLStyleModel",
      "state": {
       "_model_module": "@jupyter-widgets/controls",
       "_model_module_version": "2.0.0",
       "_model_name": "HTMLStyleModel",
       "_view_count": null,
       "_view_module": "@jupyter-widgets/base",
       "_view_module_version": "2.0.0",
       "_view_name": "StyleView",
       "background": null,
       "description_width": "",
       "font_size": null,
       "text_color": null
      }
     },
     "44e50279381f44ae9169e456381ea400": {
      "model_module": "@jupyter-widgets/controls",
      "model_module_version": "2.0.0",
      "model_name": "HTMLStyleModel",
      "state": {
       "_model_module": "@jupyter-widgets/controls",
       "_model_module_version": "2.0.0",
       "_model_name": "HTMLStyleModel",
       "_view_count": null,
       "_view_module": "@jupyter-widgets/base",
       "_view_module_version": "2.0.0",
       "_view_name": "StyleView",
       "background": null,
       "description_width": "",
       "font_size": null,
       "text_color": null
      }
     },
     "610a1950f61f46bead34660471a470c9": {
      "model_module": "@jupyter-widgets/controls",
      "model_module_version": "2.0.0",
      "model_name": "HTMLModel",
      "state": {
       "_dom_classes": [],
       "_model_module": "@jupyter-widgets/controls",
       "_model_module_version": "2.0.0",
       "_model_name": "HTMLModel",
       "_view_count": null,
       "_view_module": "@jupyter-widgets/controls",
       "_view_module_version": "2.0.0",
       "_view_name": "HTMLView",
       "description": "",
       "description_allow_html": false,
       "layout": "IPY_MODEL_654433b61a884e36b30c23fd9ce017f1",
       "placeholder": "​",
       "style": "IPY_MODEL_36e2b894906c4e9c975eef55a7c2b8ad",
       "tabbable": null,
       "tooltip": null,
       "value": "Epoch 19: 100%"
      }
     },
     "654433b61a884e36b30c23fd9ce017f1": {
      "model_module": "@jupyter-widgets/base",
      "model_module_version": "2.0.0",
      "model_name": "LayoutModel",
      "state": {
       "_model_module": "@jupyter-widgets/base",
       "_model_module_version": "2.0.0",
       "_model_name": "LayoutModel",
       "_view_count": null,
       "_view_module": "@jupyter-widgets/base",
       "_view_module_version": "2.0.0",
       "_view_name": "LayoutView",
       "align_content": null,
       "align_items": null,
       "align_self": null,
       "border_bottom": null,
       "border_left": null,
       "border_right": null,
       "border_top": null,
       "bottom": null,
       "display": null,
       "flex": null,
       "flex_flow": null,
       "grid_area": null,
       "grid_auto_columns": null,
       "grid_auto_flow": null,
       "grid_auto_rows": null,
       "grid_column": null,
       "grid_gap": null,
       "grid_row": null,
       "grid_template_areas": null,
       "grid_template_columns": null,
       "grid_template_rows": null,
       "height": null,
       "justify_content": null,
       "justify_items": null,
       "left": null,
       "margin": null,
       "max_height": null,
       "max_width": null,
       "min_height": null,
       "min_width": null,
       "object_fit": null,
       "object_position": null,
       "order": null,
       "overflow": null,
       "padding": null,
       "right": null,
       "top": null,
       "visibility": null,
       "width": null
      }
     },
     "6d7c822c5f96452e8bae1f29f4c6390c": {
      "model_module": "@jupyter-widgets/controls",
      "model_module_version": "2.0.0",
      "model_name": "HBoxModel",
      "state": {
       "_dom_classes": [],
       "_model_module": "@jupyter-widgets/controls",
       "_model_module_version": "2.0.0",
       "_model_name": "HBoxModel",
       "_view_count": null,
       "_view_module": "@jupyter-widgets/controls",
       "_view_module_version": "2.0.0",
       "_view_name": "HBoxView",
       "box_style": "",
       "children": [
        "IPY_MODEL_610a1950f61f46bead34660471a470c9",
        "IPY_MODEL_28d5cd12c2634edc8f2e8f75c5f0e99c",
        "IPY_MODEL_8cbffc8f92574752a36482379c6295fd"
       ],
       "layout": "IPY_MODEL_8050a29c772a4e6aafd28e3d6adf696d",
       "tabbable": null,
       "tooltip": null
      }
     },
     "8050a29c772a4e6aafd28e3d6adf696d": {
      "model_module": "@jupyter-widgets/base",
      "model_module_version": "2.0.0",
      "model_name": "LayoutModel",
      "state": {
       "_model_module": "@jupyter-widgets/base",
       "_model_module_version": "2.0.0",
       "_model_name": "LayoutModel",
       "_view_count": null,
       "_view_module": "@jupyter-widgets/base",
       "_view_module_version": "2.0.0",
       "_view_name": "LayoutView",
       "align_content": null,
       "align_items": null,
       "align_self": null,
       "border_bottom": null,
       "border_left": null,
       "border_right": null,
       "border_top": null,
       "bottom": null,
       "display": "inline-flex",
       "flex": null,
       "flex_flow": "row wrap",
       "grid_area": null,
       "grid_auto_columns": null,
       "grid_auto_flow": null,
       "grid_auto_rows": null,
       "grid_column": null,
       "grid_gap": null,
       "grid_row": null,
       "grid_template_areas": null,
       "grid_template_columns": null,
       "grid_template_rows": null,
       "height": null,
       "justify_content": null,
       "justify_items": null,
       "left": null,
       "margin": null,
       "max_height": null,
       "max_width": null,
       "min_height": null,
       "min_width": null,
       "object_fit": null,
       "object_position": null,
       "order": null,
       "overflow": null,
       "padding": null,
       "right": null,
       "top": null,
       "visibility": null,
       "width": "100%"
      }
     },
     "8cbffc8f92574752a36482379c6295fd": {
      "model_module": "@jupyter-widgets/controls",
      "model_module_version": "2.0.0",
      "model_name": "HTMLModel",
      "state": {
       "_dom_classes": [],
       "_model_module": "@jupyter-widgets/controls",
       "_model_module_version": "2.0.0",
       "_model_name": "HTMLModel",
       "_view_count": null,
       "_view_module": "@jupyter-widgets/controls",
       "_view_module_version": "2.0.0",
       "_view_name": "HTMLView",
       "description": "",
       "description_allow_html": false,
       "layout": "IPY_MODEL_d0dea2d7ce404add823afa66d0915eff",
       "placeholder": "​",
       "style": "IPY_MODEL_44e50279381f44ae9169e456381ea400",
       "tabbable": null,
       "tooltip": null,
       "value": " 118/118 [00:06&lt;00:00, 17.35it/s, v_num=20, train_loss=1.660, train_accuracy=0.977]"
      }
     },
     "d0dea2d7ce404add823afa66d0915eff": {
      "model_module": "@jupyter-widgets/base",
      "model_module_version": "2.0.0",
      "model_name": "LayoutModel",
      "state": {
       "_model_module": "@jupyter-widgets/base",
       "_model_module_version": "2.0.0",
       "_model_name": "LayoutModel",
       "_view_count": null,
       "_view_module": "@jupyter-widgets/base",
       "_view_module_version": "2.0.0",
       "_view_name": "LayoutView",
       "align_content": null,
       "align_items": null,
       "align_self": null,
       "border_bottom": null,
       "border_left": null,
       "border_right": null,
       "border_top": null,
       "bottom": null,
       "display": null,
       "flex": null,
       "flex_flow": null,
       "grid_area": null,
       "grid_auto_columns": null,
       "grid_auto_flow": null,
       "grid_auto_rows": null,
       "grid_column": null,
       "grid_gap": null,
       "grid_row": null,
       "grid_template_areas": null,
       "grid_template_columns": null,
       "grid_template_rows": null,
       "height": null,
       "justify_content": null,
       "justify_items": null,
       "left": null,
       "margin": null,
       "max_height": null,
       "max_width": null,
       "min_height": null,
       "min_width": null,
       "object_fit": null,
       "object_position": null,
       "order": null,
       "overflow": null,
       "padding": null,
       "right": null,
       "top": null,
       "visibility": null,
       "width": null
      }
     },
     "ee3c3f8cd9364f75a6c88485872c3882": {
      "model_module": "@jupyter-widgets/controls",
      "model_module_version": "2.0.0",
      "model_name": "ProgressStyleModel",
      "state": {
       "_model_module": "@jupyter-widgets/controls",
       "_model_module_version": "2.0.0",
       "_model_name": "ProgressStyleModel",
       "_view_count": null,
       "_view_module": "@jupyter-widgets/base",
       "_view_module_version": "2.0.0",
       "_view_name": "StyleView",
       "bar_color": null,
       "description_width": ""
      }
     }
    },
    "version_major": 2,
    "version_minor": 0
   }
  }
 },
 "nbformat": 4,
 "nbformat_minor": 5
}